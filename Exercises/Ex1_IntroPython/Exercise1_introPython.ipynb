{
 "cells": [
  {
   "cell_type": "markdown",
   "metadata": {},
   "source": [
    "<div style=\"text-align: right\">\n",
    "    <b>Аудиториска вежба 1;</b><br> \n",
    "    IntroPython1 <br>\n",
    "    <i>2020-09-12 19:28:25</i>\n",
    "</div>\n",
    "<hr>"
   ]
  },
  {
   "cell_type": "markdown",
   "metadata": {
    "heading_collapsed": true,
    "hidden": true
   },
   "source": [
    "## 1.1: Доделување вредности "
   ]
  },
  {
   "cell_type": "markdown",
   "metadata": {
    "hidden": true
   },
   "source": [
    "- Доделување на вредност на променлива во Python значи поставување на **име** (обична променлива) да содржи **референца** до некој објект (доделување креирање референци а не копии)\n",
    "- Имињата немаат подразбирлив (default) тип. Објектите имаат типови\n",
    "- Python го определува типот на референцата автоматски во зависност од типот на обкејтот до кој пристапува референцата \n",
    "- Се креира променлива првиот пат кога ќе се појави од лева страна некој израз за доделување на вредност <br><code> x = 3 </code>\n",
    "\n",
    "- Референците се бришат со garbage collector откако сите променливи кои се поврзани со нив ќе излезат надвор од доменот (out of scope)"
   ]
  },
  {
   "cell_type": "markdown",
   "metadata": {
    "heading_collapsed": true,
    "hidden": true
   },
   "source": [
    "## 1.2: Пристапување до непостоечки променливи "
   ]
  },
  {
   "cell_type": "markdown",
   "metadata": {
    "hidden": true
   },
   "source": [
    "\n",
    "- Ако се пристапи име пред да се креира (со поставување на левата страна на доделување) се добива грешка"
   ]
  },
  {
   "cell_type": "code",
   "execution_count": 1,
   "metadata": {
    "ExecuteTime": {
     "end_time": "2020-09-12T15:48:14.040474Z",
     "start_time": "2020-09-12T15:48:13.933567Z"
    },
    "hidden": true
   },
   "outputs": [
    {
     "ename": "NameError",
     "evalue": "name 'y' is not defined",
     "output_type": "error",
     "traceback": [
      "\u001b[1;31m---------------------------------------------------------------------------\u001b[0m",
      "\u001b[1;31mNameError\u001b[0m                                 Traceback (most recent call last)",
      "\u001b[1;32m<ipython-input-1-9063a9f0e032>\u001b[0m in \u001b[0;36m<module>\u001b[1;34m\u001b[0m\n\u001b[1;32m----> 1\u001b[1;33m \u001b[0my\u001b[0m\u001b[1;33m\u001b[0m\u001b[1;33m\u001b[0m\u001b[0m\n\u001b[0m",
      "\u001b[1;31mNameError\u001b[0m: name 'y' is not defined"
     ]
    }
   ],
   "source": [
    "y"
   ]
  },
  {
   "cell_type": "code",
   "execution_count": 2,
   "metadata": {
    "ExecuteTime": {
     "end_time": "2020-09-12T15:48:14.898306Z",
     "start_time": "2020-09-12T15:48:14.883299Z"
    },
    "hidden": true
   },
   "outputs": [
    {
     "data": {
      "text/plain": [
       "3"
      ]
     },
     "execution_count": 2,
     "metadata": {},
     "output_type": "execute_result"
    }
   ],
   "source": [
    "y=3\n",
    "y"
   ]
  },
  {
   "cell_type": "markdown",
   "metadata": {
    "heading_collapsed": true,
    "hidden": true
   },
   "source": [
    "### Повеќекратно доделување \n",
    "- Може да се доделуваат вредности на повеќе променливи истовремено"
   ]
  },
  {
   "cell_type": "code",
   "execution_count": 6,
   "metadata": {
    "ExecuteTime": {
     "end_time": "2020-09-12T15:48:16.319843Z",
     "start_time": "2020-09-12T15:48:16.307562Z"
    },
    "hidden": true
   },
   "outputs": [],
   "source": [
    "x, y = 2, 3"
   ]
  },
  {
   "cell_type": "code",
   "execution_count": 7,
   "metadata": {
    "ExecuteTime": {
     "end_time": "2020-09-12T15:48:16.784032Z",
     "start_time": "2020-09-12T15:48:16.771470Z"
    },
    "hidden": true
   },
   "outputs": [
    {
     "data": {
      "text/plain": [
       "2"
      ]
     },
     "execution_count": 7,
     "metadata": {},
     "output_type": "execute_result"
    }
   ],
   "source": [
    "x"
   ]
  },
  {
   "cell_type": "code",
   "execution_count": 8,
   "metadata": {
    "ExecuteTime": {
     "end_time": "2020-09-12T15:48:17.270273Z",
     "start_time": "2020-09-12T15:48:17.259087Z"
    },
    "hidden": true
   },
   "outputs": [
    {
     "data": {
      "text/plain": [
       "3"
      ]
     },
     "execution_count": 8,
     "metadata": {},
     "output_type": "execute_result"
    }
   ],
   "source": [
    "y"
   ]
  },
  {
   "cell_type": "markdown",
   "metadata": {},
   "source": [
    "Смени променливи "
   ]
  },
  {
   "cell_type": "code",
   "execution_count": 9,
   "metadata": {},
   "outputs": [
    {
     "name": "stdout",
     "output_type": "stream",
     "text": [
      "x:  3\n",
      "y:  2\n"
     ]
    }
   ],
   "source": [
    "x, y = y, x\n",
    "print(\"x: \", x)\n",
    "print(\"y: \", y)"
   ]
  },
  {
   "cell_type": "markdown",
   "metadata": {
    "heading_collapsed": true,
    "hidden": true
   },
   "source": [
    "### Правила за именување на променливи \n",
    "- Имињата на променливите се осетливи на големината на буквите (case sensitive) и не може да започнуваат со цифра. Може да содржат букви, цифри, долни црти <br>\n",
    "<code> bob,  Bob,  _bob,  __2_bob,  BoB </code>\n",
    "- Постојат резервирани зборови кои не може да се употребуваат како: <br> \n",
    "<code><b>and, assert, break, class, def, for, from. try, while, print</b> ...</code> "
   ]
  },
  {
   "cell_type": "markdown",
   "metadata": {
    "heading_collapsed": true
   },
   "source": [
    "# 2: Референците во Python\n",
    "<hr>"
   ]
  },
  {
   "cell_type": "markdown",
   "metadata": {
    "heading_collapsed": true,
    "hidden": true
   },
   "source": [
    "## 2.1: Референци "
   ]
  },
  {
   "cell_type": "markdown",
   "metadata": {
    "hidden": true
   },
   "source": [
    "- **Доделувањето** манипулира со референцата \n",
    " - <code>x = y</code> не прави копија од објектот кој го рефенцира <code>y</code>\n",
    " - <code>x = y</code> прави <code>x</code> да го рефенцира истиот објект кој го рефенцира и <code>y</code>\n",
    "- Многу корисно е да се манипулира, меѓутоа треба да се внимава! \n",
    "- Пример:"
   ]
  },
  {
   "cell_type": "code",
   "execution_count": 6,
   "metadata": {
    "ExecuteTime": {
     "end_time": "2020-09-12T15:48:25.058586Z",
     "start_time": "2020-09-12T15:48:25.045828Z"
    },
    "hidden": true
   },
   "outputs": [
    {
     "data": {
      "text/plain": [
       "[1, 2, 3, 4]"
      ]
     },
     "execution_count": 6,
     "metadata": {},
     "output_type": "execute_result"
    }
   ],
   "source": [
    "a = [1, 2, 3]  # a ја референцира листата [1,2,3]\n",
    "b = a          # b сега е референца на тоа што а е референца \n",
    "a.append(4)    # овој чекор ја менува листата на која a и b се референца\n",
    "b              # се гледа дека и b е променета"
   ]
  },
  {
   "cell_type": "markdown",
   "metadata": {
    "heading_collapsed": true,
    "hidden": true
   },
   "source": [
    "## 2.2: Семантика"
   ]
  },
  {
   "cell_type": "markdown",
   "metadata": {
    "hidden": true
   },
   "source": [
    "- Пример кога се извршува следната наредба се случуваат повеќе работи: <code>x=3</code>\n",
    "\n",
    "\n",
    "1. Се креира цел број (integer) 3 и се зачувува во меморија \n",
    "2. Се креира променлива <code>x</code>\n",
    "3. На променливата <code>x</code> се доделува **референца** до мемориска локација каде се чува 3\n",
    "\n",
    "\n",
    "- Односно, кога кажуваме дека вредноста на <code>x</code> е еднаква на 3, сакаме да кажеме дека <code>x</code> покажува кон integer објект со вредност 3\n",
    "\n",
    "<p align=\"center\">\n",
    "<img src=\"images\\1.png\" style=\"width:45%;\">\n",
    "</p>\n",
    "\n",
    "- Податокот 3 што го креиравме е од тип integer. Во Python, типовите integer, float и string (и tuple) се **НЕМУТИРАЧКИ**: не можеме да ја променуваме нивната вредност "
   ]
  },
  {
   "cell_type": "code",
   "execution_count": 7,
   "metadata": {
    "ExecuteTime": {
     "end_time": "2020-09-12T15:48:30.619990Z",
     "start_time": "2020-09-12T15:48:30.608847Z"
    },
    "hidden": true
   },
   "outputs": [
    {
     "name": "stdout",
     "output_type": "stream",
     "text": [
      "4\n"
     ]
    }
   ],
   "source": [
    "x = 3\n",
    "x = x + 1\n",
    "print(x)"
   ]
  },
  {
   "cell_type": "markdown",
   "metadata": {
    "hidden": true
   },
   "source": [
    "- Вшусност што се случува коа се зголеува <code>x = x + 1</code>: \n",
    " - 1: Се наоѓа референцата на променливата <code>x</code>\n",
    " - 2: Се зема вредноста кон која покажува таа референца \n",
    "\n",
    "<p align=\"center\">\n",
    "<img src=\"images\\1.png\" style=\"width:45%;\">\n",
    "</p>\n",
    " \n",
    " - 3: Се пресметува <code>3+1</code> со што се добива нов податочен елемент <code>4</code> кој се чува на нова мемориска локација со нова референца \n",
    " \n",
    "<p align=\"center\">\n",
    "<img src=\"images\\2.png\" style=\"width:45%;\">\n",
    "</p>\n",
    "\n",
    " - 4: Се променува променливата <code>x</code> да покажува кон новата референца (новата мемориска локација) \n",
    " \n",
    "<p align=\"center\">\n",
    "<img src=\"images\\3.png\" style=\"width:45%;\">\n",
    "</p>\n",
    " \n",
    " - 5: **Garbage collector**-от ја брише вредноста <code>3</code> ако ве\n",
    " е никоја друга променлива не ја референцра \n",
    " \n",
    "<p align=\"center\">\n",
    "<img src=\"images\\4.png\" style=\"width:45%;\">\n",
    "</p>\n",
    " \n",
    " "
   ]
  },
  {
   "cell_type": "markdown",
   "metadata": {
    "heading_collapsed": true,
    "hidden": true
   },
   "source": [
    "## 2.3: Доделување вредности (immutable) "
   ]
  },
  {
   "cell_type": "markdown",
   "metadata": {
    "hidden": true
   },
   "source": [
    "- За едноставни вградени податочни типови (integer, float, стрингови), доделувањето се однесува како што очекуваме"
   ]
  },
  {
   "cell_type": "code",
   "execution_count": 8,
   "metadata": {
    "ExecuteTime": {
     "end_time": "2020-09-12T15:48:37.183749Z",
     "start_time": "2020-09-12T15:48:37.170939Z"
    },
    "hidden": true
   },
   "outputs": [
    {
     "name": "stdout",
     "output_type": "stream",
     "text": [
      "3\n"
     ]
    }
   ],
   "source": [
    "x = 3         # Креирај променлива x, што е референца на 3\n",
    "print(x)      # Принтај х, нема никаков ефект сеуште е референца на 3\n",
    "y = x         # Креирај променлива y, што исто е референца на 3"
   ]
  },
  {
   "cell_type": "markdown",
   "metadata": {
    "hidden": true
   },
   "source": [
    "  <p align=\"center\">\n",
    "<img src=\"images\\5.png\" style=\"width:45%;\">\n",
    "</p>"
   ]
  },
  {
   "cell_type": "code",
   "execution_count": 9,
   "metadata": {
    "ExecuteTime": {
     "end_time": "2020-09-12T15:48:42.164761Z",
     "start_time": "2020-09-12T15:48:42.159372Z"
    },
    "hidden": true
   },
   "outputs": [],
   "source": [
    "y = 4         # Креирај референца за 4, се менува референцата од 3     "
   ]
  },
  {
   "cell_type": "markdown",
   "metadata": {
    "hidden": true
   },
   "source": [
    "  <p align=\"center\">\n",
    "<img src=\"images\\6.png\" style=\"width:45%;\">\n",
    "</p>"
   ]
  },
  {
   "cell_type": "markdown",
   "metadata": {
    "heading_collapsed": true,
    "hidden": true
   },
   "source": [
    "## 2.4: Доделување вредности (mutable)"
   ]
  },
  {
   "cell_type": "markdown",
   "metadata": {
    "hidden": true
   },
   "source": [
    "- За останатите податочни типови (листи, реченици, кориснички дефинирани типови) доделувањето вредности се прави поинаку: \n",
    " - Овие податочни типови се **МУТАБИЛНИ**\n",
    " - Кога се прави промена на вредностите тоа се прави на истата мемориска локација \n",
    " - Не се копираат на нова мемориска локација секој пат \n",
    " - Ако напишеме: <code>y = x</code> а потоа го промениме <code>y</code>, се менуваат и <code>x</code> и <code>y</code>"
   ]
  },
  {
   "cell_type": "code",
   "execution_count": 10,
   "metadata": {
    "ExecuteTime": {
     "end_time": "2020-09-12T15:48:46.482556Z",
     "start_time": "2020-09-12T15:48:46.470714Z"
    },
    "hidden": true
   },
   "outputs": [
    {
     "name": "stdout",
     "output_type": "stream",
     "text": [
      "3\n"
     ]
    }
   ],
   "source": [
    "# Пример за immutable објекти\n",
    "x = 3\n",
    "y = x\n",
    "y = 4\n",
    "print(x)"
   ]
  },
  {
   "cell_type": "code",
   "execution_count": 11,
   "metadata": {
    "ExecuteTime": {
     "end_time": "2020-09-12T15:48:48.583388Z",
     "start_time": "2020-09-12T15:48:48.571009Z"
    },
    "hidden": true
   },
   "outputs": [
    {
     "name": "stdout",
     "output_type": "stream",
     "text": [
      "a = [1, 2, 3, 4]\n",
      "b = [1, 2, 3, 4]\n"
     ]
    }
   ],
   "source": [
    "# Пример за mutable објекти \n",
    "a = [1, 2, 3]\n",
    "b = a\n",
    "a.append(4)\n",
    "print(\"a = {}\".format(a))\n",
    "print(\"b = {}\".format(b))"
   ]
  },
  {
   "cell_type": "markdown",
   "metadata": {
    "hidden": true
   },
   "source": [
    "  <p align=\"center\">\n",
    "<img src=\"images\\7.png\" style=\"width:45%;\">\n",
    "</p>"
   ]
  },
  {
   "cell_type": "markdown",
   "metadata": {
    "heading_collapsed": true
   },
   "source": [
    "# 3: Секвенциски типови\n",
    "<hr>"
   ]
  },
  {
   "cell_type": "markdown",
   "metadata": {
    "heading_collapsed": true,
    "hidden": true
   },
   "source": [
    "## 3.1: Типови (<code>Tuple</code>, <code>List</code>, <code>String</code>)"
   ]
  },
  {
   "cell_type": "markdown",
   "metadata": {
    "ExecuteTime": {
     "end_time": "2020-09-12T13:42:59.997910Z",
     "start_time": "2020-09-12T13:42:59.987673Z"
    },
    "hidden": true
   },
   "source": [
    "1. Торка (<code>Tuple</code>) \n",
    " - **НЕМУТИРАЧКА** подредена секвенца на елементи (items) \n",
    " - Елементите може да  бидат од мешани типови, вклучително и секвенциски типови\n",
    " \n",
    " \n",
    "2. Стринг (<code>String</code>)\n",
    " - **НЕМУТИРАЧКА**\n",
    " - Концептуално слично со торките \n",
    "\n",
    "\n",
    "3. Листа (<code>List</code>) \n",
    " - **МУТИРАЧКА** подредена секвенца од елементи од мешани типови "
   ]
  },
  {
   "cell_type": "markdown",
   "metadata": {
    "hidden": true
   },
   "source": [
    "- **Торки** се дефинираат со употреба на мали загради: "
   ]
  },
  {
   "cell_type": "code",
   "execution_count": 25,
   "metadata": {
    "ExecuteTime": {
     "end_time": "2020-09-12T15:48:58.514073Z",
     "start_time": "2020-09-12T15:48:58.508915Z"
    },
    "hidden": true
   },
   "outputs": [
    {
     "data": {
      "text/plain": [
       "'abc'"
      ]
     },
     "execution_count": 25,
     "metadata": {},
     "output_type": "execute_result"
    }
   ],
   "source": [
    "tu = (23, 'abc', 4.56, (2,3), 'def')\n",
    "tu[1]                             # Втор елемент во торка "
   ]
  },
  {
   "cell_type": "markdown",
   "metadata": {
    "hidden": true
   },
   "source": [
    "- **Листите** се дефинираат со квадратни (средни) загради: "
   ]
  },
  {
   "cell_type": "code",
   "execution_count": 13,
   "metadata": {
    "ExecuteTime": {
     "end_time": "2020-09-12T15:49:00.394798Z",
     "start_time": "2020-09-12T15:49:00.386861Z"
    },
    "hidden": true
   },
   "outputs": [
    {
     "data": {
      "text/plain": [
       "34"
      ]
     },
     "execution_count": 13,
     "metadata": {},
     "output_type": "execute_result"
    }
   ],
   "source": [
    "li = [\"abc\", 34, 4.2, [12]]\n",
    "li[1]                            # Втор елемент во листа  "
   ]
  },
  {
   "cell_type": "markdown",
   "metadata": {
    "hidden": true
   },
   "source": [
    "- **Стринговите** се дефинираат со наводници (сеедно е дали \"\", ''): "
   ]
  },
  {
   "cell_type": "code",
   "execution_count": 23,
   "metadata": {
    "ExecuteTime": {
     "end_time": "2020-09-12T15:49:14.868248Z",
     "start_time": "2020-09-12T15:49:14.860112Z"
    },
    "hidden": true
   },
   "outputs": [],
   "source": [
    "str1 = \"hello\"\n",
    "str2 = 'hello'\n",
    "str3 = \"\"\" Ova e string vo poveke \n",
    "redovi bukvalno bez vrska se koristat 3 navodnici\"\"\""
   ]
  },
  {
   "cell_type": "code",
   "execution_count": 15,
   "metadata": {
    "ExecuteTime": {
     "end_time": "2020-09-12T15:49:16.009211Z",
     "start_time": "2020-09-12T15:49:15.995966Z"
    },
    "hidden": true
   },
   "outputs": [
    {
     "data": {
      "text/plain": [
       "' Ova e string vo poveke \\nredovi bukvalno bez vrska se koristat 3 navodnici'"
      ]
     },
     "execution_count": 15,
     "metadata": {},
     "output_type": "execute_result"
    }
   ],
   "source": [
    "str3"
   ]
  },
  {
   "cell_type": "code",
   "execution_count": 16,
   "metadata": {
    "ExecuteTime": {
     "end_time": "2020-09-12T15:49:16.922559Z",
     "start_time": "2020-09-12T15:49:16.909156Z"
    },
    "hidden": true
   },
   "outputs": [
    {
     "data": {
      "text/plain": [
       "'e'"
      ]
     },
     "execution_count": 16,
     "metadata": {},
     "output_type": "execute_result"
    }
   ],
   "source": [
    "str1[1]                            # Втор елемент во str1   "
   ]
  },
  {
   "cell_type": "markdown",
   "metadata": {
    "heading_collapsed": true,
    "hidden": true
   },
   "source": [
    "## 3.2: Indexing"
   ]
  },
  {
   "cell_type": "markdown",
   "metadata": {
    "hidden": true
   },
   "source": [
    "<div style=\"text-align: right\"><i>Индексирање</i></div>"
   ]
  },
  {
   "cell_type": "markdown",
   "metadata": {
    "hidden": true
   },
   "source": [
    "  <p align=\"center\">\n",
    "<img src=\"images\\8.png\" style=\"width:45%;\">\n",
    "</p>"
   ]
  },
  {
   "cell_type": "markdown",
   "metadata": {
    "hidden": true
   },
   "source": [
    "Позитивен индекс: број на елементи од лево, почнувајќи од 0"
   ]
  },
  {
   "cell_type": "code",
   "execution_count": 17,
   "metadata": {
    "ExecuteTime": {
     "end_time": "2020-09-12T15:49:19.795920Z",
     "start_time": "2020-09-12T15:49:19.783611Z"
    },
    "hidden": true
   },
   "outputs": [
    {
     "data": {
      "text/plain": [
       "'abc'"
      ]
     },
     "execution_count": 17,
     "metadata": {},
     "output_type": "execute_result"
    }
   ],
   "source": [
    "tu[1]                            # Втор елемент од напред во торка               "
   ]
  },
  {
   "cell_type": "code",
   "execution_count": 18,
   "metadata": {
    "ExecuteTime": {
     "end_time": "2020-09-12T15:49:20.291398Z",
     "start_time": "2020-09-12T15:49:20.282403Z"
    },
    "hidden": true
   },
   "outputs": [
    {
     "data": {
      "text/plain": [
       "'def'"
      ]
     },
     "execution_count": 18,
     "metadata": {},
     "output_type": "execute_result"
    }
   ],
   "source": [
    "tu[-1]                            # Прв елемент од позади во торка   "
   ]
  },
  {
   "cell_type": "markdown",
   "metadata": {
    "heading_collapsed": true,
    "hidden": true
   },
   "source": [
    "## 3.3: Slicing"
   ]
  },
  {
   "cell_type": "markdown",
   "metadata": {
    "hidden": true
   },
   "source": [
    "<div style=\"text-align: right\"><i>Потсекување</i></div>"
   ]
  },
  {
   "cell_type": "markdown",
   "metadata": {
    "hidden": true
   },
   "source": [
    "Добивање на копија од секвенца со подмножество од оргиналните членови (индексирање на цели подмножества од елемент). \n",
    "\n",
    "Потсекувањето изгледа вака: <code>[start: stop: step]</code>\n",
    "- <code>start</code>: индексот од каде да започне потсекувањето \n",
    "- <code>stop</code>: индексот до каде да заврши потсекувањето (пред тој) \n",
    "- <code>step</code>: големината на \"скокот\" (може и негативен)"
   ]
  },
  {
   "cell_type": "code",
   "execution_count": 24,
   "metadata": {
    "ExecuteTime": {
     "end_time": "2020-09-12T15:49:24.982035Z",
     "start_time": "2020-09-12T15:49:24.970042Z"
    },
    "hidden": true
   },
   "outputs": [
    {
     "ename": "NameError",
     "evalue": "name 'tu' is not defined",
     "output_type": "error",
     "traceback": [
      "\u001b[1;31m---------------------------------------------------------------------------\u001b[0m",
      "\u001b[1;31mNameError\u001b[0m                                 Traceback (most recent call last)",
      "\u001b[1;32m<ipython-input-24-63106325312d>\u001b[0m in \u001b[0;36m<module>\u001b[1;34m\u001b[0m\n\u001b[1;32m----> 1\u001b[1;33m \u001b[0mtu\u001b[0m\u001b[1;33m[\u001b[0m\u001b[1;36m1\u001b[0m\u001b[1;33m:\u001b[0m\u001b[1;36m4\u001b[0m\u001b[1;33m]\u001b[0m                            \u001b[1;31m# 1-3 елемент\u001b[0m\u001b[1;33m\u001b[0m\u001b[1;33m\u001b[0m\u001b[0m\n\u001b[0m",
      "\u001b[1;31mNameError\u001b[0m: name 'tu' is not defined"
     ]
    }
   ],
   "source": [
    "tu[1:4]                            # 1-3 елемент "
   ]
  },
  {
   "cell_type": "code",
   "execution_count": 20,
   "metadata": {
    "ExecuteTime": {
     "end_time": "2020-09-12T15:49:25.919058Z",
     "start_time": "2020-09-12T15:49:25.908867Z"
    },
    "hidden": true
   },
   "outputs": [
    {
     "data": {
      "text/plain": [
       "(23, 'abc', 4.56, (2, 3), 'def')"
      ]
     },
     "execution_count": 20,
     "metadata": {},
     "output_type": "execute_result"
    }
   ],
   "source": [
    "tu[::]                            # нема колемина на скок-регуларен објект  "
   ]
  },
  {
   "cell_type": "code",
   "execution_count": 21,
   "metadata": {
    "ExecuteTime": {
     "end_time": "2020-09-12T15:49:28.578492Z",
     "start_time": "2020-09-12T15:49:28.571104Z"
    },
    "hidden": true
   },
   "outputs": [
    {
     "data": {
      "text/plain": [
       "('def', (2, 3), 4.56, 'abc', 23)"
      ]
     },
     "execution_count": 21,
     "metadata": {},
     "output_type": "execute_result"
    }
   ],
   "source": [
    "tu[::-1]                         # интересна финта за обратен објект од даден"
   ]
  },
  {
   "cell_type": "code",
   "execution_count": 22,
   "metadata": {
    "ExecuteTime": {
     "end_time": "2020-09-12T15:49:29.245706Z",
     "start_time": "2020-09-12T15:49:29.232833Z"
    },
    "hidden": true
   },
   "outputs": [
    {
     "data": {
      "text/plain": [
       "(23, 'abc', 4.56, (2, 3), 'def')"
      ]
     },
     "execution_count": 22,
     "metadata": {},
     "output_type": "execute_result"
    }
   ],
   "source": [
    "tu[:]                          # се користи за да се копира целата секвенца   "
   ]
  },
  {
   "cell_type": "markdown",
   "metadata": {
    "hidden": true
   },
   "source": [
    "Кај мутирачките секвенци следниве две наредби се различни: "
   ]
  },
  {
   "cell_type": "code",
   "execution_count": 33,
   "metadata": {
    "ExecuteTime": {
     "end_time": "2020-09-12T15:49:31.283978Z",
     "start_time": "2020-09-12T15:49:31.271872Z"
    },
    "hidden": true
   },
   "outputs": [],
   "source": [
    "lista1 = [1, 1]                           \n",
    "lista2 = lista1                # 2 променливи->иста референца\n",
    "lista3 = lista1[:]             # 2 променливи->различни референци "
   ]
  },
  {
   "cell_type": "markdown",
   "metadata": {
    "heading_collapsed": true,
    "hidden": true
   },
   "source": [
    "## 3.4: <code>in</code>"
   ]
  },
  {
   "cell_type": "markdown",
   "metadata": {
    "hidden": true
   },
   "source": [
    "- Логичко тестирање за проверка на припадност на одредена вредност во контејнер"
   ]
  },
  {
   "cell_type": "code",
   "execution_count": 24,
   "metadata": {
    "ExecuteTime": {
     "end_time": "2020-09-12T15:53:58.736624Z",
     "start_time": "2020-09-12T15:53:58.728933Z"
    },
    "hidden": true
   },
   "outputs": [],
   "source": [
    "t = [1, 2, 4, 5]"
   ]
  },
  {
   "cell_type": "code",
   "execution_count": 38,
   "metadata": {
    "ExecuteTime": {
     "end_time": "2020-09-12T15:54:56.173098Z",
     "start_time": "2020-09-12T15:54:56.160513Z"
    },
    "hidden": true
   },
   "outputs": [
    {
     "name": "stdout",
     "output_type": "stream",
     "text": [
      "Is 3 in 5: True\n",
      "Is 4 in 5: True\n"
     ]
    }
   ],
   "source": [
    "print(\"Is 3 in 5: {}\".format(3 in t))\n",
    "print(\"Is 4 in 5: {}\".format(4 in t))"
   ]
  },
  {
   "cell_type": "markdown",
   "metadata": {
    "hidden": true
   },
   "source": [
    "- За стрингови, проверка на подстрингови "
   ]
  },
  {
   "cell_type": "code",
   "execution_count": 41,
   "metadata": {
    "ExecuteTime": {
     "end_time": "2020-09-12T15:56:26.886335Z",
     "start_time": "2020-09-12T15:56:26.874025Z"
    },
    "hidden": true
   },
   "outputs": [
    {
     "name": "stdout",
     "output_type": "stream",
     "text": [
      "Is 'c' in a: True\n",
      "Is 'cd' in a: True\n",
      "Is 'abcf' in a: True\n"
     ]
    }
   ],
   "source": [
    "a = 'aoisjdoiajsdoijabcfcdeoiajsoidjaiosjd'\n",
    "print(\"Is 'c' in a: {}\".format('c' in a))\n",
    "print(\"Is 'cd' in a: {}\".format('cd' in a))\n",
    "print(\"Is 'abcf' in a: {}\".format('abcf' in a))"
   ]
  },
  {
   "cell_type": "markdown",
   "metadata": {
    "hidden": true
   },
   "source": [
    "- Клучниот збор <code>in</code> се употребува за циклуси и за листи"
   ]
  },
  {
   "cell_type": "markdown",
   "metadata": {
    "heading_collapsed": true,
    "hidden": true
   },
   "source": [
    "## 3.5: <code>+</code>"
   ]
  },
  {
   "cell_type": "markdown",
   "metadata": {
    "hidden": true
   },
   "source": [
    "Операторот <code>+</code> дава нова торка, листа или стринг чија вредност е спојување на последните два аргумети "
   ]
  },
  {
   "cell_type": "code",
   "execution_count": 29,
   "metadata": {
    "ExecuteTime": {
     "end_time": "2020-09-12T15:58:24.659774Z",
     "start_time": "2020-09-12T15:58:24.645844Z"
    },
    "hidden": true
   },
   "outputs": [
    {
     "data": {
      "text/plain": [
       "(1, 2, 3, 4, 5, 6)"
      ]
     },
     "execution_count": 29,
     "metadata": {},
     "output_type": "execute_result"
    }
   ],
   "source": [
    "(1, 2, 3) + (4, 5, 6)"
   ]
  },
  {
   "cell_type": "code",
   "execution_count": 30,
   "metadata": {
    "ExecuteTime": {
     "end_time": "2020-09-12T15:58:36.311618Z",
     "start_time": "2020-09-12T15:58:36.299598Z"
    },
    "hidden": true
   },
   "outputs": [
    {
     "data": {
      "text/plain": [
       "[1, 2, 3, 4, 5, 6]"
      ]
     },
     "execution_count": 30,
     "metadata": {},
     "output_type": "execute_result"
    }
   ],
   "source": [
    "[1, 2, 3] + [4, 5, 6]"
   ]
  },
  {
   "cell_type": "code",
   "execution_count": 33,
   "metadata": {
    "ExecuteTime": {
     "end_time": "2020-09-12T15:59:19.911876Z",
     "start_time": "2020-09-12T15:59:19.899639Z"
    },
    "hidden": true
   },
   "outputs": [
    {
     "data": {
      "text/plain": [
       "\"What's going on\""
      ]
     },
     "execution_count": 33,
     "metadata": {},
     "output_type": "execute_result"
    }
   ],
   "source": [
    "\"What's\" + \" going\" + \" on\""
   ]
  },
  {
   "cell_type": "markdown",
   "metadata": {
    "heading_collapsed": true,
    "hidden": true
   },
   "source": [
    "## 3.6: <code>*</code>"
   ]
  },
  {
   "cell_type": "markdown",
   "metadata": {
    "hidden": true
   },
   "source": [
    "Операторот <code>*</code> дава нова торка, листа или стринг кој го повторува првиот операнд онолку пати колку што е вредноста на вториот операнд"
   ]
  },
  {
   "cell_type": "code",
   "execution_count": 35,
   "metadata": {
    "ExecuteTime": {
     "end_time": "2020-09-12T16:00:36.987018Z",
     "start_time": "2020-09-12T16:00:36.974790Z"
    },
    "hidden": true
   },
   "outputs": [
    {
     "data": {
      "text/plain": [
       "(1, 2, 3, 1, 2, 3, 1, 2, 3)"
      ]
     },
     "execution_count": 35,
     "metadata": {},
     "output_type": "execute_result"
    }
   ],
   "source": [
    "(1, 2, 3) * 3"
   ]
  },
  {
   "cell_type": "code",
   "execution_count": 36,
   "metadata": {
    "ExecuteTime": {
     "end_time": "2020-09-12T16:00:54.964237Z",
     "start_time": "2020-09-12T16:00:54.950509Z"
    },
    "hidden": true
   },
   "outputs": [
    {
     "data": {
      "text/plain": [
       "[1, 2, 3, 1, 2, 3]"
      ]
     },
     "execution_count": 36,
     "metadata": {},
     "output_type": "execute_result"
    }
   ],
   "source": [
    "[1, 2, 3] * 2"
   ]
  },
  {
   "cell_type": "code",
   "execution_count": 37,
   "metadata": {
    "ExecuteTime": {
     "end_time": "2020-09-12T16:01:08.476123Z",
     "start_time": "2020-09-12T16:01:08.463026Z"
    },
    "hidden": true
   },
   "outputs": [
    {
     "data": {
      "text/plain": [
       "'Coding is fun! Coding is fun! '"
      ]
     },
     "execution_count": 37,
     "metadata": {},
     "output_type": "execute_result"
    }
   ],
   "source": [
    "\"Coding is fun! \" * 2"
   ]
  },
  {
   "cell_type": "markdown",
   "metadata": {
    "heading_collapsed": true
   },
   "source": [
    "# 4: Повеќе за <code>Tuples</code>, <code>Lists</code> \n",
    "<hr>"
   ]
  },
  {
   "cell_type": "markdown",
   "metadata": {
    "heading_collapsed": true,
    "hidden": true
   },
   "source": [
    "## 4.1: <code>Tuples</code> vs. <code>Lists</code>"
   ]
  },
  {
   "cell_type": "markdown",
   "metadata": {
    "hidden": true
   },
   "source": [
    "<code>Tuples</code> се **НЕМУТАБИЛНИ**, т.е. не може да се менуваат (не може да се додава елемент или да се брише. Доколку сакаме да ја смениме торката мора да се додели на некоја нова променлива"
   ]
  },
  {
   "cell_type": "code",
   "execution_count": 47,
   "metadata": {
    "ExecuteTime": {
     "end_time": "2020-09-12T16:07:14.346758Z",
     "start_time": "2020-09-12T16:07:14.338330Z"
    },
    "hidden": true
   },
   "outputs": [
    {
     "name": "stdout",
     "output_type": "stream",
     "text": [
      "(23, 'ab', 31)\n"
     ]
    }
   ],
   "source": [
    "t = (23, 'ab', 3.1)\n",
    "t1 = (23, 'ab', 31)\n",
    "t = t1\n",
    "print(t)"
   ]
  },
  {
   "cell_type": "markdown",
   "metadata": {
    "hidden": true
   },
   "source": [
    "<code>Lists</code> се **МУТАБИЛНИ**, т.е. може да се менуваат (може да се додава елемент или да се брише, може да се менуваат директно. "
   ]
  },
  {
   "cell_type": "code",
   "execution_count": 39,
   "metadata": {
    "ExecuteTime": {
     "end_time": "2020-09-12T16:08:32.441603Z",
     "start_time": "2020-09-12T16:08:32.428331Z"
    },
    "hidden": true
   },
   "outputs": [
    {
     "data": {
      "text/plain": [
       "['abc', 0, 3]"
      ]
     },
     "execution_count": 39,
     "metadata": {},
     "output_type": "execute_result"
    }
   ],
   "source": [
    "li = ['abc', 23, 3]\n",
    "li[1] = 0\n",
    "li"
   ]
  },
  {
   "cell_type": "markdown",
   "metadata": {
    "hidden": true
   },
   "source": [
    "Променливата се уште покажува на истата мемориска локација не се создава нова референца. Мутабилноста на листите има цена и затоа се *побавни* од торките.\n",
    "\n",
    "- Иако листите се побавни од торките, тие се помоќни \n",
    " - Листите може да се менуваат и постојоат повеќе операции ко може да се извршуваат над нив \n",
    " - Торките се немутирчаки, но побрзи и подржуваат помалку операции \n",
    "- Може да се направи **конверзија** од еден во друг тип со ф-циите: "
   ]
  },
  {
   "cell_type": "markdown",
   "metadata": {
    "heading_collapsed": true,
    "hidden": true
   },
   "source": [
    "### Конверзија меѓу типови "
   ]
  },
  {
   "cell_type": "markdown",
   "metadata": {
    "hidden": true
   },
   "source": [
    "<code>list()</code> : ако сакаме да смениме торка во листа"
   ]
  },
  {
   "cell_type": "code",
   "execution_count": 64,
   "metadata": {
    "ExecuteTime": {
     "end_time": "2020-09-12T16:33:43.195017Z",
     "start_time": "2020-09-12T16:33:43.190002Z"
    },
    "hidden": true
   },
   "outputs": [
    {
     "data": {
      "text/plain": [
       "[1, 2, 3]"
      ]
     },
     "execution_count": 64,
     "metadata": {},
     "output_type": "execute_result"
    }
   ],
   "source": [
    "tu = (1,2,3)\n",
    "li = list(tu)\n",
    "li"
   ]
  },
  {
   "cell_type": "markdown",
   "metadata": {
    "hidden": true
   },
   "source": [
    "<code>tuple()</code> : ако сакаме да смениме листа во торка "
   ]
  },
  {
   "cell_type": "code",
   "execution_count": 65,
   "metadata": {
    "ExecuteTime": {
     "end_time": "2020-09-12T16:34:49.772717Z",
     "start_time": "2020-09-12T16:34:49.762548Z"
    },
    "hidden": true
   },
   "outputs": [
    {
     "data": {
      "text/plain": [
       "(1, 2, 3)"
      ]
     },
     "execution_count": 65,
     "metadata": {},
     "output_type": "execute_result"
    }
   ],
   "source": [
    "li = [1, 2, 3]\n",
    "tu = tuple(li)\n",
    "tu"
   ]
  },
  {
   "cell_type": "markdown",
   "metadata": {
    "heading_collapsed": true,
    "hidden": true
   },
   "source": [
    "## 4.2: Операции за листи"
   ]
  },
  {
   "cell_type": "markdown",
   "metadata": {
    "heading_collapsed": true,
    "hidden": true
   },
   "source": [
    "### <b><code>li.append(element)</code></b>: додава нов елемент на крај "
   ]
  },
  {
   "cell_type": "code",
   "execution_count": 43,
   "metadata": {
    "ExecuteTime": {
     "end_time": "2020-09-12T16:11:11.835443Z",
     "start_time": "2020-09-12T16:11:11.829043Z"
    },
    "hidden": true
   },
   "outputs": [
    {
     "data": {
      "text/plain": [
       "[1, 2, 3, 4]"
      ]
     },
     "execution_count": 43,
     "metadata": {},
     "output_type": "execute_result"
    }
   ],
   "source": [
    "li = [1, 2, 3]\n",
    "li.append(4)                      \n",
    "li"
   ]
  },
  {
   "cell_type": "markdown",
   "metadata": {
    "heading_collapsed": true,
    "hidden": true
   },
   "source": [
    "### <b><code>li.insert(index, element)</code></b>: на одреден индекс заменува елемент со нов"
   ]
  },
  {
   "cell_type": "code",
   "execution_count": 44,
   "metadata": {
    "ExecuteTime": {
     "end_time": "2020-09-12T16:11:12.392518Z",
     "start_time": "2020-09-12T16:11:12.378804Z"
    },
    "hidden": true
   },
   "outputs": [
    {
     "data": {
      "text/plain": [
       "[1, 2, 'smena', 3, 4]"
      ]
     },
     "execution_count": 44,
     "metadata": {},
     "output_type": "execute_result"
    }
   ],
   "source": [
    "li.insert(2, 'smena')             \n",
    "li"
   ]
  },
  {
   "cell_type": "markdown",
   "metadata": {
    "heading_collapsed": true,
    "hidden": true
   },
   "source": [
    "### <b><code>li.еxtend(new_list)</code></b>: оперира на <code>li</code>, т.е. на истата мемориска локација"
   ]
  },
  {
   "cell_type": "markdown",
   "metadata": {
    "hidden": true
   },
   "source": [
    "<b><code>li.еxtend(new_list)</code></b> vs. <code><b>+</b></code>: <br>\n",
    "- <code>+</code> креира нова листа (со нова мемориска локација)\n",
    "- <code>li.extend(new_list)</code> оперира на <code>li</code>, т.е. на истата мемориска локација"
   ]
  },
  {
   "cell_type": "code",
   "execution_count": 47,
   "metadata": {
    "ExecuteTime": {
     "end_time": "2020-09-12T16:16:36.624098Z",
     "start_time": "2020-09-12T16:16:36.618115Z"
    },
    "hidden": true
   },
   "outputs": [
    {
     "data": {
      "text/plain": [
       "[1, 2, 3, 4, 5, 6, 7, 8, 9]"
      ]
     },
     "execution_count": 47,
     "metadata": {},
     "output_type": "execute_result"
    }
   ],
   "source": [
    "li = [1, 2, 3] + [4, 5, 6]\n",
    "li.extend([7, 8, 9])\n",
    "li"
   ]
  },
  {
   "cell_type": "markdown",
   "metadata": {
    "hidden": true
   },
   "source": [
    "**Забелешка:** <br>\n",
    "- <b><code>li.еxtend(new_list)</code></b> прима **листа** како аргумент \n",
    "- <b><code>li.append(element)</code></b> пак прима еден елемент како аргумент, па ако се проследи листа цела се третира како еден елемент "
   ]
  },
  {
   "cell_type": "code",
   "execution_count": 48,
   "metadata": {
    "ExecuteTime": {
     "end_time": "2020-09-12T16:18:40.650932Z",
     "start_time": "2020-09-12T16:18:40.644948Z"
    },
    "hidden": true
   },
   "outputs": [
    {
     "data": {
      "text/plain": [
       "[1, 2, 3, 4, 5, 6, [10, 11, 12]]"
      ]
     },
     "execution_count": 48,
     "metadata": {},
     "output_type": "execute_result"
    }
   ],
   "source": [
    "li = [1, 2, 3] + [4, 5, 6]\n",
    "li.append([10, 11, 12])\n",
    "li"
   ]
  },
  {
   "cell_type": "markdown",
   "metadata": {
    "heading_collapsed": true,
    "hidden": true
   },
   "source": [
    "### <b><code>li.index(element)</code></b>: врати го индексот на првото појавување на елементот"
   ]
  },
  {
   "cell_type": "code",
   "execution_count": 52,
   "metadata": {
    "ExecuteTime": {
     "end_time": "2020-09-12T16:22:31.894392Z",
     "start_time": "2020-09-12T16:22:31.884392Z"
    },
    "hidden": true
   },
   "outputs": [
    {
     "data": {
      "text/plain": [
       "0"
      ]
     },
     "execution_count": 52,
     "metadata": {},
     "output_type": "execute_result"
    }
   ],
   "source": [
    "li = ['a', 'b', 'c', 'a', 'b', 'b']\n",
    "li.index('a')"
   ]
  },
  {
   "cell_type": "markdown",
   "metadata": {
    "heading_collapsed": true,
    "hidden": true
   },
   "source": [
    "### <b><code>li.count(element)</code></b>: врати колку пати се јавува елемент во листа"
   ]
  },
  {
   "cell_type": "code",
   "execution_count": 53,
   "metadata": {
    "ExecuteTime": {
     "end_time": "2020-09-12T16:23:19.252962Z",
     "start_time": "2020-09-12T16:23:19.246978Z"
    },
    "hidden": true
   },
   "outputs": [
    {
     "name": "stdout",
     "output_type": "stream",
     "text": [
      "a се појавува: 2 пати\n",
      "b се појавува: 3 пати\n",
      "c се појавува: 1 пати\n"
     ]
    }
   ],
   "source": [
    "li = ['a', 'b', 'c', 'a', 'b', 'b']\n",
    "print(\"a се појавува: {} пати\".format(li.count('a')))\n",
    "print(\"b се појавува: {} пати\".format(li.count('b')))\n",
    "print(\"c се појавува: {} пати\".format(li.count('c')))"
   ]
  },
  {
   "cell_type": "markdown",
   "metadata": {
    "heading_collapsed": true,
    "hidden": true
   },
   "source": [
    "### <b><code>li.remove(element)</code></b>: острани го првото појавување на елементот"
   ]
  },
  {
   "cell_type": "code",
   "execution_count": 54,
   "metadata": {
    "ExecuteTime": {
     "end_time": "2020-09-12T16:24:04.279630Z",
     "start_time": "2020-09-12T16:24:04.273682Z"
    },
    "hidden": true
   },
   "outputs": [
    {
     "data": {
      "text/plain": [
       "['b', 'c', 'a', 'b', 'b']"
      ]
     },
     "execution_count": 54,
     "metadata": {},
     "output_type": "execute_result"
    }
   ],
   "source": [
    "li = ['a', 'b', 'c', 'a', 'b', 'b']\n",
    "li.remove('a')\n",
    "li"
   ]
  },
  {
   "cell_type": "markdown",
   "metadata": {
    "heading_collapsed": true,
    "hidden": true
   },
   "source": [
    "### <b><code>li.reverse()</code></b>: самата листа ја превртува на истата мемориска адреса, не креира нова"
   ]
  },
  {
   "cell_type": "code",
   "execution_count": 5,
   "metadata": {
    "ExecuteTime": {
     "end_time": "2020-09-12T16:25:27.992230Z",
     "start_time": "2020-09-12T16:25:27.986220Z"
    },
    "hidden": true
   },
   "outputs": [
    {
     "data": {
      "text/plain": [
       "[6, 5, 4, 3, 2, 1]"
      ]
     },
     "execution_count": 5,
     "metadata": {},
     "output_type": "execute_result"
    }
   ],
   "source": [
    "li = [1, 2, 3, 4, 5, 6]\n",
    "li.reverse()\n",
    "li"
   ]
  },
  {
   "cell_type": "markdown",
   "metadata": {
    "heading_collapsed": true,
    "hidden": true
   },
   "source": [
    "### <b><code>li.sort(element)</code></b>: самата листа ја сортира на истата мемориска адреса, не креира нова"
   ]
  },
  {
   "cell_type": "code",
   "execution_count": 6,
   "metadata": {
    "ExecuteTime": {
     "end_time": "2020-09-12T16:26:33.697263Z",
     "start_time": "2020-09-12T16:26:33.686300Z"
    },
    "hidden": true
   },
   "outputs": [
    {
     "data": {
      "text/plain": [
       "[1, 2, 3, 4, 5, 6]"
      ]
     },
     "execution_count": 6,
     "metadata": {},
     "output_type": "execute_result"
    }
   ],
   "source": [
    "li = [4, 1, 3, 2, 6, 5]\n",
    "li.sort()\n",
    "li"
   ]
  },
  {
   "cell_type": "markdown",
   "metadata": {
    "heading_collapsed": true
   },
   "source": [
    "# 5: <code>Dictionaries</code>\n",
    "<hr>"
   ]
  },
  {
   "cell_type": "markdown",
   "metadata": {
    "hidden": true
   },
   "source": [
    "<center><code>my_dict = {}</code></center>\n",
    "<center>или</center>\n",
    "<center><code>my_dict = dict()</code></center>"
   ]
  },
  {
   "cell_type": "markdown",
   "metadata": {
    "hidden": true
   },
   "source": [
    "Речниците чуваат мапирање на множество од: \n",
    "- **клучеви** (keys): може да бидат било кој **НЕМУТИРАЧКИ** тип\n",
    "- **вредности** (values): може да бидат било кој тип \n",
    "\n",
    "Еден речник може да чува вредности од различни типови, и во него може да се дефинираат, менуваат, гледаат, пребаруваат и биршат паровите од клучеви и вредности (key-value pairs). "
   ]
  },
  {
   "cell_type": "code",
   "execution_count": 11,
   "metadata": {
    "ExecuteTime": {
     "end_time": "2020-09-12T17:03:06.798474Z",
     "start_time": "2020-09-12T17:03:06.794455Z"
    },
    "hidden": true
   },
   "outputs": [
    {
     "name": "stdout",
     "output_type": "stream",
     "text": [
      "bozo\n",
      "8835\n"
     ]
    }
   ],
   "source": [
    "d = {'user': 'bozo', 'pswd': 8835}\n",
    "print(d['user'])                  # Пристап до елементите со помош на клучеви \n",
    "print(d['pswd'])"
   ]
  },
  {
   "cell_type": "code",
   "execution_count": 12,
   "metadata": {
    "ExecuteTime": {
     "end_time": "2020-09-12T17:03:07.265379Z",
     "start_time": "2020-09-12T17:03:07.257401Z"
    },
    "hidden": true
   },
   "outputs": [
    {
     "data": {
      "text/plain": [
       "{'user': 'clown', 'pswd': 8835}"
      ]
     },
     "execution_count": 12,
     "metadata": {},
     "output_type": "execute_result"
    }
   ],
   "source": [
    "d['user'] = 'clown'               # Менување на стара вредност со клуч\n",
    "d"
   ]
  },
  {
   "cell_type": "code",
   "execution_count": 13,
   "metadata": {},
   "outputs": [],
   "source": [
    "d['idd'] = 123"
   ]
  },
  {
   "cell_type": "code",
   "execution_count": 14,
   "metadata": {
    "ExecuteTime": {
     "end_time": "2020-09-12T17:03:07.702464Z",
     "start_time": "2020-09-12T17:03:07.694510Z"
    },
    "hidden": true
   },
   "outputs": [
    {
     "data": {
      "text/plain": [
       "{'user': 'clown', 'pswd': 8835, 'idd': 123, 'id': 450043}"
      ]
     },
     "execution_count": 14,
     "metadata": {},
     "output_type": "execute_result"
    }
   ],
   "source": [
    "d['id'] = 450043                  # Додавање на нова вредност \n",
    "d"
   ]
  },
  {
   "cell_type": "code",
   "execution_count": 77,
   "metadata": {
    "ExecuteTime": {
     "end_time": "2020-09-12T17:03:12.212556Z",
     "start_time": "2020-09-12T17:03:12.207570Z"
    },
    "hidden": true
   },
   "outputs": [
    {
     "name": "stdout",
     "output_type": "stream",
     "text": [
      "d = {'user': 'bozo', 'pswd': 8835} \n",
      "Deleted 'user\n",
      "d = {'pswd': 8835} \n"
     ]
    }
   ],
   "source": [
    "d = {'user': 'bozo', 'pswd': 8835}\n",
    "print(\"d = {} \".format(d))\n",
    "del d['user']                     # Пристапи и избириши еден член со клуч\n",
    "print(\"Deleted 'user\")\n",
    "print(\"d = {} \".format(d))"
   ]
  },
  {
   "cell_type": "code",
   "execution_count": 78,
   "metadata": {
    "ExecuteTime": {
     "end_time": "2020-09-12T17:04:34.318810Z",
     "start_time": "2020-09-12T17:04:34.307838Z"
    },
    "hidden": true
   },
   "outputs": [
    {
     "data": {
      "text/plain": [
       "{}"
      ]
     },
     "execution_count": 78,
     "metadata": {},
     "output_type": "execute_result"
    }
   ],
   "source": [
    "d = {'user': 'bozo', 'pswd': 8835}\n",
    "d.clear()                         # Избриши ги сите членови \n",
    "d"
   ]
  },
  {
   "cell_type": "code",
   "execution_count": 18,
   "metadata": {
    "ExecuteTime": {
     "end_time": "2020-09-12T17:05:12.214129Z",
     "start_time": "2020-09-12T17:05:12.208169Z"
    },
    "hidden": true
   },
   "outputs": [
    {
     "data": {
      "text/plain": [
       "['user', 'pswd', 'id']"
      ]
     },
     "execution_count": 18,
     "metadata": {},
     "output_type": "execute_result"
    }
   ],
   "source": [
    "d = {'user': 'bozo', 'pswd': 8835, 'id': 450043}\n",
    "list(d.keys())"
   ]
  },
  {
   "cell_type": "code",
   "execution_count": 19,
   "metadata": {
    "ExecuteTime": {
     "end_time": "2020-09-12T17:06:05.397659Z",
     "start_time": "2020-09-12T17:06:05.387658Z"
    },
    "hidden": true
   },
   "outputs": [
    {
     "data": {
      "text/plain": [
       "['bozo', 8835, 450043]"
      ]
     },
     "execution_count": 19,
     "metadata": {},
     "output_type": "execute_result"
    }
   ],
   "source": [
    "d = {'user': 'bozo', 'pswd': 8835, 'id': 450043}\n",
    "list(d.values())"
   ]
  },
  {
   "cell_type": "code",
   "execution_count": 20,
   "metadata": {
    "ExecuteTime": {
     "end_time": "2020-09-12T17:05:25.951769Z",
     "start_time": "2020-09-12T17:05:25.946781Z"
    },
    "hidden": true
   },
   "outputs": [
    {
     "data": {
      "text/plain": [
       "[('user', 'bozo'), ('pswd', 8835), ('id', 450043)]"
      ]
     },
     "execution_count": 20,
     "metadata": {},
     "output_type": "execute_result"
    }
   ],
   "source": [
    "d = {'user': 'bozo', 'pswd': 8835, 'id': 450043}\n",
    "list(d.items())"
   ]
  },
  {
   "cell_type": "markdown",
   "metadata": {},
   "source": [
    "Замена на постоечки клуч со нов"
   ]
  },
  {
   "cell_type": "code",
   "execution_count": 21,
   "metadata": {},
   "outputs": [],
   "source": [
    "d['aa'] = d.pop('user')"
   ]
  },
  {
   "cell_type": "markdown",
   "metadata": {
    "hidden": true
   },
   "source": [
    "Доколку сакаме да добиеме буквално листа од клучеви или items или values: "
   ]
  },
  {
   "cell_type": "code",
   "execution_count": 92,
   "metadata": {
    "ExecuteTime": {
     "end_time": "2020-09-12T17:10:05.742263Z",
     "start_time": "2020-09-12T17:10:05.733170Z"
    },
    "hidden": true
   },
   "outputs": [
    {
     "name": "stdout",
     "output_type": "stream",
     "text": [
      "Values are: values = ['bozo', 8835, 450043]\n",
      "Keys are: values = ['user', 'pswd', 'id']\n",
      "Items are: values = [('user', 'bozo'), ('pswd', 8835), ('id', 450043)]\n"
     ]
    }
   ],
   "source": [
    "values = list(d.values())                          # values -> a list\n",
    "print(\"Values are: values = {}\".format(values))\n",
    "\n",
    "keys = list(d.keys())                              # keys -> a list\n",
    "print(\"Keys are: values = {}\".format(keys))       \n",
    "\n",
    "items = list(d.items())                            # items -> a list of tuples\n",
    "print(\"Items are: values = {}\".format(items))"
   ]
  },
  {
   "cell_type": "markdown",
   "metadata": {
    "hidden": true
   },
   "source": [
    "**Итерација низ елементи од Dictionaries**:"
   ]
  },
  {
   "cell_type": "code",
   "execution_count": 101,
   "metadata": {
    "ExecuteTime": {
     "end_time": "2020-09-12T17:14:30.692078Z",
     "start_time": "2020-09-12T17:14:30.688077Z"
    },
    "hidden": true
   },
   "outputs": [
    {
     "name": "stdout",
     "output_type": "stream",
     "text": [
      "user: bozo\n",
      "pswd: 8835\n",
      "id: 450043\n"
     ]
    }
   ],
   "source": [
    "for ele in d:\n",
    "    print(\"{}: {}\".format(ele, d[ele]))"
   ]
  },
  {
   "cell_type": "code",
   "execution_count": 104,
   "metadata": {
    "ExecuteTime": {
     "end_time": "2020-09-12T17:15:58.874883Z",
     "start_time": "2020-09-12T17:15:58.866904Z"
    },
    "hidden": true
   },
   "outputs": [
    {
     "name": "stdout",
     "output_type": "stream",
     "text": [
      "user : bozo\n",
      "pswd : 8835\n",
      "id : 450043\n"
     ]
    }
   ],
   "source": [
    "for k, v in d.items():\n",
    "    print(\"{} : {}\".format(k, v))"
   ]
  },
  {
   "cell_type": "code",
   "execution_count": 106,
   "metadata": {
    "ExecuteTime": {
     "end_time": "2020-09-12T17:16:37.305752Z",
     "start_time": "2020-09-12T17:16:37.301735Z"
    },
    "hidden": true
   },
   "outputs": [
    {
     "name": "stdout",
     "output_type": "stream",
     "text": [
      "user\n",
      "pswd\n",
      "id\n"
     ]
    }
   ],
   "source": [
    "for key in d.keys():\n",
    "    print(key)"
   ]
  },
  {
   "cell_type": "code",
   "execution_count": 105,
   "metadata": {
    "ExecuteTime": {
     "end_time": "2020-09-12T17:16:22.082460Z",
     "start_time": "2020-09-12T17:16:22.077471Z"
    },
    "hidden": true
   },
   "outputs": [
    {
     "name": "stdout",
     "output_type": "stream",
     "text": [
      "bozo\n",
      "8835\n",
      "450043\n"
     ]
    }
   ],
   "source": [
    "for value in d.values():\n",
    "    print(value)"
   ]
  },
  {
   "cell_type": "markdown",
   "metadata": {},
   "source": [
    "# 6: Функции \n",
    "<hr>"
   ]
  },
  {
   "cell_type": "markdown",
   "metadata": {},
   "source": [
    "  <p align=\"center\">\n",
    "<img src=\"images\\9.png\" style=\"width:85%;\">\n",
    "</p>"
   ]
  },
  {
   "cell_type": "code",
   "execution_count": 108,
   "metadata": {
    "ExecuteTime": {
     "end_time": "2020-09-12T17:58:17.598013Z",
     "start_time": "2020-09-12T17:58:17.588030Z"
    }
   },
   "outputs": [
    {
     "data": {
      "text/plain": [
       "12"
      ]
     },
     "execution_count": 108,
     "metadata": {},
     "output_type": "execute_result"
    }
   ],
   "source": [
    "def multiply(x, y):\n",
    "    return x*y\n",
    "\n",
    "multiply(3,4)"
   ]
  },
  {
   "cell_type": "markdown",
   "metadata": {},
   "source": [
    "- Доделувањето на вредностите на параметрите на функциите го следи истото правило како било која друга променлива во Python $\\rightarrow$ **семантика на референци**\n",
    "- Сите функции во Python враќаат вредност \n",
    " - Дури и кога <code>return</code> линијата е изоставена од дефиницијата\n",
    "- Функциите без <code>return</code> враќаат специјална вредност <code>None</code>\n",
    " - <code>None</code> е специјална константна во Python\n",
    " - <code>None</code> се користи како <code>NULL</code>, <code>void</code> \n",
    " - <code>None</code> е логички еквивалент на <code>False</code>\n",
    " - Интерпретерот не ја прикажува <code>None</code> вредноста"
   ]
  },
  {
   "cell_type": "markdown",
   "metadata": {},
   "source": [
    "**Во Python функциите не може да се преоптоварат!** "
   ]
  },
  {
   "cell_type": "markdown",
   "metadata": {},
   "source": [
    "За разлика од C++, функциите во Python се специфираат по нивното име \n",
    " - Бројот, редоследот, имињата и типовите на аргументи не можат да се искористат за диференцирање помеѓу две функции со исто име \n",
    " - Две функции не можат да имаат исто име, иако имаат различни аргументи \n",
    " \n",
    "\n",
    "Функциите се од објекти од прв ред во Python, тие можат да се користат како било кој податочен тип \n",
    "\n",
    "\n",
    "Една функција може: \n",
    "- да биде аргумент на друга функција \n",
    "- да биде return вредност во дефиниција на функција \n",
    "- да се додели на некоја променлива \n",
    "- да биде дел од торка, листа, итн."
   ]
  },
  {
   "cell_type": "code",
   "execution_count": 109,
   "metadata": {
    "ExecuteTime": {
     "end_time": "2020-09-12T18:05:23.444883Z",
     "start_time": "2020-09-12T18:05:23.433912Z"
    }
   },
   "outputs": [
    {
     "data": {
      "text/plain": [
       "21"
      ]
     },
     "execution_count": 109,
     "metadata": {},
     "output_type": "execute_result"
    }
   ],
   "source": [
    "def my_fun(x):\n",
    "    return x*3\n",
    "\n",
    "def applier(q, x):\n",
    "    return q(x)\n",
    "\n",
    "applier(my_fun, 7)"
   ]
  },
  {
   "cell_type": "markdown",
   "metadata": {
    "heading_collapsed": true
   },
   "source": [
    "# 7. Специфична синтакса за функции\n",
    "<hr>"
   ]
  },
  {
   "cell_type": "markdown",
   "metadata": {
    "heading_collapsed": true,
    "hidden": true
   },
   "source": [
    "## 7.1: Lambda нотација"
   ]
  },
  {
   "cell_type": "markdown",
   "metadata": {
    "hidden": true
   },
   "source": [
    "- Во Python може да се дефинираат функции и без да бидат експлицитно именувани \n",
    " - анонимни или неименувани функции \n",
    "- Оваа можност најмногу се користи кога сакаме некоја кратка функција да ја проследиме како аргумент на друга функција "
   ]
  },
  {
   "cell_type": "code",
   "execution_count": 10,
   "metadata": {
    "ExecuteTime": {
     "end_time": "2020-09-12T21:34:25.080399Z",
     "start_time": "2020-09-12T21:34:25.075413Z"
    },
    "hidden": true
   },
   "outputs": [
    {
     "data": {
      "text/plain": [
       "28"
      ]
     },
     "execution_count": 10,
     "metadata": {},
     "output_type": "execute_result"
    }
   ],
   "source": [
    "def applier(q, x):\n",
    "    return q(x)\n",
    "\n",
    "applier(lambda z: z*4, 7)"
   ]
  },
  {
   "cell_type": "markdown",
   "metadata": {
    "hidden": true
   },
   "source": [
    "- Првиот аргумент на <code>applier()</code> е неименувана функција која има една променлива на влез и како резултат ја враќа вредноста на таа променлива помножена со 4\n",
    "- **Забелешка:** со помош на <code>lambda</code> нотацијата можат да се дефинираат само неименувани функции кои излезот го генерираат со еден единствен израз"
   ]
  },
  {
   "cell_type": "markdown",
   "metadata": {
    "heading_collapsed": true,
    "hidden": true
   },
   "source": [
    "## 7. 2: Default вредности за аргументи "
   ]
  },
  {
   "cell_type": "markdown",
   "metadata": {
    "hidden": true
   },
   "source": [
    "- Може да се дефинираат и функции со default вредности за аргументи \n",
    "- Вака дефинираните аргументи се опционални при повик на функцијата "
   ]
  },
  {
   "cell_type": "code",
   "execution_count": 4,
   "metadata": {
    "ExecuteTime": {
     "end_time": "2020-09-12T21:29:47.450166Z",
     "start_time": "2020-09-12T21:29:47.445150Z"
    },
    "hidden": true
   },
   "outputs": [],
   "source": [
    "def my_func(b, c=3, d=\"hello\"):\n",
    "    return b+c"
   ]
  },
  {
   "cell_type": "code",
   "execution_count": 5,
   "metadata": {
    "ExecuteTime": {
     "end_time": "2020-09-12T21:29:47.777504Z",
     "start_time": "2020-09-12T21:29:47.764536Z"
    },
    "hidden": true
   },
   "outputs": [
    {
     "data": {
      "text/plain": [
       "8"
      ]
     },
     "execution_count": 5,
     "metadata": {},
     "output_type": "execute_result"
    }
   ],
   "source": [
    "my_func(5,3, \"hello\")"
   ]
  },
  {
   "cell_type": "code",
   "execution_count": 6,
   "metadata": {
    "ExecuteTime": {
     "end_time": "2020-09-12T21:29:55.496750Z",
     "start_time": "2020-09-12T21:29:55.485783Z"
    },
    "hidden": true
   },
   "outputs": [
    {
     "data": {
      "text/plain": [
       "8"
      ]
     },
     "execution_count": 6,
     "metadata": {},
     "output_type": "execute_result"
    }
   ],
   "source": [
    "my_func(5,3)"
   ]
  },
  {
   "cell_type": "code",
   "execution_count": 7,
   "metadata": {
    "ExecuteTime": {
     "end_time": "2020-09-12T21:30:01.431880Z",
     "start_time": "2020-09-12T21:30:01.421905Z"
    },
    "hidden": true
   },
   "outputs": [
    {
     "data": {
      "text/plain": [
       "8"
      ]
     },
     "execution_count": 7,
     "metadata": {},
     "output_type": "execute_result"
    }
   ],
   "source": [
    "my_func(5)"
   ]
  },
  {
   "cell_type": "markdown",
   "metadata": {
    "hidden": true
   },
   "source": [
    "Сите прикажани повици враќаат резултат 8"
   ]
  },
  {
   "cell_type": "markdown",
   "metadata": {
    "heading_collapsed": true,
    "hidden": true
   },
   "source": [
    "## 7.2: Редослед на аргументи "
   ]
  },
  {
   "cell_type": "markdown",
   "metadata": {
    "hidden": true
   },
   "source": [
    "Функцијата може да се повика со променет редослед на дел од аргументите (или сите аргументи) под услов да ги специфицирате аргументите при самиот повик"
   ]
  },
  {
   "cell_type": "code",
   "execution_count": 11,
   "metadata": {
    "ExecuteTime": {
     "end_time": "2020-09-12T21:38:22.567918Z",
     "start_time": "2020-09-12T21:38:22.563929Z"
    },
    "hidden": true
   },
   "outputs": [],
   "source": [
    "def my_func3(a, b, c):\n",
    "    return a-b+c"
   ]
  },
  {
   "cell_type": "code",
   "execution_count": 13,
   "metadata": {
    "ExecuteTime": {
     "end_time": "2020-09-12T21:38:40.585197Z",
     "start_time": "2020-09-12T21:38:40.579214Z"
    },
    "hidden": true
   },
   "outputs": [
    {
     "data": {
      "text/plain": [
       "44"
      ]
     },
     "execution_count": 13,
     "metadata": {},
     "output_type": "execute_result"
    }
   ],
   "source": [
    "my_func3(2, 1, 43)"
   ]
  },
  {
   "cell_type": "code",
   "execution_count": 14,
   "metadata": {
    "ExecuteTime": {
     "end_time": "2020-09-12T21:39:03.630505Z",
     "start_time": "2020-09-12T21:39:03.624550Z"
    },
    "hidden": true
   },
   "outputs": [
    {
     "data": {
      "text/plain": [
       "44"
      ]
     },
     "execution_count": 14,
     "metadata": {},
     "output_type": "execute_result"
    }
   ],
   "source": [
    "my_func3(c=43, b=1, a=2)"
   ]
  },
  {
   "cell_type": "code",
   "execution_count": 15,
   "metadata": {
    "ExecuteTime": {
     "end_time": "2020-09-12T21:39:21.198565Z",
     "start_time": "2020-09-12T21:39:21.186598Z"
    },
    "hidden": true
   },
   "outputs": [
    {
     "data": {
      "text/plain": [
       "44"
      ]
     },
     "execution_count": 15,
     "metadata": {},
     "output_type": "execute_result"
    }
   ],
   "source": [
    "my_func3(2, c= 43, b=1)"
   ]
  }
 ],
 "metadata": {
  "kernelspec": {
   "display_name": "Python 3",
   "language": "python",
   "name": "python3"
  },
  "language_info": {
   "codemirror_mode": {
    "name": "ipython",
    "version": 3
   },
   "file_extension": ".py",
   "mimetype": "text/x-python",
   "name": "python",
   "nbconvert_exporter": "python",
   "pygments_lexer": "ipython3",
   "version": "3.7.9"
  },
  "latex_envs": {
   "LaTeX_envs_menu_present": true,
   "autoclose": false,
   "autocomplete": true,
   "bibliofile": "biblio.bib",
   "cite_by": "apalike",
   "current_citInitial": 1,
   "eqLabelWithNumbers": true,
   "eqNumInitial": 1,
   "hotkeys": {
    "equation": "Ctrl-E",
    "itemize": "Ctrl-I"
   },
   "labels_anchors": false,
   "latex_user_defs": false,
   "report_style_numbering": false,
   "user_envs_cfg": false
  },
  "toc": {
   "base_numbering": 1,
   "nav_menu": {},
   "number_sections": true,
   "sideBar": true,
   "skip_h1_title": false,
   "title_cell": "Table of Contents",
   "title_sidebar": "Содржина",
   "toc_cell": false,
   "toc_position": {
    "height": "calc(100% - 180px)",
    "left": "10px",
    "top": "150px",
    "width": "304.475px"
   },
   "toc_section_display": true,
   "toc_window_display": true
  },
  "varInspector": {
   "cols": {
    "lenName": 16,
    "lenType": 16,
    "lenVar": 40
   },
   "kernels_config": {
    "python": {
     "delete_cmd_postfix": "",
     "delete_cmd_prefix": "del ",
     "library": "var_list.py",
     "varRefreshCmd": "print(var_dic_list())"
    },
    "r": {
     "delete_cmd_postfix": ") ",
     "delete_cmd_prefix": "rm(",
     "library": "var_list.r",
     "varRefreshCmd": "cat(var_dic_list()) "
    }
   },
   "types_to_exclude": [
    "module",
    "function",
    "builtin_function_or_method",
    "instance",
    "_Feature"
   ],
   "window_display": false
  }
 },
 "nbformat": 4,
 "nbformat_minor": 4
}
