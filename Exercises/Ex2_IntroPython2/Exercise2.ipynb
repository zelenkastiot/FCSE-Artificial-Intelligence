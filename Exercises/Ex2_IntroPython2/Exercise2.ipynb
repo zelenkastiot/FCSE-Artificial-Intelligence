{
 "cells": [
  {
   "cell_type": "markdown",
   "metadata": {},
   "source": [
    "<div style=\"text-align: right\">\n",
    "    <b>Аудиториска вежба 2;</b><br> \n",
    "    IntroPython2 <br>\n",
    "    <i>2020-09-13 00:31:07</i>\n",
    "</div>\n",
    "<hr>"
   ]
  },
  {
   "cell_type": "markdown",
   "metadata": {
    "heading_collapsed": true
   },
   "source": [
    "# 1: Control-flow \n",
    "<hr>"
   ]
  },
  {
   "cell_type": "markdown",
   "metadata": {
    "heading_collapsed": true,
    "hidden": true
   },
   "source": [
    "## 1.1: <code>if</code>"
   ]
  },
  {
   "cell_type": "markdown",
   "metadata": {
    "hidden": true
   },
   "source": [
    "Внимавајте! Клучниот збор <code>if</code> се користи и во синтакса за филтрирани <code>list comprehensions</code>. \n",
    "\n",
    "<br>\n",
    "\n",
    "\n",
    "<u><b>Забелешка:</b></u>\n",
    "- Користете порамнување за блокови од наредби \n",
    "- Две точки (:) после логички (boolean) изрази "
   ]
  },
  {
   "cell_type": "code",
   "execution_count": 5,
   "metadata": {
    "ExecuteTime": {
     "end_time": "2020-09-12T22:41:58.594877Z",
     "start_time": "2020-09-12T22:41:58.584902Z"
    },
    "hidden": true
   },
   "outputs": [
    {
     "name": "stdout",
     "output_type": "stream",
     "text": [
      "True, 100 != 0\n"
     ]
    }
   ],
   "source": [
    "x = 100\n",
    "if x:                                     # equal to if(x != 0)\n",
    "    print(\"True, {} != 0\".format(x))\n",
    "\n",
    "y = 0\n",
    "if y:                                     # equal to if(y != 0)\n",
    "    print(\"True, {} != 0\".format(y))"
   ]
  },
  {
   "cell_type": "markdown",
   "metadata": {
    "hidden": true
   },
   "source": [
    "<hr>"
   ]
  },
  {
   "cell_type": "markdown",
   "metadata": {
    "heading_collapsed": true,
    "hidden": true
   },
   "source": [
    "## 1.2: <code>if-else</code>"
   ]
  },
  {
   "cell_type": "code",
   "execution_count": 4,
   "metadata": {
    "ExecuteTime": {
     "end_time": "2020-09-12T22:39:45.817714Z",
     "start_time": "2020-09-12T22:39:45.807712Z"
    },
    "hidden": true
   },
   "outputs": [
    {
     "name": "stdout",
     "output_type": "stream",
     "text": [
      "False, y = 0\n"
     ]
    }
   ],
   "source": [
    "x = 0\n",
    "if x:                                     # equal to if(x != 0)\n",
    "    print(\"True, {} != 0\".format(x))\n",
    "\n",
    "else: \n",
    "    print(\"False, y = {}\".format(x))"
   ]
  },
  {
   "cell_type": "markdown",
   "metadata": {
    "hidden": true
   },
   "source": [
    "<u><b>Забелешка:</b></u>\n",
    "- По клучниот збор <code>else</code> задолжително се ставаат две точки (:)\n",
    "- Може да има најмногу еден <code>else</code> блок придружен на дадена <code>if</code> наредба "
   ]
  },
  {
   "cell_type": "markdown",
   "metadata": {
    "hidden": true
   },
   "source": [
    "<hr>"
   ]
  },
  {
   "cell_type": "markdown",
   "metadata": {
    "heading_collapsed": true,
    "hidden": true
   },
   "source": [
    "## 1.3: <code>if-elif-else</code>"
   ]
  },
  {
   "cell_type": "code",
   "execution_count": 6,
   "metadata": {
    "ExecuteTime": {
     "end_time": "2020-09-12T22:44:43.505405Z",
     "start_time": "2020-09-12T22:44:43.499420Z"
    },
    "hidden": true
   },
   "outputs": [
    {
     "name": "stdout",
     "output_type": "stream",
     "text": [
      "x=2\n"
     ]
    }
   ],
   "source": [
    "x = 2\n",
    "if x == 3: \n",
    "    print(\"x=3\")\n",
    "elif x == 2: \n",
    "    print(\"x=2\")\n",
    "else: \n",
    "    print(\"x not 3 or 2\")"
   ]
  },
  {
   "cell_type": "markdown",
   "metadata": {
    "hidden": true
   },
   "source": [
    "- Во Python не постои наредба за избор на повеќе можности (<code>switch</code> како што е во C/C++)\n",
    "- За ова се користи <code>if-elif-else</code>"
   ]
  },
  {
   "cell_type": "markdown",
   "metadata": {
    "hidden": true
   },
   "source": [
    "<hr>"
   ]
  },
  {
   "cell_type": "markdown",
   "metadata": {
    "heading_collapsed": true,
    "hidden": true
   },
   "source": [
    "## 1.4: Тернарен оператор"
   ]
  },
  {
   "cell_type": "code",
   "execution_count": 7,
   "metadata": {
    "ExecuteTime": {
     "end_time": "2020-09-12T22:47:32.099413Z",
     "start_time": "2020-09-12T22:47:32.095395Z"
    },
    "hidden": true
   },
   "outputs": [],
   "source": [
    "fruit = 'apple'"
   ]
  },
  {
   "cell_type": "code",
   "execution_count": 8,
   "metadata": {
    "ExecuteTime": {
     "end_time": "2020-09-12T22:47:51.851798Z",
     "start_time": "2020-09-12T22:47:51.840794Z"
    },
    "hidden": true
   },
   "outputs": [
    {
     "data": {
      "text/plain": [
       "True"
      ]
     },
     "execution_count": 8,
     "metadata": {},
     "output_type": "execute_result"
    }
   ],
   "source": [
    "is_apple = True if fruit == 'apple' else False\n",
    "is_apple"
   ]
  },
  {
   "cell_type": "markdown",
   "metadata": {
    "hidden": true
   },
   "source": [
    "- Тернарните оператори во Python се познати како услови изрази (conditional expressions)\n",
    "- Овие оператори евалурираат нешто во зависност дали условот е вистинит или не \n",
    "- Се користи за компактност на кодови, полесно да може да се оддржуваат "
   ]
  },
  {
   "cell_type": "markdown",
   "metadata": {
    "hidden": true
   },
   "source": [
    "<hr>"
   ]
  },
  {
   "cell_type": "markdown",
   "metadata": {
    "heading_collapsed": true,
    "hidden": true
   },
   "source": [
    "## 1.5: <code>while</code> loops"
   ]
  },
  {
   "cell_type": "code",
   "execution_count": 13,
   "metadata": {
    "ExecuteTime": {
     "end_time": "2020-09-12T22:56:33.686753Z",
     "start_time": "2020-09-12T22:56:33.681739Z"
    },
    "hidden": true
   },
   "outputs": [
    {
     "name": "stdout",
     "output_type": "stream",
     "text": [
      "3 still in the loop\n",
      "4 still in the loop\n"
     ]
    }
   ],
   "source": [
    "x = 3\n",
    "while x < 5: \n",
    "    print(x, \"still in the loop\")\n",
    "    x = x + 1"
   ]
  },
  {
   "cell_type": "code",
   "execution_count": 14,
   "metadata": {
    "ExecuteTime": {
     "end_time": "2020-09-12T22:56:34.392374Z",
     "start_time": "2020-09-12T22:56:34.388350Z"
    },
    "hidden": true
   },
   "outputs": [],
   "source": [
    "x = 6\n",
    "while x < 5: \n",
    "    print(x, \"still in the loop\")\n",
    "    x = x + 1"
   ]
  },
  {
   "cell_type": "markdown",
   "metadata": {
    "hidden": true
   },
   "source": [
    "Може и да се дефинира и <code>else</code> дел за <code>while</code> доколку завршувањето на циклусот треба да резултира во спефицична операција"
   ]
  },
  {
   "cell_type": "code",
   "execution_count": 15,
   "metadata": {
    "ExecuteTime": {
     "end_time": "2020-09-12T22:56:35.202185Z",
     "start_time": "2020-09-12T22:56:35.197197Z"
    },
    "hidden": true
   },
   "outputs": [
    {
     "name": "stdout",
     "output_type": "stream",
     "text": [
      "3 still in the loop\n",
      "4 still in the loop\n",
      "5 out of the loop\n"
     ]
    }
   ],
   "source": [
    "x = 3 \n",
    "while x < 5: \n",
    "    print(x, \"still in the loop\")\n",
    "    x = x + 1\n",
    "else:\n",
    "    print(x, \"out of the loop\")"
   ]
  },
  {
   "cell_type": "markdown",
   "metadata": {
    "hidden": true
   },
   "source": [
    "<hr>"
   ]
  },
  {
   "cell_type": "markdown",
   "metadata": {
    "heading_collapsed": true,
    "hidden": true
   },
   "source": [
    "## 1.6: <code>break</code> и <code>continue</code>"
   ]
  },
  {
   "cell_type": "markdown",
   "metadata": {
    "hidden": true
   },
   "source": [
    "- Може да се искористи клучниот збор <code>break</code> во рамки на циклусот за целосно да се излезе од <code>while</code>\n",
    "- Moже да се искористи клучниот збор <code>continue</code> во рамки на циклуст за да престанете со тековната итерација од циклусот и веднаш да преминете на следната"
   ]
  },
  {
   "cell_type": "markdown",
   "metadata": {
    "hidden": true
   },
   "source": [
    "<hr>"
   ]
  },
  {
   "cell_type": "markdown",
   "metadata": {
    "heading_collapsed": true
   },
   "source": [
    "# 2: <code>for</code> loops\n",
    "<hr>"
   ]
  },
  {
   "cell_type": "markdown",
   "metadata": {
    "heading_collapsed": true,
    "hidden": true
   },
   "source": [
    "## 2.1: Основа"
   ]
  },
  {
   "cell_type": "markdown",
   "metadata": {
    "hidden": true
   },
   "source": [
    "<code>for</code> циклусот ги изминува сите елементи од некоја колекција или било каков друг податочен тип низ кој може да се итерира"
   ]
  },
  {
   "cell_type": "markdown",
   "metadata": {
    "hidden": true
   },
   "source": [
    "<p align=\"center\">\n",
    "<img src=\"images\\1.png\" style=\"width:35%;\">\n",
    "</p>"
   ]
  },
  {
   "cell_type": "markdown",
   "metadata": {
    "hidden": true
   },
   "source": [
    "- Ако <code>&lt;colection&gt;</code> е листа или торка, тогаш <code>&lt;statments&gt;</code> се извршиваат за секој елемент од секвенцата \n",
    "- Ако <code>&lt;colection&gt;</code> е стринг, тогаш <code>&lt;statments&gt;</code> се изврушва за секој знак во стрингот"
   ]
  },
  {
   "cell_type": "markdown",
   "metadata": {
    "ExecuteTime": {
     "end_time": "2020-09-13T10:45:32.314919Z",
     "start_time": "2020-09-13T10:45:32.301495Z"
    },
    "hidden": true
   },
   "source": [
    "  <p align=\"center\">\n",
    "<img src=\"images\\2.png\" style=\"width:35%;\">\n",
    "</p>"
   ]
  },
  {
   "cell_type": "markdown",
   "metadata": {
    "hidden": true
   },
   "source": [
    "- Може и да има посложени структури: \n",
    "\n",
    "<p align=\"center\">\n",
    "<img src=\"images\\3.png\" style=\"width:35%;\">\n",
    "</p>\n",
    "\n",
    "- <code>&lt;item&gt;</code> може да има и посложена структура од има на една променлива \n",
    " - Кога и самите елементи на <code>&lt;colection&gt;</code> се некакви секвенц, тогаш <code>&lt;item&gt;</code> може да има и иста структура како тие елементи \n",
    " - Ваквото повеќекратно доделување може да го олесни пристапот на поединечните делови на сложената структура на елементите "
   ]
  },
  {
   "cell_type": "code",
   "execution_count": 2,
   "metadata": {
    "ExecuteTime": {
     "end_time": "2020-09-13T10:49:18.018025Z",
     "start_time": "2020-09-13T10:49:18.007847Z"
    },
    "hidden": true
   },
   "outputs": [
    {
     "name": "stdout",
     "output_type": "stream",
     "text": [
      "a\n",
      "b\n",
      "c\n",
      "d\n"
     ]
    }
   ],
   "source": [
    "for (x, y) in [('a', 1), ('b', 2), ('c', 3), ('d', 4)]:\n",
    "    print(x)"
   ]
  },
  {
   "cell_type": "markdown",
   "metadata": {
    "hidden": true
   },
   "source": [
    "<hr>"
   ]
  },
  {
   "cell_type": "markdown",
   "metadata": {
    "heading_collapsed": true,
    "hidden": true
   },
   "source": [
    "## 2.2: Функција <code>range()</code> "
   ]
  },
  {
   "cell_type": "markdown",
   "metadata": {
    "hidden": true
   },
   "source": [
    "Во одредени случаеви, кога имаме потреба од променлива која ќе опфаќа одреден опсег од броеви, можеме да ја користиме функцијата <code>rage(lower,upper, step)</code> која враќа листа од броеви од <code>lower</code> до <code>upper</code> (без него)"
   ]
  },
  {
   "cell_type": "code",
   "execution_count": 5,
   "metadata": {
    "ExecuteTime": {
     "end_time": "2020-09-13T10:56:30.772972Z",
     "start_time": "2020-09-13T10:56:30.761398Z"
    },
    "hidden": true
   },
   "outputs": [
    {
     "data": {
      "text/plain": [
       "[2, 3, 4, 5]"
      ]
     },
     "execution_count": 5,
     "metadata": {},
     "output_type": "execute_result"
    }
   ],
   "source": [
    "list(range(2,6))"
   ]
  },
  {
   "cell_type": "code",
   "execution_count": 6,
   "metadata": {
    "ExecuteTime": {
     "end_time": "2020-09-13T10:57:08.733702Z",
     "start_time": "2020-09-13T10:57:08.724971Z"
    },
    "hidden": true
   },
   "outputs": [
    {
     "name": "stdout",
     "output_type": "stream",
     "text": [
      "2\n",
      "3\n",
      "4\n",
      "5\n"
     ]
    }
   ],
   "source": [
    "l = range(2, 6)\n",
    "for x in l: \n",
    "    print(x)"
   ]
  },
  {
   "cell_type": "markdown",
   "metadata": {
    "hidden": true
   },
   "source": [
    "- Default вредноста на <code>lower</code>=0, што значи дека ако ја повикаме функцијата со само еден аргумент <code>range(upper)</code> или со <code>range(0, upper)</code> ќе биде истиот резултат"
   ]
  },
  {
   "cell_type": "markdown",
   "metadata": {
    "hidden": true
   },
   "source": [
    "- Додека чекорот на промена, т.е. <code>step</code>: разликата меѓу два последователни елементи може да се дефинира вака: "
   ]
  },
  {
   "cell_type": "code",
   "execution_count": 10,
   "metadata": {
    "ExecuteTime": {
     "end_time": "2020-09-13T11:00:19.897738Z",
     "start_time": "2020-09-13T11:00:19.886977Z"
    },
    "hidden": true
   },
   "outputs": [
    {
     "data": {
      "text/plain": [
       "[3, 5, 7, 9]"
      ]
     },
     "execution_count": 10,
     "metadata": {},
     "output_type": "execute_result"
    }
   ],
   "source": [
    "list(range(3, 10, 2))"
   ]
  },
  {
   "cell_type": "markdown",
   "metadata": {
    "hidden": true
   },
   "source": [
    "<hr>"
   ]
  },
  {
   "cell_type": "markdown",
   "metadata": {
    "heading_collapsed": true,
    "hidden": true
   },
   "source": [
    "## 2.3: Изминување листи, торки "
   ]
  },
  {
   "cell_type": "markdown",
   "metadata": {
    "hidden": true
   },
   "source": [
    "Листи "
   ]
  },
  {
   "cell_type": "code",
   "execution_count": 15,
   "metadata": {
    "ExecuteTime": {
     "end_time": "2020-09-13T11:08:02.621959Z",
     "start_time": "2020-09-13T11:08:02.614376Z"
    },
    "hidden": true
   },
   "outputs": [
    {
     "name": "stdout",
     "output_type": "stream",
     "text": [
      "banana\n",
      "apple\n",
      "mango\n"
     ]
    }
   ],
   "source": [
    "fruits = ['banana', \"apple\", \"mango\"]\n",
    "\n",
    "for index in range(len(fruits)):\n",
    "    print(fruits[index])"
   ]
  },
  {
   "cell_type": "markdown",
   "metadata": {
    "hidden": true
   },
   "source": [
    "Торки "
   ]
  },
  {
   "cell_type": "code",
   "execution_count": 16,
   "metadata": {
    "ExecuteTime": {
     "end_time": "2020-09-13T11:08:05.766780Z",
     "start_time": "2020-09-13T11:08:05.761793Z"
    },
    "hidden": true
   },
   "outputs": [
    {
     "name": "stdout",
     "output_type": "stream",
     "text": [
      "banana\n",
      "apple\n",
      "mango\n"
     ]
    }
   ],
   "source": [
    "fruits_tup = tuple(fruits)\n",
    "\n",
    "for index in range(len(fruits_tup)):\n",
    "    print(fruits_tup[index])"
   ]
  },
  {
   "cell_type": "markdown",
   "metadata": {
    "hidden": true
   },
   "source": [
    "<hr>"
   ]
  },
  {
   "cell_type": "markdown",
   "metadata": {
    "heading_collapsed": true,
    "hidden": true
   },
   "source": [
    "## 2.4: Речници "
   ]
  },
  {
   "cell_type": "code",
   "execution_count": 20,
   "metadata": {
    "ExecuteTime": {
     "end_time": "2020-09-13T11:11:00.361195Z",
     "start_time": "2020-09-13T11:11:00.352222Z"
    },
    "hidden": true
   },
   "outputs": [
    {
     "name": "stdout",
     "output_type": "stream",
     "text": [
      "1st:  31\n",
      "2nd:  27\n",
      "3rd:  10\n"
     ]
    }
   ],
   "source": [
    "my_dict = {'1st: ': 31, '2nd: ': 27, '3rd: ': 10}\n",
    "\n",
    "for key in my_dict.keys():\n",
    "    print(key, my_dict[key])"
   ]
  },
  {
   "cell_type": "markdown",
   "metadata": {
    "hidden": true
   },
   "source": [
    "<hr>"
   ]
  },
  {
   "cell_type": "markdown",
   "metadata": {
    "heading_collapsed": true,
    "hidden": true
   },
   "source": [
    "## 2.5: <code>pass</code>"
   ]
  },
  {
   "cell_type": "markdown",
   "metadata": {
    "hidden": true
   },
   "source": [
    "- Не прави апсолутно ништо\n",
    "- Програмери се слушат со него доколку сакаат да „потрошат време“ за multithreading или слично"
   ]
  },
  {
   "cell_type": "code",
   "execution_count": 1,
   "metadata": {
    "ExecuteTime": {
     "end_time": "2020-09-13T11:14:21.931007Z",
     "start_time": "2020-09-13T11:14:20.391374Z"
    },
    "hidden": true
   },
   "outputs": [],
   "source": [
    "for i in range(1,50000000):\n",
    "    pass"
   ]
  },
  {
   "cell_type": "markdown",
   "metadata": {
    "hidden": true
   },
   "source": [
    "<hr>"
   ]
  },
  {
   "cell_type": "markdown",
   "metadata": {
    "heading_collapsed": true,
    "hidden": true
   },
   "source": [
    "## 2.5: <code>assert</code>"
   ]
  },
  {
   "cell_type": "markdown",
   "metadata": {
    "hidden": true
   },
   "source": [
    "- Се користи за да се види дали нешто е точно\n",
    " - Ако условот не е точен, програмата прекинува т.е. фрла исклучок"
   ]
  },
  {
   "cell_type": "code",
   "execution_count": 6,
   "metadata": {
    "ExecuteTime": {
     "end_time": "2020-09-13T11:19:09.314625Z",
     "start_time": "2020-09-13T11:19:09.243811Z"
    },
    "hidden": true
   },
   "outputs": [
    {
     "name": "stdout",
     "output_type": "stream",
     "text": [
      "2\n",
      "3\n"
     ]
    },
    {
     "ename": "AssertionError",
     "evalue": "",
     "output_type": "error",
     "traceback": [
      "\u001b[1;31m---------------------------------------------------------------------------\u001b[0m",
      "\u001b[1;31mAssertionError\u001b[0m                            Traceback (most recent call last)",
      "\u001b[1;32m<ipython-input-6-6ba7fcb13848>\u001b[0m in \u001b[0;36m<module>\u001b[1;34m\u001b[0m\n\u001b[0;32m      1\u001b[0m \u001b[1;32mfor\u001b[0m \u001b[0mi\u001b[0m \u001b[1;32min\u001b[0m \u001b[0mrange\u001b[0m\u001b[1;33m(\u001b[0m\u001b[1;36m2\u001b[0m\u001b[1;33m,\u001b[0m\u001b[1;36m6\u001b[0m\u001b[1;33m)\u001b[0m\u001b[1;33m:\u001b[0m\u001b[1;33m\u001b[0m\u001b[1;33m\u001b[0m\u001b[0m\n\u001b[1;32m----> 2\u001b[1;33m     \u001b[1;32massert\u001b[0m\u001b[1;33m(\u001b[0m\u001b[0mi\u001b[0m\u001b[1;33m<\u001b[0m\u001b[1;36m4\u001b[0m\u001b[1;33m)\u001b[0m\u001b[1;33m\u001b[0m\u001b[1;33m\u001b[0m\u001b[0m\n\u001b[0m\u001b[0;32m      3\u001b[0m     \u001b[0mprint\u001b[0m\u001b[1;33m(\u001b[0m\u001b[0mi\u001b[0m\u001b[1;33m)\u001b[0m\u001b[1;33m\u001b[0m\u001b[1;33m\u001b[0m\u001b[0m\n",
      "\u001b[1;31mAssertionError\u001b[0m: "
     ]
    }
   ],
   "source": [
    "for i in range(2,6):\n",
    "    assert(i<4)\n",
    "    print(i)"
   ]
  },
  {
   "cell_type": "markdown",
   "metadata": {
    "hidden": true
   },
   "source": [
    "<hr>"
   ]
  },
  {
   "cell_type": "markdown",
   "metadata": {
    "heading_collapsed": true
   },
   "source": [
    "# 3: List comprehensions\n",
    "<hr>"
   ]
  },
  {
   "cell_type": "markdown",
   "metadata": {
    "heading_collapsed": true,
    "hidden": true
   },
   "source": [
    "## 3.1: Основа"
   ]
  },
  {
   "cell_type": "markdown",
   "metadata": {
    "hidden": true
   },
   "source": [
    "- Многу знајачјна програмска можност во Python\n",
    " - Генерирање на нова листа преку примена на некоја функција врз секој елемент од оргиналната листа \n",
    " - Python програмерите интензивно ја користат \n",
    "- Синтаксата за **list comprehension** е малку „чудна“\n",
    " - Комбинира <code>for</code>-циклус, <code>in</code> метод и опционално <code>if</code>, но во рамки на **list comprehension** истите не се користат со стандардна синтакса"
   ]
  },
  {
   "cell_type": "code",
   "execution_count": 10,
   "metadata": {
    "ExecuteTime": {
     "end_time": "2020-09-13T12:55:01.681405Z",
     "start_time": "2020-09-13T12:55:01.669772Z"
    },
    "hidden": true
   },
   "outputs": [
    {
     "name": "stdout",
     "output_type": "stream",
     "text": [
      "Regular list  = [0, 1, 2, 3, 4, 5]\n",
      "Comprehension = [0, 2, 4, 6, 8, 10]\n"
     ]
    }
   ],
   "source": [
    "li = list(range(0,6))\n",
    "print('Regular list  = {}'.format(li))\n",
    "print(\"Comprehension = {}\".format([elem*2 for elem in li]))"
   ]
  },
  {
   "cell_type": "markdown",
   "metadata": {
    "hidden": true
   },
   "source": [
    "Нотација: <code>[expression for name in list]</code>\n",
    " 1. <code>expression</code> е некаква пресметка \n",
    " 2. <code>name</code> променлива врз која се изврува пресметката \n",
    "\n",
    "\n",
    "Што всушност прави: за секој елемент во <code>list</code>, **list comprehension** го прави следното: \n",
    "- 1:го поставува <code>name</code> да биде еднакво на тој елемент \n",
    "- 2:ја пресметува новата вредност користејќи го содведниот <code>expression</code>\n",
    "\n",
    "\n",
    "Потоа овие вредности ги собира во единствена листа која е всушност резултат (<code>return</code> вредноста) за **list comprehension**\n",
    "\n",
    "Ако <code>list</code> содржи елементи од различни типови, тогаш <code>expression</code> мора да работи точно (синтаксички исправно) за секој можен тип кој го имаат елементите на <code>list</code> \n",
    "\n",
    "Ако елементите од <code>list</code> се контејнери (комплексни типови), тогаш <code>name</code> може да биде контејнер (комплексен тип) од имиња кои би одговарале на типот и „обликот“ на составните делови на елементите на  <code>list</code> "
   ]
  },
  {
   "cell_type": "code",
   "execution_count": 14,
   "metadata": {},
   "outputs": [
    {
     "data": {
      "text/plain": [
       "[[2, 3], [4, 5]]"
      ]
     },
     "execution_count": 14,
     "metadata": {},
     "output_type": "execute_result"
    }
   ],
   "source": [
    "lista = [[1,2], [3, 4]]\n",
    "[[index+1 for index in ele] for ele in lista]"
   ]
  },
  {
   "cell_type": "code",
   "execution_count": 16,
   "metadata": {},
   "outputs": [
    {
     "name": "stdout",
     "output_type": "stream",
     "text": [
      "[1, 2]\n",
      "[3, 4]\n"
     ]
    }
   ],
   "source": [
    "for ele in lista:\n",
    "    print(ele)"
   ]
  },
  {
   "cell_type": "code",
   "execution_count": 18,
   "metadata": {
    "ExecuteTime": {
     "end_time": "2020-09-13T13:39:51.490589Z",
     "start_time": "2020-09-13T13:39:51.478743Z"
    },
    "hidden": true
   },
   "outputs": [
    {
     "name": "stdout",
     "output_type": "stream",
     "text": [
      "list = [('a', 1), ('b', 2), ('c', 3)]\n",
      "new  = [3, 6, 9]\n",
      "[('a', 1), ('b', 2), ('c', 3)]\n"
     ]
    }
   ],
   "source": [
    "li = [('a', 1), ('b', 2), ('c', 3)]\n",
    "print('list =', li)\n",
    "print('new  =', [n*3 for (x,n) in li])\n",
    "print(li)"
   ]
  },
  {
   "cell_type": "markdown",
   "metadata": {
    "hidden": true
   },
   "source": [
    "Во рамките на <code>expression</code> може да се дефинираат и функции дефинирани од корисник"
   ]
  },
  {
   "cell_type": "code",
   "execution_count": 19,
   "metadata": {
    "ExecuteTime": {
     "end_time": "2020-09-13T13:43:13.180710Z",
     "start_time": "2020-09-13T13:43:13.166717Z"
    },
    "hidden": true
   },
   "outputs": [
    {
     "name": "stdout",
     "output_type": "stream",
     "text": [
      "list         =  [(6, 3), (14, 7), (5, 5)]\n",
      "substracted  =  [3, 7, 0]\n"
     ]
    }
   ],
   "source": [
    "def substract(a, b):\n",
    "    return a-  b\n",
    "\n",
    "list_numb = [(6,3), (14,7), (5,5)]\n",
    "print('list         = ', list_numb)\n",
    "print('substracted  = ', [substract(a,b) for (a,b) in list_numb])"
   ]
  },
  {
   "cell_type": "markdown",
   "metadata": {
    "hidden": true
   },
   "source": [
    "<hr>"
   ]
  },
  {
   "cell_type": "markdown",
   "metadata": {
    "heading_collapsed": true,
    "hidden": true
   },
   "source": [
    "## 3.2: Филтриран List comprehension"
   ]
  },
  {
   "cell_type": "markdown",
   "metadata": {
    "hidden": true
   },
   "source": [
    "Нотација: <code>[expression for name in list if filter]</code>\n",
    "\n",
    "- <code>filter</code> одредува дали <code>expression</code> ќе се изврши врз секој елемент на <code>list</code> \n",
    "- За секој елемент на <code>list</code>, се проверува дали го задоволува условот <code>filter</code>\n",
    "- Ако условот врати <b><code>False</code></b>, тогаш тој елемент се исоставува од <code>list</code> пред да се евалуира изразот дефиниран за **list comprehension**"
   ]
  },
  {
   "cell_type": "code",
   "execution_count": 20,
   "metadata": {
    "ExecuteTime": {
     "end_time": "2020-09-13T13:51:50.204705Z",
     "start_time": "2020-09-13T13:51:50.194569Z"
    },
    "hidden": true
   },
   "outputs": [
    {
     "name": "stdout",
     "output_type": "stream",
     "text": [
      "Regular list       =  [0, 1, 2, 3, 4, 5, 6, 7, 8, 9]\n",
      "larger than 4 list =  [5, 6, 7, 8, 9]\n"
     ]
    }
   ],
   "source": [
    "li = list(range(10))\n",
    "print(\"Regular list       = \", li)\n",
    "\n",
    "print(\"larger than 4 list = \", [ele for ele in li if ele>4])"
   ]
  },
  {
   "cell_type": "markdown",
   "metadata": {
    "hidden": true
   },
   "source": [
    "<hr>"
   ]
  },
  {
   "cell_type": "markdown",
   "metadata": {
    "heading_collapsed": true,
    "hidden": true
   },
   "source": [
    "## 3.3: Nested list comprehension"
   ]
  },
  {
   "cell_type": "markdown",
   "metadata": {
    "hidden": true
   },
   "source": [
    "Бидејќи примаат листа на влез и на излез даваат листа многу лесно може да се вгнездуваат"
   ]
  },
  {
   "cell_type": "code",
   "execution_count": 15,
   "metadata": {
    "ExecuteTime": {
     "end_time": "2020-09-13T13:55:56.747823Z",
     "start_time": "2020-09-13T13:55:56.735626Z"
    },
    "hidden": true
   },
   "outputs": [
    {
     "name": "stdout",
     "output_type": "stream",
     "text": [
      "[0, 1, 2, 3]\n",
      "Nested loop returns :  [1, 2, 3, 4]\n",
      "Outside loop returns:  [4, 8, 12, 16]\n"
     ]
    }
   ],
   "source": [
    "li = list(range(4))\n",
    "print(li)\n",
    "print(\"Nested loop returns : \", [item+1 for item in li])\n",
    "print(\"Outside loop returns: \", [ele*4 for ele in \n",
    "                                 [item+1 for item in li]])"
   ]
  },
  {
   "cell_type": "markdown",
   "metadata": {
    "hidden": true
   },
   "source": [
    "<hr>"
   ]
  },
  {
   "cell_type": "markdown",
   "metadata": {
    "heading_collapsed": true
   },
   "source": [
    "# 4: Importing modules\n",
    "<hr>"
   ]
  },
  {
   "cell_type": "markdown",
   "metadata": {
    "heading_collapsed": true,
    "hidden": true
   },
   "source": [
    "## 4.1: Основа"
   ]
  },
  {
   "cell_type": "markdown",
   "metadata": {
    "hidden": true
   },
   "source": [
    "- Користење на класи и функции дефинирани во друга датотека\n",
    "- Во Python, модулот е датотека со соодветен Python код (.py)\n",
    "<br>\n",
    "\n",
    "- Има три различни облици на импортирање модули: \n",
    " - <code>import somefile</code>\n",
    " - <code>from somefile import *</code>\n",
    " - <code>from somefile import className</code>"
   ]
  },
  {
   "cell_type": "markdown",
   "metadata": {
    "hidden": true
   },
   "source": [
    "- Што е разликата?\n",
    " - Разликата е во <u>што</u> ќе се импортира и <u>како се пристапува</u> до составните делови на модулот откако ќе се импортира"
   ]
  },
  {
   "cell_type": "markdown",
   "metadata": {
    "hidden": true
   },
   "source": [
    "<code>import somefile</code><br>\n",
    "- Целиот фајл се импортира\n",
    "- За да пристапиме до нешто од датотеката, мора пред името на „нештото“ што сакаме да го искористиме да ставиме префикс за модулот т.е. <code>somefile</code>"
   ]
  },
  {
   "cell_type": "code",
   "execution_count": 26,
   "metadata": {
    "ExecuteTime": {
     "end_time": "2020-09-13T14:06:24.679906Z",
     "start_time": "2020-09-13T14:06:24.672480Z"
    },
    "hidden": true
   },
   "outputs": [
    {
     "name": "stdout",
     "output_type": "stream",
     "text": [
      "4 + 5 = 9\n"
     ]
    }
   ],
   "source": [
    "import somefile\n",
    "print(\"4 + 5 =\", somefile.add(4,5))"
   ]
  },
  {
   "cell_type": "markdown",
   "metadata": {
    "hidden": true
   },
   "source": [
    "<code>from somefile import * </code><br>\n",
    " - Целокупноста на <code>somefile.py</code> се импортира \n",
    " - За да се пристапи до нешто од датотеката, едноставно треба само да се наведе неговото име. Се што се наоѓало во модулот сега се наоѓа во тековниот <code>namespace</code> (namespace е систем од интерпретерот кои има цел да осигура дека сите имиња на променливи, функции се различни за да не доаѓа до **конфликт**)\n",
    " - Треба внимателно да се користи ваквиот облик бидејќи многу лесно може да ги пребрише дефинициите на локалните (постоечки) функции или променливи!"
   ]
  },
  {
   "cell_type": "code",
   "execution_count": 27,
   "metadata": {
    "ExecuteTime": {
     "end_time": "2020-09-13T14:12:40.835451Z",
     "start_time": "2020-09-13T14:12:40.828093Z"
    },
    "hidden": true
   },
   "outputs": [
    {
     "name": "stdout",
     "output_type": "stream",
     "text": [
      "10 - 1 = 9\n"
     ]
    }
   ],
   "source": [
    "from somefile2 import *\n",
    "print(\"10 - 1 =\", substract(10,1))"
   ]
  },
  {
   "cell_type": "markdown",
   "metadata": {
    "hidden": true
   },
   "source": [
    "<code>from somefile import myFunc</code><br>"
   ]
  },
  {
   "cell_type": "markdown",
   "metadata": {
    "hidden": true
   },
   "source": [
    " - Само делот <code>myFunc</code> од датотеката се импортира\n",
    " - После импортирањето може да се користи функцијата (класата) без префикс \n",
    " - Истотака треба да се внимава и овде бидејќи доколку имаме претходно дефинирана функција со истото име може да се overwrite-не"
   ]
  },
  {
   "cell_type": "code",
   "execution_count": 30,
   "metadata": {
    "ExecuteTime": {
     "end_time": "2020-09-13T14:17:55.555125Z",
     "start_time": "2020-09-13T14:17:55.541893Z"
    },
    "hidden": true
   },
   "outputs": [
    {
     "name": "stdout",
     "output_type": "stream",
     "text": [
      "imported file function : KKKK\n",
      "overwritten function   : 20\n"
     ]
    }
   ],
   "source": [
    "from somefile3 import myFunc\n",
    "print('imported file function :', myFunc(\"kkkk\"))\n",
    "\n",
    "def myFunc(a, b):\n",
    "    return a*b\n",
    "\n",
    "print(\"overwritten function   :\", myFunc(10, 2))"
   ]
  },
  {
   "cell_type": "markdown",
   "metadata": {
    "hidden": true
   },
   "source": [
    "<hr>"
   ]
  },
  {
   "cell_type": "markdown",
   "metadata": {
    "heading_collapsed": true,
    "hidden": true
   },
   "source": [
    "## 4.2: Вообичаено користени модули"
   ]
  },
  {
   "cell_type": "markdown",
   "metadata": {
    "hidden": true
   },
   "source": [
    "Некои од често користените модули кои се импортираат, и се вклучени во стандардната инсталација: \n",
    "- Модул: <code>sys</code> – многу корисни работи\n",
    "- Модул: <code>os</code> – OS специфични кодови\n",
    "- Модул: <code>os.path</code> – манипулација со патеки\n",
    "- Модул: <code>math</code> – математички функции\n",
    "- Модул: <code>random</code> – модул за случајни броеви\n",
    "- Стандардна библиотека со модули за Python:\n",
    "– https://docs.python.org/3/library/index.html"
   ]
  },
  {
   "cell_type": "markdown",
   "metadata": {
    "hidden": true
   },
   "source": [
    "Каде ги бара Python модул датотеките? \n",
    "- Листата на директориуми во кои Python ќе се обиде да ги најде модулите кои треба да се импортираат се наоѓа во <code>sys.path</code> <br>\n",
    "(Променливата со име \"<code>path</code>\" во модулот \"<code>path</code>\"\n",
    "- За да додадете директориум каде се наоѓаат ваши модули треба таа патека да ја „прилепете“ на постоечка листа "
   ]
  },
  {
   "cell_type": "markdown",
   "metadata": {
    "hidden": true
   },
   "source": [
    "<hr>"
   ]
  },
  {
   "cell_type": "markdown",
   "metadata": {
    "heading_collapsed": true
   },
   "source": [
    "# 5: Namespaces\n",
    "<hr>"
   ]
  },
  {
   "cell_type": "markdown",
   "metadata": {
    "heading_collapsed": true,
    "hidden": true
   },
   "source": [
    "## 5.1: Простори на имиња (теорија)"
   ]
  },
  {
   "cell_type": "markdown",
   "metadata": {
    "hidden": true
   },
   "source": [
    "- Во Python, променливате е име (индетификатор) кое што е референца на некој објект\n",
    "- **Простор на имиња** (namespace) претставува речник што се состои од имиња на променливи (клучеви) и објекти (вредности) кои што им се придружени на нив \n",
    "- Секоја функција и секоја класа си има свој локален простор на имиња \n",
    "- Дадена наредба во Python може да пристапува имиња од локален простор на имиња или од глобалниот простор на имиња "
   ]
  },
  {
   "cell_type": "markdown",
   "metadata": {
    "hidden": true
   },
   "source": [
    "<hr>"
   ]
  },
  {
   "cell_type": "markdown",
   "metadata": {
    "heading_collapsed": true,
    "hidden": true
   },
   "source": [
    "## 5.2: Локална и глобална променлива"
   ]
  },
  {
   "cell_type": "markdown",
   "metadata": {
    "hidden": true
   },
   "source": [
    "Ако локална и глобална променлива имаат исто име, локалната променлива *фрла сенка* на глобалната (ја препокрива)"
   ]
  },
  {
   "cell_type": "code",
   "execution_count": 33,
   "metadata": {
    "ExecuteTime": {
     "end_time": "2020-09-13T14:57:48.686084Z",
     "start_time": "2020-09-13T14:57:48.671989Z"
    },
    "hidden": true
   },
   "outputs": [
    {
     "name": "stdout",
     "output_type": "stream",
     "text": [
      "Vnatre vo funkcijata, vkupno = 30\n",
      "Nadvor od funkcijata, vkupno = 0\n"
     ]
    }
   ],
   "source": [
    "vkupno = 0                                                       # Global var\n",
    "def zbir(x, y):\n",
    "    vkupno = x + y\n",
    "    print(\"Vnatre vo funkcijata, vkupno =\", vkupno)             # Local var\n",
    "    return vkupno \n",
    "\n",
    "zbir(10, 20)\n",
    "print(\"Nadvor od funkcijata, vkupno =\" , vkupno)"
   ]
  },
  {
   "cell_type": "markdown",
   "metadata": {
    "hidden": true
   },
   "source": [
    "**Пристап до глобални променливи во тело на функција**<br>\n",
    "- Python прави едуцирани претпоставки за тоа дали променливите се локални или глобални \n",
    "- Тој претпоставува дека секоја променлива на која што и се доделува вредност во <u>рамки на телото на некоја функција</u> е *локална променлива*\n",
    "- Затоа, за да се додели вредност на глобална променлива во телото на некоја функција неопходно е да се употребни наредбата <code>global</code>\n",
    "- Наредбата <code>global x</code> му кажува на Python дека x е глобална променлива \n",
    " - Веќе не се пребарува просторот на имиња за оваа променлива"
   ]
  },
  {
   "cell_type": "code",
   "execution_count": 36,
   "metadata": {
    "ExecuteTime": {
     "end_time": "2020-09-13T15:09:45.736922Z",
     "start_time": "2020-09-13T15:09:45.726581Z"
    },
    "hidden": true
   },
   "outputs": [
    {
     "name": "stdout",
     "output_type": "stream",
     "text": [
      "2000\n",
      "2001\n"
     ]
    }
   ],
   "source": [
    "money = 2000\n",
    "\n",
    "def add_money():\n",
    "    global money\n",
    "    money = money + 1\n",
    "\n",
    "print(money)\n",
    "add_money()\n",
    "print(money)"
   ]
  },
  {
   "cell_type": "markdown",
   "metadata": {
    "hidden": true
   },
   "source": [
    "- Променливата <code>money</code> е дефинирана во глобалниот простор на имиња \n",
    "- Во функцијата <code>add_money()</code> на променливата и доделуваме вредност, па Python претпоставува дкеа <code>money</code> е локална променлива \n",
    " - Затоа ние му најавуваме дека <code>money</code> е глобалната променлива дефинирана претходно\n",
    " - Без наредбата <code>global money</code> кодот ќе резултираше со <code>UnBoundLocallError</code> (пристап до непостоечка променлива)"
   ]
  },
  {
   "cell_type": "code",
   "execution_count": 29,
   "metadata": {
    "ExecuteTime": {
     "end_time": "2020-09-13T15:14:09.330628Z",
     "start_time": "2020-09-13T15:14:09.314854Z"
    },
    "hidden": true
   },
   "outputs": [
    {
     "ename": "UnboundLocalError",
     "evalue": "local variable 'temp' referenced before assignment",
     "output_type": "error",
     "traceback": [
      "\u001b[1;31m---------------------------------------------------------------------------\u001b[0m",
      "\u001b[1;31mUnboundLocalError\u001b[0m                         Traceback (most recent call last)",
      "\u001b[1;32m<ipython-input-29-4f34959ff665>\u001b[0m in \u001b[0;36m<module>\u001b[1;34m\u001b[0m\n\u001b[0;32m      4\u001b[0m     \u001b[0mtemp\u001b[0m \u001b[1;33m=\u001b[0m \u001b[0mtemp\u001b[0m \u001b[1;33m+\u001b[0m \u001b[1;36m10\u001b[0m\u001b[1;33m\u001b[0m\u001b[1;33m\u001b[0m\u001b[0m\n\u001b[0;32m      5\u001b[0m \u001b[1;33m\u001b[0m\u001b[0m\n\u001b[1;32m----> 6\u001b[1;33m \u001b[0mtFunc\u001b[0m\u001b[1;33m(\u001b[0m\u001b[1;33m)\u001b[0m\u001b[1;33m\u001b[0m\u001b[1;33m\u001b[0m\u001b[0m\n\u001b[0m\u001b[0;32m      7\u001b[0m \u001b[0mprint\u001b[0m\u001b[1;33m(\u001b[0m\u001b[0mtemp\u001b[0m\u001b[1;33m)\u001b[0m\u001b[1;33m\u001b[0m\u001b[1;33m\u001b[0m\u001b[0m\n",
      "\u001b[1;32m<ipython-input-29-4f34959ff665>\u001b[0m in \u001b[0;36mtFunc\u001b[1;34m()\u001b[0m\n\u001b[0;32m      2\u001b[0m \u001b[1;33m\u001b[0m\u001b[0m\n\u001b[0;32m      3\u001b[0m \u001b[1;32mdef\u001b[0m \u001b[0mtFunc\u001b[0m\u001b[1;33m(\u001b[0m\u001b[1;33m)\u001b[0m\u001b[1;33m:\u001b[0m\u001b[1;33m\u001b[0m\u001b[1;33m\u001b[0m\u001b[0m\n\u001b[1;32m----> 4\u001b[1;33m     \u001b[0mtemp\u001b[0m \u001b[1;33m=\u001b[0m \u001b[0mtemp\u001b[0m \u001b[1;33m+\u001b[0m \u001b[1;36m10\u001b[0m\u001b[1;33m\u001b[0m\u001b[1;33m\u001b[0m\u001b[0m\n\u001b[0m\u001b[0;32m      5\u001b[0m \u001b[1;33m\u001b[0m\u001b[0m\n\u001b[0;32m      6\u001b[0m \u001b[0mtFunc\u001b[0m\u001b[1;33m(\u001b[0m\u001b[1;33m)\u001b[0m\u001b[1;33m\u001b[0m\u001b[1;33m\u001b[0m\u001b[0m\n",
      "\u001b[1;31mUnboundLocalError\u001b[0m: local variable 'temp' referenced before assignment"
     ]
    }
   ],
   "source": [
    "temp = 10\n",
    "\n",
    "def tFunc():\n",
    "    temp = temp + 10\n",
    "\n",
    "tFunc()\n",
    "print(temp)"
   ]
  },
  {
   "cell_type": "markdown",
   "metadata": {
    "hidden": true
   },
   "source": [
    "<hr>"
   ]
  },
  {
   "cell_type": "markdown",
   "metadata": {
    "heading_collapsed": true
   },
   "source": [
    "# 6: Object-oriented \n",
    "<hr>"
   ]
  },
  {
   "cell_type": "markdown",
   "metadata": {
    "heading_collapsed": true,
    "hidden": true
   },
   "source": [
    "## 6.1: Основи"
   ]
  },
  {
   "cell_type": "markdown",
   "metadata": {
    "hidden": true
   },
   "source": [
    "Од она што видовме до сега се во Python e објект"
   ]
  },
  {
   "cell_type": "code",
   "execution_count": 40,
   "metadata": {
    "ExecuteTime": {
     "end_time": "2020-09-13T15:19:34.212081Z",
     "start_time": "2020-09-13T15:19:34.198037Z"
    },
    "hidden": true
   },
   "outputs": [
    {
     "data": {
      "text/plain": [
       "'HELLO'"
      ]
     },
     "execution_count": 40,
     "metadata": {},
     "output_type": "execute_result"
    }
   ],
   "source": [
    "'hello'.upper()"
   ]
  },
  {
   "cell_type": "code",
   "execution_count": 47,
   "metadata": {
    "ExecuteTime": {
     "end_time": "2020-09-13T15:21:25.441431Z",
     "start_time": "2020-09-13T15:21:25.430179Z"
    },
    "hidden": true
   },
   "outputs": [
    {
     "name": "stdout",
     "output_type": "stream",
     "text": [
      "[0, 1, 's']\n"
     ]
    }
   ],
   "source": [
    "listC = list(range(2))\n",
    "listC.append('s')\n",
    "print(listC)"
   ]
  },
  {
   "cell_type": "code",
   "execution_count": 48,
   "metadata": {
    "ExecuteTime": {
     "end_time": "2020-09-13T15:22:03.668540Z",
     "start_time": "2020-09-13T15:22:03.655807Z"
    },
    "hidden": true
   },
   "outputs": [
    {
     "name": "stdout",
     "output_type": "stream",
     "text": [
      "['a', 'b']\n"
     ]
    }
   ],
   "source": [
    "dictC = {'a':3, 'b':3}\n",
    "print(list(dictC.keys()))"
   ]
  },
  {
   "cell_type": "markdown",
   "metadata": {
    "hidden": true
   },
   "source": [
    "Покрај овие вградени податочни типови, може да се дефинираат и нови податочни типови (нови класи). \n",
    "\n",
    "\n",
    "Програмирањето во Python најчесто користи објектно-ориентирана парадигма. "
   ]
  },
  {
   "cell_type": "markdown",
   "metadata": {
    "hidden": true
   },
   "source": [
    "<hr>"
   ]
  },
  {
   "cell_type": "markdown",
   "metadata": {
    "heading_collapsed": true,
    "hidden": true
   },
   "source": [
    "## 6.2: Дефинирање на класа"
   ]
  },
  {
   "cell_type": "markdown",
   "metadata": {
    "hidden": true
   },
   "source": [
    "- **Класа** е специјален податочен тип кој дефинира како да се изградат определен тип на објекти \n",
    " - **Класата** дополнително чува и одредени податочни ставки кои ги споделуваат сите инстанци од дадената класа\n",
    " - **Инстанци** се објекти кои се креирани врз основа на дефинициирте дадени во рамки на класата \n",
    "- Python не користи посебен интерфејс за дефинирање на класи како други јазици. Овде едноставно ја дефинирате класата и веднаш може да ја користите \n",
    "- **Методи** во рамки на **класа** се дефинираат преку вклучување на дефиниции на функции во рамки на блокот за дефинирање на класата. \n",
    " - Во рамки на секоја дефиниција на метода првиот аргумент мора да биде <code>self</code>, којшто претставува референца што се врзува со инстацата која ја повикува методата\n",
    " - Во најголем број на класи вообичаено е да постои метода со име <br>\n",
    " <code>&#95;&#95;init&#95;&#95;</code>"
   ]
  },
  {
   "cell_type": "code",
   "execution_count": 58,
   "metadata": {
    "ExecuteTime": {
     "end_time": "2020-09-13T15:34:53.371963Z",
     "start_time": "2020-09-13T15:34:53.361961Z"
    },
    "hidden": true
   },
   "outputs": [],
   "source": [
    "class Worker: \n",
    "    \"\"\"Класа за репрезентација на работник во фабрика\"\"\"\n",
    "    def __init__(self, n, a):\n",
    "        self.full_name = n\n",
    "        self.age = a\n",
    "        \n",
    "    def get_age(self):\n",
    "        return self.age \n",
    "    \n",
    "    def get_name(self):\n",
    "        return self.full_name"
   ]
  },
  {
   "cell_type": "markdown",
   "metadata": {
    "heading_collapsed": true,
    "hidden": true
   },
   "source": [
    "### Инстанцирање на објекти"
   ]
  },
  {
   "cell_type": "markdown",
   "metadata": {
    "hidden": true
   },
   "source": [
    "- Во Python не постои клучен збор за **инстанцирање на објекти** како во Java постои\n",
    "- <code>&#95;&#95;init&#95;&#95;</code> е конструкторот на класата - метода што се повикува секогаш кога се создава објект од таа класа. Вообичаено прави одредени иницијализации\n",
    "- Аргументите кои се внесуваат во заградите после името на класата се аргументите со кои се повикува <code>&#95;&#95;init&#95;&#95;()</code> методата"
   ]
  },
  {
   "cell_type": "code",
   "execution_count": 59,
   "metadata": {
    "ExecuteTime": {
     "end_time": "2020-09-13T15:37:27.549158Z",
     "start_time": "2020-09-13T15:37:27.543173Z"
    },
    "hidden": true
   },
   "outputs": [
    {
     "name": "stdout",
     "output_type": "stream",
     "text": [
      "Simon : 30\n"
     ]
    }
   ],
   "source": [
    "worker1 = Worker(\"Simon\", 30)\n",
    "print(worker1.get_name(), ':', worker1.get_age())"
   ]
  },
  {
   "cell_type": "markdown",
   "metadata": {
    "heading_collapsed": true,
    "hidden": true
   },
   "source": [
    "### Конструктор: <code>&#95;&#95;init&#95;&#95;()</code>"
   ]
  },
  {
   "cell_type": "markdown",
   "metadata": {
    "hidden": true
   },
   "source": [
    "- <code>&#95;&#95;init&#95;&#95;</code> методата може да има произволен број на аргументи \n",
    " - Како и за секоја друга функција, така и за конструкторот аргументите можат да се дефинираат со deafult вредности, со што стануваат опциопнални на повикот\n",
    "- Но, секогаш првиот аргумент МОРА да биде <code>self</code>\n",
    "- Првиот метод на секоја метода е референца кон тековната инстанца од класата \n",
    " - По конвенција ова се означува со <code>self</code>\n",
    " - Во <code>&#95;&#95;init&#95;&#95;</code>, <code>self</code> се однесува на објектот кој тековно се креира додека во другите методи инстанцата која ја повикала методата \n",
    "- При повик на било која метода надвор од класата не треба да се наведува <code>self</code> како аргумент, бидејќи се подразбира истото важи и при правење на инстанца "
   ]
  },
  {
   "cell_type": "markdown",
   "metadata": {
    "heading_collapsed": true,
    "hidden": true
   },
   "source": [
    "## 6.3: Бришење на инстанци "
   ]
  },
  {
   "cell_type": "markdown",
   "metadata": {
    "hidden": true
   },
   "source": [
    "- Кога ќе завршите со работа со одреден објект, не мора експлицитно да го бришете или ослободувате.\n",
    " - Python има автоматско „собирање на ѓубре“ (анг. garbage collection).\n",
    " - Python автоматски детектира кога повеќе нема референци (не може да се пристапи) кон одреден дел од меморијата и автоматски го брише"
   ]
  },
  {
   "cell_type": "code",
   "execution_count": 6,
   "metadata": {
    "ExecuteTime": {
     "end_time": "2020-09-14T07:57:37.682404Z",
     "start_time": "2020-09-14T07:57:37.674253Z"
    },
    "hidden": true
   },
   "outputs": [],
   "source": [
    "class Worker: \n",
    "    __kiril = 0\n",
    "    \"\"\"Класа за репрезентација на работник во фабрика\"\"\"\n",
    "    def __init__(self, n, a):\n",
    "        self.full_name = n\n",
    "        self.age = a\n",
    "        \n",
    "    def get_age(self):\n",
    "        return self.age \n",
    "    \n",
    "    def get_name(self):\n",
    "        return self.full_name"
   ]
  },
  {
   "cell_type": "code",
   "execution_count": 8,
   "metadata": {
    "ExecuteTime": {
     "end_time": "2020-09-14T07:57:42.787923Z",
     "start_time": "2020-09-14T07:57:42.774122Z"
    }
   },
   "outputs": [
    {
     "ename": "AttributeError",
     "evalue": "'Worker' object has no attribute '__kiril'",
     "output_type": "error",
     "traceback": [
      "\u001b[1;31m---------------------------------------------------------------------------\u001b[0m",
      "\u001b[1;31mAttributeError\u001b[0m                            Traceback (most recent call last)",
      "\u001b[1;32m<ipython-input-8-88563a6fc53d>\u001b[0m in \u001b[0;36m<module>\u001b[1;34m\u001b[0m\n\u001b[0;32m      1\u001b[0m \u001b[0mnewWorker\u001b[0m \u001b[1;33m=\u001b[0m \u001b[0mWorker\u001b[0m\u001b[1;33m(\u001b[0m\u001b[1;34m\"Jeff\"\u001b[0m\u001b[1;33m,\u001b[0m \u001b[1;36m40\u001b[0m\u001b[1;33m)\u001b[0m\u001b[1;33m\u001b[0m\u001b[1;33m\u001b[0m\u001b[0m\n\u001b[1;32m----> 2\u001b[1;33m \u001b[0mnewWorker\u001b[0m\u001b[1;33m.\u001b[0m\u001b[0m__kiril\u001b[0m\u001b[1;33m\u001b[0m\u001b[1;33m\u001b[0m\u001b[0m\n\u001b[0m",
      "\u001b[1;31mAttributeError\u001b[0m: 'Worker' object has no attribute '__kiril'"
     ]
    }
   ],
   "source": [
    "newWorker = Worker(\"Jeff\", 40)\n",
    "newWorker.__kiril"
   ]
  },
  {
   "cell_type": "code",
   "execution_count": 62,
   "metadata": {
    "ExecuteTime": {
     "end_time": "2020-09-13T18:13:24.543135Z",
     "start_time": "2020-09-13T18:13:24.528190Z"
    },
    "hidden": true
   },
   "outputs": [
    {
     "name": "stdout",
     "output_type": "stream",
     "text": [
      "name: Jeff\n",
      "age : 40\n"
     ]
    }
   ],
   "source": [
    "newWorker = Worker(\"Jeff\", 40)\n",
    "print(\"name:\", newWorker.get_name())\n",
    "print(\"age :\", newWorker.get_age())"
   ]
  },
  {
   "cell_type": "code",
   "execution_count": 64,
   "metadata": {
    "ExecuteTime": {
     "end_time": "2020-09-13T18:14:08.334070Z",
     "start_time": "2020-09-13T18:14:08.323968Z"
    },
    "hidden": true
   },
   "outputs": [
    {
     "name": "stdout",
     "output_type": "stream",
     "text": [
      "Jeff 40\n"
     ]
    }
   ],
   "source": [
    "print(newWorker.full_name, newWorker.age)"
   ]
  },
  {
   "cell_type": "markdown",
   "metadata": {
    "heading_collapsed": true,
    "hidden": true
   },
   "source": [
    "## 6.4: Пристап до непознати делови од класата"
   ]
  },
  {
   "cell_type": "markdown",
   "metadata": {
    "hidden": true
   },
   "source": [
    "Проблем: Понекогаш името на некој атрибут или метода во рамки на класа се добива во време на извршување (run time)\n",
    " - Решение: <b><code>getattr(object_instance, string)</code></b>\n",
    " - <code>string</code> е стринг кој содржи име на атрибут или метода од класа\n",
    " - <code>getattr(object_instance, string)</code> враќа референца кон тој атрибут или метода"
   ]
  },
  {
   "cell_type": "markdown",
   "metadata": {
    "hidden": true
   },
   "source": [
    "<b><code>getattr(object_instance, string)</code></b>"
   ]
  },
  {
   "cell_type": "code",
   "execution_count": 65,
   "metadata": {
    "ExecuteTime": {
     "end_time": "2020-09-13T18:17:41.395213Z",
     "start_time": "2020-09-13T18:17:41.382093Z"
    },
    "hidden": true
   },
   "outputs": [
    {
     "data": {
      "text/plain": [
       "'Mark'"
      ]
     },
     "execution_count": 65,
     "metadata": {},
     "output_type": "execute_result"
    }
   ],
   "source": [
    "f = Worker(\"Mark\", 50)\n",
    "getattr(f, \"full_name\")"
   ]
  },
  {
   "cell_type": "code",
   "execution_count": 66,
   "metadata": {
    "ExecuteTime": {
     "end_time": "2020-09-13T18:18:03.879575Z",
     "start_time": "2020-09-13T18:18:03.874195Z"
    },
    "hidden": true
   },
   "outputs": [
    {
     "data": {
      "text/plain": [
       "50"
      ]
     },
     "execution_count": 66,
     "metadata": {},
     "output_type": "execute_result"
    }
   ],
   "source": [
    "getattr(f, \"age\")"
   ]
  },
  {
   "cell_type": "code",
   "execution_count": 67,
   "metadata": {
    "ExecuteTime": {
     "end_time": "2020-09-13T18:18:17.711502Z",
     "start_time": "2020-09-13T18:18:17.699591Z"
    },
    "hidden": true
   },
   "outputs": [
    {
     "data": {
      "text/plain": [
       "<bound method Worker.get_age of <__main__.Worker object at 0x000001E67462A448>>"
      ]
     },
     "execution_count": 67,
     "metadata": {},
     "output_type": "execute_result"
    }
   ],
   "source": [
    "getattr(f, \"get_age\")"
   ]
  },
  {
   "cell_type": "code",
   "execution_count": 68,
   "metadata": {
    "ExecuteTime": {
     "end_time": "2020-09-13T18:18:32.148486Z",
     "start_time": "2020-09-13T18:18:32.119897Z"
    },
    "hidden": true
   },
   "outputs": [
    {
     "ename": "AttributeError",
     "evalue": "'Worker' object has no attribute 'get_salary'",
     "output_type": "error",
     "traceback": [
      "\u001b[1;31m---------------------------------------------------------------------------\u001b[0m",
      "\u001b[1;31mAttributeError\u001b[0m                            Traceback (most recent call last)",
      "\u001b[1;32m<ipython-input-68-784619c31253>\u001b[0m in \u001b[0;36m<module>\u001b[1;34m\u001b[0m\n\u001b[1;32m----> 1\u001b[1;33m \u001b[0mgetattr\u001b[0m\u001b[1;33m(\u001b[0m\u001b[0mf\u001b[0m\u001b[1;33m,\u001b[0m \u001b[1;34m\"get_salary\"\u001b[0m\u001b[1;33m)\u001b[0m\u001b[1;33m\u001b[0m\u001b[1;33m\u001b[0m\u001b[0m\n\u001b[0m",
      "\u001b[1;31mAttributeError\u001b[0m: 'Worker' object has no attribute 'get_salary'"
     ]
    }
   ],
   "source": [
    "getattr(f, \"get_salary\")"
   ]
  },
  {
   "cell_type": "markdown",
   "metadata": {
    "hidden": true
   },
   "source": [
    "<b><code>hasattr(object, string)</code></b>"
   ]
  },
  {
   "cell_type": "code",
   "execution_count": 69,
   "metadata": {
    "ExecuteTime": {
     "end_time": "2020-09-13T18:19:24.447842Z",
     "start_time": "2020-09-13T18:19:24.435558Z"
    },
    "hidden": true
   },
   "outputs": [
    {
     "data": {
      "text/plain": [
       "True"
      ]
     },
     "execution_count": 69,
     "metadata": {},
     "output_type": "execute_result"
    }
   ],
   "source": [
    "f = Worker(\"Mark\", 50)\n",
    "hasattr(f, \"age\")"
   ]
  },
  {
   "cell_type": "code",
   "execution_count": 70,
   "metadata": {
    "ExecuteTime": {
     "end_time": "2020-09-13T18:19:36.399265Z",
     "start_time": "2020-09-13T18:19:36.388870Z"
    },
    "hidden": true
   },
   "outputs": [
    {
     "data": {
      "text/plain": [
       "True"
      ]
     },
     "execution_count": 70,
     "metadata": {},
     "output_type": "execute_result"
    }
   ],
   "source": [
    "hasattr(f, \"full_name\")"
   ]
  },
  {
   "cell_type": "code",
   "execution_count": 71,
   "metadata": {
    "ExecuteTime": {
     "end_time": "2020-09-13T18:19:44.324376Z",
     "start_time": "2020-09-13T18:19:44.311526Z"
    },
    "hidden": true
   },
   "outputs": [
    {
     "data": {
      "text/plain": [
       "True"
      ]
     },
     "execution_count": 71,
     "metadata": {},
     "output_type": "execute_result"
    }
   ],
   "source": [
    "hasattr(f, \"get_name\")"
   ]
  },
  {
   "cell_type": "code",
   "execution_count": 72,
   "metadata": {
    "ExecuteTime": {
     "end_time": "2020-09-13T18:19:50.694694Z",
     "start_time": "2020-09-13T18:19:50.688063Z"
    },
    "hidden": true
   },
   "outputs": [
    {
     "data": {
      "text/plain": [
       "False"
      ]
     },
     "execution_count": 72,
     "metadata": {},
     "output_type": "execute_result"
    }
   ],
   "source": [
    "hasattr(f, \"get_salary\")"
   ]
  },
  {
   "cell_type": "markdown",
   "metadata": {
    "heading_collapsed": true,
    "hidden": true
   },
   "source": [
    "## 6.5: Типови на атрибути"
   ]
  },
  {
   "cell_type": "markdown",
   "metadata": {
    "hidden": true
   },
   "source": [
    "Во дадена класа, сè што не е метода е атрибут.\n",
    "1. **Податочни атрибути**\n",
    " - Променлива која припаѓа на конкретна инстанца од класата.\n",
    " - Секоја инстанца има посебна вредност за овој тип на атрибут.\n",
    " - Вообичаен тип на атрибути.\n",
    " \n",
    " \n",
    "2. **Класни атрибути**\n",
    " - Припаѓаат на класата како целина.\n",
    " - Сите инстанци на класата ја споделуваат истата вредност.\n",
    " - Во некои јазици се нарекува <code>static</code> променлива.\n",
    " - Добри за:\n",
    "    - константи на ниво на класа\n",
    "    - бројач на инстанци креирани од класата"
   ]
  },
  {
   "cell_type": "markdown",
   "metadata": {
    "heading_collapsed": true,
    "hidden": true
   },
   "source": [
    "#### Податочни атрибути "
   ]
  },
  {
   "cell_type": "markdown",
   "metadata": {
    "hidden": true
   },
   "source": [
    "Податочните атрибути се креираат и иницијализираат со конструкторот <b><code>&#95;&#95;init&#95;&#95;</code></b> \n",
    " - Со доделување вредност на некое име на атрибут истиот се креира.\n",
    " - Во рамки на класата, податочните атрибути се референцираат (пристапуваат) со\n",
    "наведување на префиксот self. (на пример, <code>self.full_name</code>)"
   ]
  },
  {
   "cell_type": "code",
   "execution_count": 73,
   "metadata": {
    "ExecuteTime": {
     "end_time": "2020-09-13T18:25:31.754989Z",
     "start_time": "2020-09-13T18:25:31.742436Z"
    },
    "hidden": true
   },
   "outputs": [],
   "source": [
    "class Teacher:\n",
    "    \"\"\"Klasa za reprezentacija na nastavnik.\"\"\"\n",
    "    \n",
    "    def __init__(self,n):\n",
    "        self.full_name = n\n",
    "    \n",
    "    def print_name(self):\n",
    "        print(self.full_name)"
   ]
  },
  {
   "cell_type": "markdown",
   "metadata": {
    "heading_collapsed": true,
    "hidden": true
   },
   "source": [
    "#### Класни атрибути "
   ]
  },
  {
   "cell_type": "markdown",
   "metadata": {
    "hidden": true
   },
   "source": [
    "- Поради фактот дека сите инстанци на една класа делат единствена копија на **класниот атрибут** важи:\n",
    " - ако било која инстанца ја промени вредноста на класниот атрибут, таа се менува за сите инстанци.\n",
    "- Класните атрибути се дефинираат\n",
    " - во рамки на блокот за дефиниција на класата\n",
    " - надвор од дефинициите на методите\n",
    "- Поради тоа што даден класен атрибут е единствен за цела класа, а не единствен за секоја инстанца, пристапот до овие атрибути е поинаков:\n",
    " - Нотацијата за пристап до класен атрибут е <code>self.&#95;&#95;class&#95;&#95;.name</code>"
   ]
  },
  {
   "cell_type": "code",
   "execution_count": 76,
   "metadata": {
    "ExecuteTime": {
     "end_time": "2020-09-13T18:32:36.975637Z",
     "start_time": "2020-09-13T18:32:36.966453Z"
    },
    "hidden": true
   },
   "outputs": [
    {
     "name": "stdout",
     "output_type": "stream",
     "text": [
      "a.__class__.x = 24\n",
      "b.__class__.x = 24\n"
     ]
    }
   ],
   "source": [
    "class Sample: \n",
    "    x = 23\n",
    "    \n",
    "    def increment(self):\n",
    "            self.__class__.x += 1\n",
    "            \n",
    "a = Sample()\n",
    "b = Sample()\n",
    "a.increment()\n",
    "print(\"a.__class__.x =\", a.__class__.x)\n",
    "print(\"b.__class__.x =\", b.__class__.x)"
   ]
  },
  {
   "cell_type": "markdown",
   "metadata": {
    "hidden": true
   },
   "source": [
    "<hr>"
   ]
  },
  {
   "cell_type": "markdown",
   "metadata": {
    "heading_collapsed": true,
    "hidden": true
   },
   "source": [
    "#### Класни vs. Податочни атрибути "
   ]
  },
  {
   "cell_type": "code",
   "execution_count": 80,
   "metadata": {
    "ExecuteTime": {
     "end_time": "2020-09-13T18:36:33.351900Z",
     "start_time": "2020-09-13T18:36:33.338016Z"
    },
    "hidden": true
   },
   "outputs": [],
   "source": [
    "class Counter: \n",
    "    overall_total = 0\n",
    "    \n",
    "    def __init__(self):\n",
    "        self.my_total = 0\n",
    "    \n",
    "    def increment(self):\n",
    "        Counter.overall_total += 1\n",
    "        self.my_total += 1\n",
    "\n",
    "a = Counter()\n",
    "b = Counter()\n",
    "a.increment()\n",
    "b.increment()\n",
    "b.increment()"
   ]
  },
  {
   "cell_type": "code",
   "execution_count": 81,
   "metadata": {
    "ExecuteTime": {
     "end_time": "2020-09-13T18:37:21.455242Z",
     "start_time": "2020-09-13T18:37:21.444893Z"
    },
    "hidden": true
   },
   "outputs": [
    {
     "name": "stdout",
     "output_type": "stream",
     "text": [
      "a.my_total  = 1\n",
      "a.overall_t = 3\n"
     ]
    }
   ],
   "source": [
    "print(\"a.my_total  =\", a.my_total)\n",
    "print(\"a.overall_t =\", a.overall_total)"
   ]
  },
  {
   "cell_type": "code",
   "execution_count": 82,
   "metadata": {
    "ExecuteTime": {
     "end_time": "2020-09-13T18:37:29.479809Z",
     "start_time": "2020-09-13T18:37:29.468948Z"
    },
    "hidden": true
   },
   "outputs": [
    {
     "name": "stdout",
     "output_type": "stream",
     "text": [
      "b.my_total  = 2\n",
      "b.overall_t = 3\n"
     ]
    }
   ],
   "source": [
    "print(\"b.my_total  =\", b.my_total)\n",
    "print(\"b.overall_t =\", b.overall_total)"
   ]
  },
  {
   "cell_type": "markdown",
   "metadata": {
    "hidden": true
   },
   "source": [
    "***"
   ]
  },
  {
   "cell_type": "markdown",
   "metadata": {
    "heading_collapsed": true,
    "hidden": true
   },
   "source": [
    "## 6.6: Наследување"
   ]
  },
  {
   "cell_type": "markdown",
   "metadata": {
    "heading_collapsed": true,
    "hidden": true
   },
   "source": [
    "### Основно"
   ]
  },
  {
   "cell_type": "markdown",
   "metadata": {
    "hidden": true
   },
   "source": [
    "- Една класа може да ја прошири дефиницијата на некоја друга класа\n",
    " - Дозволува користење (или проширување) на методите и атрибутите во класата која се проширува\n",
    " - По конвенција, новата класа се нарекува **подкласа**, а постоечката - **родител** или надкласа\n",
    "\n",
    "- За да дефинирате **подкласа**, потребно е во првата линија на дефиницијата после името на подкласата во загради да го наведете името на надкласата.\n",
    "<br> <b><code>class AIStudent(Student)</code></b> <br>\n",
    " - Python не користи некој посебен клучен збор за да се означи наследство\n",
    " - Нуди поддршка за повеќекратно наследство.\n",
    " <br> <b><code>class AIStudent(Student, Person)</code></b> <br>"
   ]
  },
  {
   "cell_type": "code",
   "execution_count": 89,
   "metadata": {
    "ExecuteTime": {
     "end_time": "2020-09-13T18:47:32.630018Z",
     "start_time": "2020-09-13T18:47:32.617144Z"
    },
    "hidden": true
   },
   "outputs": [],
   "source": [
    "class Parent: \n",
    "    parent_attr = 100 \n",
    "    \n",
    "    def __init__(self):\n",
    "        print(\"Calling parent constructor\")\n",
    "        \n",
    "    def parent_method(self):\n",
    "        print(\"Calling parent method\")\n",
    "    \n",
    "    def set_attr(self, attr):\n",
    "        Parent.parent_attr = attr\n",
    "    \n",
    "    def get_attr(self):\n",
    "        print(\"Parent attribute: \", Parent.parent_attr)"
   ]
  },
  {
   "cell_type": "code",
   "execution_count": 90,
   "metadata": {
    "ExecuteTime": {
     "end_time": "2020-09-13T18:47:33.874275Z",
     "start_time": "2020-09-13T18:47:33.865681Z"
    },
    "hidden": true
   },
   "outputs": [],
   "source": [
    "class Child(Parent): \n",
    "    def __init__(self):\n",
    "        print(\"Calling child constructor\")\n",
    "    \n",
    "    def child_method(self):\n",
    "        print(\"Calling child method\")"
   ]
  },
  {
   "cell_type": "code",
   "execution_count": 91,
   "metadata": {
    "ExecuteTime": {
     "end_time": "2020-09-13T18:47:34.659788Z",
     "start_time": "2020-09-13T18:47:34.649225Z"
    },
    "hidden": true
   },
   "outputs": [
    {
     "name": "stdout",
     "output_type": "stream",
     "text": [
      "Calling child constructor\n"
     ]
    }
   ],
   "source": [
    "c = Child()"
   ]
  },
  {
   "cell_type": "code",
   "execution_count": 92,
   "metadata": {
    "ExecuteTime": {
     "end_time": "2020-09-13T18:47:35.342359Z",
     "start_time": "2020-09-13T18:47:35.330425Z"
    },
    "hidden": true
   },
   "outputs": [
    {
     "name": "stdout",
     "output_type": "stream",
     "text": [
      "Calling child method\n"
     ]
    }
   ],
   "source": [
    "c.child_method()"
   ]
  },
  {
   "cell_type": "code",
   "execution_count": 93,
   "metadata": {
    "ExecuteTime": {
     "end_time": "2020-09-13T18:47:36.112411Z",
     "start_time": "2020-09-13T18:47:36.098873Z"
    },
    "hidden": true
   },
   "outputs": [
    {
     "name": "stdout",
     "output_type": "stream",
     "text": [
      "Calling parent method\n"
     ]
    }
   ],
   "source": [
    "c.parent_method()"
   ]
  },
  {
   "cell_type": "code",
   "execution_count": 94,
   "metadata": {
    "ExecuteTime": {
     "end_time": "2020-09-13T18:47:36.826981Z",
     "start_time": "2020-09-13T18:47:36.821001Z"
    },
    "hidden": true
   },
   "outputs": [],
   "source": [
    "c.set_attr(200)"
   ]
  },
  {
   "cell_type": "code",
   "execution_count": 96,
   "metadata": {
    "ExecuteTime": {
     "end_time": "2020-09-13T18:47:51.177691Z",
     "start_time": "2020-09-13T18:47:51.167638Z"
    },
    "hidden": true
   },
   "outputs": [
    {
     "name": "stdout",
     "output_type": "stream",
     "text": [
      "Parent attribute:  200\n"
     ]
    }
   ],
   "source": [
    "c.get_attr()"
   ]
  },
  {
   "cell_type": "markdown",
   "metadata": {
    "hidden": true
   },
   "source": [
    "<hr>"
   ]
  },
  {
   "cell_type": "markdown",
   "metadata": {
    "heading_collapsed": true,
    "hidden": true
   },
   "source": [
    "### Редефинирање на услови "
   ]
  },
  {
   "cell_type": "markdown",
   "metadata": {
    "hidden": true
   },
   "source": [
    "- За да се редефинира метода од надкласата, во рамки на подкласата треба да се наведе дефиниција на метода со истото име.\n",
    " - При повик се извршува новата дефиниција.\n",
    "- За да се изврши метода од надкласата во ситуација кога имате нова дефиниција за таа метода во подкласата, потребно е да направите експлицитен повик на методата од надкласата (со префикс за надкласата).\n",
    "\n",
    "<code>ParentClass.method_name(self, a, b, c)</code>\n",
    "\n",
    "\n",
    "- Ова е единствениот случај кога во повик на метода експлицитно го проследувате <code>self</code> како аргумент (повик на истоименувана метода од надкласа)."
   ]
  },
  {
   "cell_type": "code",
   "execution_count": 97,
   "metadata": {
    "ExecuteTime": {
     "end_time": "2020-09-13T19:25:07.791937Z",
     "start_time": "2020-09-13T19:25:07.783935Z"
    },
    "hidden": true
   },
   "outputs": [],
   "source": [
    "class Student:\n",
    "    \"\"\"Klasa za reprezentacija na student.\"\"\"\n",
    "    def __init__(self, n, a):\n",
    "        self.full_name = n\n",
    "        self.age = a\n",
    "    def get_age(self):\n",
    "        return self.age"
   ]
  },
  {
   "cell_type": "code",
   "execution_count": 98,
   "metadata": {
    "ExecuteTime": {
     "end_time": "2020-09-13T19:26:29.087035Z",
     "start_time": "2020-09-13T19:26:29.082382Z"
    },
    "hidden": true
   },
   "outputs": [],
   "source": [
    "class AIStudent(Student):\n",
    "    \"\"\"Klasa koja proshiruva student.\"\"\"\n",
    "    def __init__(self, n, a, s):\n",
    "        super(AIStudent, self).__init__(n, a) # Call __init__ for Student\n",
    "        self.section_num = s\n",
    "    \n",
    "    def get_age(self): # Redefines get_age method entirely\n",
    "        print(\"Age: \" + str(self.age))"
   ]
  },
  {
   "cell_type": "code",
   "execution_count": 101,
   "metadata": {
    "ExecuteTime": {
     "end_time": "2020-09-13T19:28:24.700399Z",
     "start_time": "2020-09-13T19:28:24.693444Z"
    },
    "hidden": true
   },
   "outputs": [
    {
     "name": "stdout",
     "output_type": "stream",
     "text": [
      "Age: 22\n"
     ]
    }
   ],
   "source": [
    "student_ai = AIStudent(\"Kiril\", 22, 2)\n",
    "student_ai.get_age()"
   ]
  },
  {
   "cell_type": "markdown",
   "metadata": {
    "hidden": true
   },
   "source": [
    "***"
   ]
  },
  {
   "cell_type": "markdown",
   "metadata": {
    "heading_collapsed": true,
    "hidden": true
   },
   "source": [
    "### Проширување на конструктурот <code>&#95;&#95;init&#95;&#95;</code>"
   ]
  },
  {
   "cell_type": "markdown",
   "metadata": {
    "hidden": true
   },
   "source": [
    "Бидејќи конструкторот е метода, како и за сите други методи како него важи: \n",
    " - во подкласата се извршува <b><code>&#95;&#95;init&#95;&#95;</code></b> методата од класата родител секогаш, само се додаваат некои нови аргументи\n",
    " - во рамки на конструкторот на подкласата се среќава следното: \n",
    " \n",
    "<b><code>ParentClass.&#95;&#95;init&#95;&#95;(self, x, y)</code></b>, каде <code>ParentClass</code> е надкласата\n"
   ]
  },
  {
   "cell_type": "markdown",
   "metadata": {
    "heading_collapsed": true,
    "hidden": true
   },
   "source": [
    "### <code>supper()</code> функција"
   ]
  },
  {
   "cell_type": "markdown",
   "metadata": {
    "hidden": true
   },
   "source": [
    "- Како кај другите објектно-ориентирани јазици, се дозволува повик на методи на надкласата од подкласата.\n",
    "- Два типични употреби на super:\n",
    " - Во класната хиерархија со еднократно наследство, super може да се користи за да се посочи на родителските класи без да се именуваат експлицитно, со што кодот станува поодржлив.<br>\n",
    " <code>super().&#95;&#95;init&#95;&#95;()</code> # Calling parent constructor<br> \n",
    " <code>super(ChildClass, self).&#95;&#95;init&#95;&#95;()</code> # Calling parent constructor\n",
    " - Подршка за кооперативно повеќекратно наследство во околина на динамичко извршување.\n",
    "    - Овој случај е уникатен за Python и не се наоѓа кај статички компајлираните јазици или јазици кои не подржуваат повеќекратно наследство.\n",
    "    - Ова овозможува да се имплементираат „дијамант дијаграми“ кадешто повеќе основни класи ја имплементираат истата метода."
   ]
  },
  {
   "cell_type": "markdown",
   "metadata": {
    "heading_collapsed": true,
    "hidden": true
   },
   "source": [
    "### Приватни податоци "
   ]
  },
  {
   "cell_type": "markdown",
   "metadata": {
    "hidden": true
   },
   "source": [
    "Атрибутите или методите кои имаат две водечки долни црти __ во своето име, **но истите ги немаат на крајот од името**, се приватни. До истите не може директно да се пристапи надвор од класата.\n",
    "- <u>Забелешка 1:</u> Атрибутите и методите со две долни црти и на почетокот и на крајот од името се однесуваат на вградени методи и атрибути за класата.\n",
    "- <u>Забелешка 2:</u> Не постои „protected“ тип во рамки на Python; следствено, до приватните податоци немаат пристап ниту подкласите."
   ]
  },
  {
   "cell_type": "code",
   "execution_count": 109,
   "metadata": {
    "ExecuteTime": {
     "end_time": "2020-09-13T20:30:53.433122Z",
     "start_time": "2020-09-13T20:30:53.428135Z"
    },
    "hidden": true
   },
   "outputs": [],
   "source": [
    "class Student:\n",
    "    \"\"\"Klasa za reprezentacija na student.\"\"\"\n",
    "    __embg = 450043\n",
    "    def __init__(self, n, a):\n",
    "        self.full_name = n\n",
    "        self.age = a\n",
    "    def get_age(self):\n",
    "        return self.age"
   ]
  },
  {
   "cell_type": "code",
   "execution_count": 110,
   "metadata": {
    "ExecuteTime": {
     "end_time": "2020-09-13T20:30:54.598233Z",
     "start_time": "2020-09-13T20:30:54.588729Z"
    },
    "hidden": true
   },
   "outputs": [
    {
     "ename": "AttributeError",
     "evalue": "'Student' object has no attribute '__embg'",
     "output_type": "error",
     "traceback": [
      "\u001b[1;31m---------------------------------------------------------------------------\u001b[0m",
      "\u001b[1;31mAttributeError\u001b[0m                            Traceback (most recent call last)",
      "\u001b[1;32m<ipython-input-110-dba82d91d0da>\u001b[0m in \u001b[0;36m<module>\u001b[1;34m\u001b[0m\n\u001b[0;32m      1\u001b[0m \u001b[0mstudent_kiril\u001b[0m \u001b[1;33m=\u001b[0m \u001b[0mStudent\u001b[0m\u001b[1;33m(\u001b[0m\u001b[1;34m\"Kiril\"\u001b[0m\u001b[1;33m,\u001b[0m \u001b[1;36m22\u001b[0m\u001b[1;33m)\u001b[0m\u001b[1;33m\u001b[0m\u001b[1;33m\u001b[0m\u001b[0m\n\u001b[1;32m----> 2\u001b[1;33m \u001b[0mstudent_kiril\u001b[0m\u001b[1;33m.\u001b[0m\u001b[0m__embg\u001b[0m\u001b[1;33m\u001b[0m\u001b[1;33m\u001b[0m\u001b[0m\n\u001b[0m",
      "\u001b[1;31mAttributeError\u001b[0m: 'Student' object has no attribute '__embg'"
     ]
    }
   ],
   "source": [
    "student_kiril = Student(\"Kiril\", 22)\n",
    "student_kiril.__embg"
   ]
  },
  {
   "cell_type": "markdown",
   "metadata": {
    "hidden": true
   },
   "source": [
    "***"
   ]
  },
  {
   "cell_type": "markdown",
   "metadata": {
    "heading_collapsed": true
   },
   "source": [
    "# 7: Генератори и итератори \n",
    "***"
   ]
  },
  {
   "cell_type": "markdown",
   "metadata": {
    "heading_collapsed": true,
    "hidden": true
   },
   "source": [
    "## 7.1: Итератори"
   ]
  },
  {
   "cell_type": "markdown",
   "metadata": {
    "heading_collapsed": true,
    "hidden": true
   },
   "source": [
    "### Датотеки"
   ]
  },
  {
   "cell_type": "markdown",
   "metadata": {
    "hidden": true
   },
   "source": [
    "Датотеките се **итератори**"
   ]
  },
  {
   "cell_type": "markdown",
   "metadata": {
    "hidden": true
   },
   "source": [
    "<b><code>readlines()</code></b>: враќа листа од линиите во датотека "
   ]
  },
  {
   "cell_type": "code",
   "execution_count": 123,
   "metadata": {
    "ExecuteTime": {
     "end_time": "2020-09-13T20:37:41.507196Z",
     "start_time": "2020-09-13T20:37:41.501212Z"
    },
    "hidden": true
   },
   "outputs": [
    {
     "data": {
      "text/plain": [
       "['abcde\\n', '12345\\n', 'abcde\\n', '12345']"
      ]
     },
     "execution_count": 123,
     "metadata": {},
     "output_type": "execute_result"
    }
   ],
   "source": [
    "f = open(\"demo.txt\")\n",
    "f.readlines()"
   ]
  },
  {
   "cell_type": "code",
   "execution_count": 126,
   "metadata": {
    "ExecuteTime": {
     "end_time": "2020-09-13T20:38:07.837843Z",
     "start_time": "2020-09-13T20:38:07.831860Z"
    },
    "hidden": true
   },
   "outputs": [
    {
     "name": "stdout",
     "output_type": "stream",
     "text": [
      "Length of 1 line: 6\n",
      "Length of 2 line: 6\n",
      "Length of 3 line: 6\n",
      "Length of 4 line: 5\n"
     ]
    }
   ],
   "source": [
    "f = open(\"demo.txt\")\n",
    "counter = 1\n",
    "for line in f.readlines():\n",
    "    print(\"Length of {} line: {}\".format(counter, len(line)))\n",
    "    counter += 1"
   ]
  },
  {
   "cell_type": "markdown",
   "metadata": {
    "hidden": true
   },
   "source": [
    "Датотеката е итератор, враќа вредности според спецификацијата: "
   ]
  },
  {
   "cell_type": "code",
   "execution_count": 131,
   "metadata": {
    "ExecuteTime": {
     "end_time": "2020-09-13T20:40:03.472077Z",
     "start_time": "2020-09-13T20:40:03.466064Z"
    },
    "hidden": true
   },
   "outputs": [
    {
     "name": "stdout",
     "output_type": "stream",
     "text": [
      "Length of 1 line: 6\n",
      "Length of 2 line: 6\n",
      "Length of 3 line: 6\n",
      "Length of 4 line: 5\n"
     ]
    }
   ],
   "source": [
    "f = open(\"demo.txt\")\n",
    "counter = 1\n",
    "for line in f:\n",
    "    print(\"Length of {} line: {}\".format(counter, len(line)))\n",
    "    counter += 1"
   ]
  },
  {
   "cell_type": "markdown",
   "metadata": {
    "hidden": true
   },
   "source": [
    "**Итераторите** можат да се користат во било кое сценарио каде можете да итерирате низ колекции (пример: листи, торки, речници,...) "
   ]
  },
  {
   "cell_type": "code",
   "execution_count": 138,
   "metadata": {
    "ExecuteTime": {
     "end_time": "2020-09-13T20:43:08.271623Z",
     "start_time": "2020-09-13T20:43:08.265641Z"
    },
    "hidden": true
   },
   "outputs": [
    {
     "name": "stdout",
     "output_type": "stream",
     "text": [
      "Length of lines list:  [6, 6, 6, 5]\n"
     ]
    }
   ],
   "source": [
    "f = open(\"demo.txt\")\n",
    "print(\"Length of lines list: \", list(map(len, f.readlines())))"
   ]
  },
  {
   "cell_type": "code",
   "execution_count": 135,
   "metadata": {
    "ExecuteTime": {
     "end_time": "2020-09-13T20:42:31.780002Z",
     "start_time": "2020-09-13T20:42:31.775016Z"
    },
    "hidden": true
   },
   "outputs": [
    {
     "name": "stdout",
     "output_type": "stream",
     "text": [
      "Length of lines list:  [6, 6, 6, 5]\n"
     ]
    }
   ],
   "source": [
    "f = open(\"demo.txt\")\n",
    "print(\"Length of lines list: \", list(map(len, f)))"
   ]
  },
  {
   "cell_type": "markdown",
   "metadata": {
    "hidden": true
   },
   "source": [
    "- Итераторите се слични на секвенците (листи, торки), но… \n",
    "- Не ја добивате наеднаш целата секвенца\n",
    "- Елементите се добиваат еден по еден, во моментот кога ќе бидат потребни и според тоа како се дефинирани\n",
    "- Можат да се дефинираат бесконечни секвенци (пример, сите позитивни броеви)\n",
    "- Можете да креирате ваши итератори, ако дефинирате функција која го генерира следниот елемент"
   ]
  },
  {
   "cell_type": "markdown",
   "metadata": {
    "hidden": true
   },
   "source": [
    "***"
   ]
  },
  {
   "cell_type": "markdown",
   "metadata": {
    "heading_collapsed": true,
    "hidden": true
   },
   "source": [
    "### Пример за Фибоначи"
   ]
  },
  {
   "cell_type": "code",
   "execution_count": 182,
   "metadata": {
    "ExecuteTime": {
     "end_time": "2020-09-13T21:13:19.057725Z",
     "start_time": "2020-09-13T21:13:19.052764Z"
    },
    "hidden": true
   },
   "outputs": [],
   "source": [
    "class Fib:\n",
    "    def __init__(self):\n",
    "        self.fn2 = 1\n",
    "        self.fn1 = 1\n",
    "    \n",
    "    def __next__(self):\n",
    "        \"\"\"\n",
    "        next() - добивање на следни вредности\n",
    "        \"\"\"\n",
    "        (self.fn1, self.fn2, old_fn2) = (self.fn1 + self.fn2, self.fn1, self.fn2)\n",
    "        \n",
    "        return old_fn2\n",
    "\n",
    "    def __iter__(self):\n",
    "        return self"
   ]
  },
  {
   "cell_type": "code",
   "execution_count": 152,
   "metadata": {
    "ExecuteTime": {
     "end_time": "2020-09-13T20:59:01.555545Z",
     "start_time": "2020-09-13T20:59:01.549563Z"
    },
    "hidden": true
   },
   "outputs": [
    {
     "name": "stdout",
     "output_type": "stream",
     "text": [
      "1\n",
      "1\n",
      "2\n",
      "3\n",
      "5\n",
      "8\n",
      "13\n",
      "21\n",
      "34\n",
      "55\n",
      "89\n",
      "144\n"
     ]
    }
   ],
   "source": [
    "f = Fib()\n",
    "\n",
    "for i in f:\n",
    "    print(i)\n",
    "    if i > 100:\n",
    "        break"
   ]
  },
  {
   "cell_type": "markdown",
   "metadata": {
    "hidden": true
   },
   "source": [
    "**Автоматско запирање на итератор**: "
   ]
  },
  {
   "cell_type": "code",
   "execution_count": 167,
   "metadata": {
    "ExecuteTime": {
     "end_time": "2020-09-13T21:05:59.441877Z",
     "start_time": "2020-09-13T21:05:59.437859Z"
    },
    "hidden": true
   },
   "outputs": [],
   "source": [
    "class FibNum20: \n",
    "    def __init__(self):\n",
    "        self.fn2 = 1\n",
    "        self.fn1 = 1\n",
    "    \n",
    "    def __next__(self):\n",
    "        \n",
    "        (self.fn1, self.fn2, old_fn2) = (self.fn1 + self.fn2, \n",
    "                                        self.fn1, self.fn2)\n",
    "        \n",
    "        # Raise error to stop iterator\n",
    "        if old_fn2 > 20: \n",
    "            raise StopIteration\n",
    "        \n",
    "        \n",
    "        return old_fn2\n",
    "    \n",
    "    def __iter__(self):\n",
    "        return self"
   ]
  },
  {
   "cell_type": "code",
   "execution_count": 168,
   "metadata": {
    "ExecuteTime": {
     "end_time": "2020-09-13T21:06:00.920648Z",
     "start_time": "2020-09-13T21:06:00.916662Z"
    },
    "hidden": true
   },
   "outputs": [
    {
     "name": "stdout",
     "output_type": "stream",
     "text": [
      "1\n",
      "1\n",
      "2\n",
      "3\n",
      "5\n",
      "8\n",
      "13\n"
     ]
    }
   ],
   "source": [
    "for i in FibNum20(): \n",
    "    print(i)"
   ]
  },
  {
   "cell_type": "markdown",
   "metadata": {
    "hidden": true
   },
   "source": [
    "***"
   ]
  },
  {
   "cell_type": "markdown",
   "metadata": {
    "heading_collapsed": true,
    "hidden": true
   },
   "source": [
    "### Дополнително "
   ]
  },
  {
   "cell_type": "markdown",
   "metadata": {
    "hidden": true
   },
   "source": [
    "Функцијата <code>list</code> ги материјализира вредностите на итераторот како листа "
   ]
  },
  {
   "cell_type": "code",
   "execution_count": 169,
   "metadata": {
    "ExecuteTime": {
     "end_time": "2020-09-13T21:07:29.219451Z",
     "start_time": "2020-09-13T21:07:29.215461Z"
    },
    "hidden": true
   },
   "outputs": [
    {
     "data": {
      "text/plain": [
       "[1, 1, 2, 3, 5, 8, 13]"
      ]
     },
     "execution_count": 169,
     "metadata": {},
     "output_type": "execute_result"
    }
   ],
   "source": [
    "list(FibNum20())"
   ]
  },
  {
   "cell_type": "markdown",
   "metadata": {
    "hidden": true
   },
   "source": [
    "<code>sum()</code>, <code>max()</code>, <code>min()</code> можат да работат со итератори "
   ]
  },
  {
   "cell_type": "code",
   "execution_count": 170,
   "metadata": {
    "ExecuteTime": {
     "end_time": "2020-09-13T21:08:11.100839Z",
     "start_time": "2020-09-13T21:08:11.094828Z"
    },
    "hidden": true
   },
   "outputs": [
    {
     "data": {
      "text/plain": [
       "33"
      ]
     },
     "execution_count": 170,
     "metadata": {},
     "output_type": "execute_result"
    }
   ],
   "source": [
    "sum(FibNum20())"
   ]
  },
  {
   "cell_type": "code",
   "execution_count": 171,
   "metadata": {
    "ExecuteTime": {
     "end_time": "2020-09-13T21:08:18.279510Z",
     "start_time": "2020-09-13T21:08:18.273527Z"
    },
    "hidden": true
   },
   "outputs": [
    {
     "data": {
      "text/plain": [
       "13"
      ]
     },
     "execution_count": 171,
     "metadata": {},
     "output_type": "execute_result"
    }
   ],
   "source": [
    "max(FibNum20())"
   ]
  },
  {
   "cell_type": "code",
   "execution_count": 172,
   "metadata": {
    "ExecuteTime": {
     "end_time": "2020-09-13T21:08:25.130079Z",
     "start_time": "2020-09-13T21:08:25.126061Z"
    },
    "hidden": true
   },
   "outputs": [
    {
     "data": {
      "text/plain": [
       "1"
      ]
     },
     "execution_count": 172,
     "metadata": {},
     "output_type": "execute_result"
    }
   ],
   "source": [
    "min(FibNum20())"
   ]
  },
  {
   "cell_type": "markdown",
   "metadata": {
    "hidden": true
   },
   "source": [
    "***"
   ]
  },
  {
   "cell_type": "markdown",
   "metadata": {
    "heading_collapsed": true,
    "hidden": true
   },
   "source": [
    "### <code>itertools</code>"
   ]
  },
  {
   "cell_type": "markdown",
   "metadata": {
    "hidden": true
   },
   "source": [
    "- Модулот <code>itertools</code> содржи корисни алатки за работи со итератори \n",
    "- <code>isslice()</code> е функција со која може да земате делови од итераторот "
   ]
  },
  {
   "cell_type": "code",
   "execution_count": 183,
   "metadata": {
    "ExecuteTime": {
     "end_time": "2020-09-13T21:13:22.722847Z",
     "start_time": "2020-09-13T21:13:22.717827Z"
    },
    "hidden": true
   },
   "outputs": [
    {
     "name": "stdout",
     "output_type": "stream",
     "text": [
      "[1, 1, 2]\n",
      "[1, 1, 2, 3, 5, 8]\n",
      "[13, 21, 34, 55]\n"
     ]
    }
   ],
   "source": [
    "from itertools import *\n",
    "\n",
    "print(list(islice(Fib(), 3)))\n",
    "print(list(islice(Fib(), 6)))\n",
    "print(list(islice(Fib(), 6, 10)))"
   ]
  },
  {
   "cell_type": "markdown",
   "metadata": {
    "hidden": true
   },
   "source": [
    "***"
   ]
  },
  {
   "cell_type": "markdown",
   "metadata": {
    "heading_collapsed": true,
    "hidden": true
   },
   "source": [
    "## 7.2: Генератори "
   ]
  },
  {
   "cell_type": "markdown",
   "metadata": {
    "hidden": true
   },
   "source": [
    "- Python генераторите продуцираат итератори\n",
    "- Тие се воопштување и се помоќни од итераторите\n",
    "- Дефинирате функција и наместо да користите return за да генерирате вредност, ја користите <code>yield</code> наредбата\n",
    "- Во моментот кога е потребна следна вредност, генератор функцијата продолжува од каде што застанала\n",
    "- За крај покренете <code>StopIteration</code> или повикајте <code>return</code>"
   ]
  },
  {
   "cell_type": "markdown",
   "metadata": {
    "heading_collapsed": true,
    "hidden": true
   },
   "source": [
    "### Пример  1"
   ]
  },
  {
   "cell_type": "code",
   "execution_count": 184,
   "metadata": {
    "ExecuteTime": {
     "end_time": "2020-09-13T21:56:45.524344Z",
     "start_time": "2020-09-13T21:56:45.517360Z"
    },
    "hidden": true
   },
   "outputs": [],
   "source": [
    "def gy():\n",
    "    x = 3\n",
    "    y = 3\n",
    "    yield x, y, x+y\n",
    "    z = 12\n",
    "    yield z / x\n",
    "    yield z / y\n",
    "    return "
   ]
  },
  {
   "cell_type": "code",
   "execution_count": 185,
   "metadata": {
    "ExecuteTime": {
     "end_time": "2020-09-13T21:56:49.773775Z",
     "start_time": "2020-09-13T21:56:49.768823Z"
    },
    "hidden": true
   },
   "outputs": [],
   "source": [
    "g = gy()"
   ]
  },
  {
   "cell_type": "code",
   "execution_count": 186,
   "metadata": {
    "ExecuteTime": {
     "end_time": "2020-09-13T21:56:54.703190Z",
     "start_time": "2020-09-13T21:56:54.700170Z"
    },
    "hidden": true
   },
   "outputs": [
    {
     "name": "stdout",
     "output_type": "stream",
     "text": [
      "(3, 3, 6)\n"
     ]
    }
   ],
   "source": [
    "print(next(g))"
   ]
  },
  {
   "cell_type": "code",
   "execution_count": 188,
   "metadata": {
    "ExecuteTime": {
     "end_time": "2020-09-13T22:09:07.081078Z",
     "start_time": "2020-09-13T22:09:07.077089Z"
    },
    "hidden": true
   },
   "outputs": [
    {
     "name": "stdout",
     "output_type": "stream",
     "text": [
      "4.0\n"
     ]
    }
   ],
   "source": [
    "print(next(g))"
   ]
  },
  {
   "cell_type": "code",
   "execution_count": 189,
   "metadata": {
    "ExecuteTime": {
     "end_time": "2020-09-13T22:09:13.491685Z",
     "start_time": "2020-09-13T22:09:13.487696Z"
    },
    "hidden": true
   },
   "outputs": [
    {
     "name": "stdout",
     "output_type": "stream",
     "text": [
      "4.0\n"
     ]
    }
   ],
   "source": [
    "print(next(g))"
   ]
  },
  {
   "cell_type": "code",
   "execution_count": 190,
   "metadata": {
    "ExecuteTime": {
     "end_time": "2020-09-13T22:09:24.889759Z",
     "start_time": "2020-09-13T22:09:24.879785Z"
    },
    "hidden": true
   },
   "outputs": [
    {
     "ename": "StopIteration",
     "evalue": "",
     "output_type": "error",
     "traceback": [
      "\u001b[1;31m---------------------------------------------------------------------------\u001b[0m",
      "\u001b[1;31mStopIteration\u001b[0m                             Traceback (most recent call last)",
      "\u001b[1;32m<ipython-input-190-1dfb29d6357e>\u001b[0m in \u001b[0;36m<module>\u001b[1;34m\u001b[0m\n\u001b[1;32m----> 1\u001b[1;33m \u001b[0mprint\u001b[0m\u001b[1;33m(\u001b[0m\u001b[0mnext\u001b[0m\u001b[1;33m(\u001b[0m\u001b[0mg\u001b[0m\u001b[1;33m)\u001b[0m\u001b[1;33m)\u001b[0m\u001b[1;33m\u001b[0m\u001b[1;33m\u001b[0m\u001b[0m\n\u001b[0m",
      "\u001b[1;31mStopIteration\u001b[0m: "
     ]
    }
   ],
   "source": [
    "print(next(g))"
   ]
  },
  {
   "cell_type": "markdown",
   "metadata": {
    "heading_collapsed": true,
    "hidden": true
   },
   "source": [
    "### Пример  2: <code>fib(n)</code>"
   ]
  },
  {
   "cell_type": "code",
   "execution_count": 9,
   "metadata": {
    "ExecuteTime": {
     "end_time": "2020-09-14T08:00:59.286225Z",
     "start_time": "2020-09-14T08:00:59.277771Z"
    },
    "hidden": true
   },
   "outputs": [],
   "source": [
    "def fib(n):\n",
    "    fn2 = 1\n",
    "    fn1 = 1\n",
    "    counter = 0\n",
    "    while counter < n: \n",
    "        (fn1, fn2, old_fn2) = (fn1+fn2, fn1, fn2)\n",
    "        yield old_fn2\n",
    "        counter = counter + 1"
   ]
  },
  {
   "cell_type": "code",
   "execution_count": 10,
   "metadata": {
    "ExecuteTime": {
     "end_time": "2020-09-14T08:01:02.840538Z",
     "start_time": "2020-09-14T08:01:02.827420Z"
    },
    "hidden": true
   },
   "outputs": [
    {
     "data": {
      "text/plain": [
       "[1, 1, 2, 3, 5, 8, 13, 21, 34, 55, 89, 144, 233, 377, 610]"
      ]
     },
     "execution_count": 10,
     "metadata": {},
     "output_type": "execute_result"
    }
   ],
   "source": [
    "list(fib(15))"
   ]
  },
  {
   "cell_type": "markdown",
   "metadata": {
    "heading_collapsed": true,
    "hidden": true
   },
   "source": [
    "### Пример  3: <code>get_words()</code>"
   ]
  },
  {
   "cell_type": "code",
   "execution_count": 204,
   "metadata": {
    "ExecuteTime": {
     "end_time": "2020-09-13T22:15:22.690492Z",
     "start_time": "2020-09-13T22:15:22.684534Z"
    },
    "hidden": true
   },
   "outputs": [
    {
     "name": "stdout",
     "output_type": "stream",
     "text": [
      "['abcde', '12345', 'abcde', '12345']\n"
     ]
    }
   ],
   "source": [
    "f = open(\"demo.txt\")\n",
    "\n",
    "def get_words(file):\n",
    "    for line in file: \n",
    "        for word in line.split():\n",
    "            yield word\n",
    "    return \n",
    "\n",
    "print(list(get_words(f)))"
   ]
  },
  {
   "cell_type": "markdown",
   "metadata": {
    "hidden": true
   },
   "source": [
    "***"
   ]
  },
  {
   "cell_type": "markdown",
   "metadata": {
    "heading_collapsed": true
   },
   "source": [
    "# 8: Процесирање на датотеки со Python\n",
    "*** "
   ]
  },
  {
   "cell_type": "markdown",
   "metadata": {
    "hidden": true
   },
   "source": [
    "Едноставен пример: "
   ]
  },
  {
   "cell_type": "code",
   "execution_count": 212,
   "metadata": {
    "ExecuteTime": {
     "end_time": "2020-09-13T22:23:38.052675Z",
     "start_time": "2020-09-13T22:23:38.049576Z"
    },
    "hidden": true
   },
   "outputs": [
    {
     "name": "stdout",
     "output_type": "stream",
     "text": [
      "abcde\n",
      "12345\n",
      "abcde\n",
      "12345\n"
     ]
    }
   ],
   "source": [
    "f = open(\"demo.txt\")\n",
    "some_string = f.read()\n",
    "\n",
    "print(some_string)"
   ]
  },
  {
   "cell_type": "markdown",
   "metadata": {
    "hidden": true
   },
   "source": [
    "Ова може да се прави со клучниот збор <b><code>with</code></b> со кој се дефинира блок на код во кој дадена датотека е отворена, а пота надвор од локот датотеката е затворена. "
   ]
  },
  {
   "cell_type": "code",
   "execution_count": 216,
   "metadata": {
    "ExecuteTime": {
     "end_time": "2020-09-13T22:25:24.167807Z",
     "start_time": "2020-09-13T22:25:24.162785Z"
    },
    "hidden": true
   },
   "outputs": [
    {
     "name": "stdout",
     "output_type": "stream",
     "text": [
      "abcde\n",
      "12345\n",
      "abcde\n",
      "12345\n"
     ]
    }
   ],
   "source": [
    "with open('demo.txt') as f:\n",
    "    lines = f.read()\n",
    "    print(lines) "
   ]
  },
  {
   "cell_type": "markdown",
   "metadata": {
    "hidden": true
   },
   "source": [
    "***"
   ]
  },
  {
   "cell_type": "markdown",
   "metadata": {},
   "source": [
    "# 9: Исклучоци во Python\n",
    "***"
   ]
  },
  {
   "cell_type": "code",
   "execution_count": 220,
   "metadata": {
    "ExecuteTime": {
     "end_time": "2020-09-13T22:27:21.959056Z",
     "start_time": "2020-09-13T22:27:21.953070Z"
    }
   },
   "outputs": [
    {
     "name": "stdout",
     "output_type": "stream",
     "text": [
      "This is not mathemaically correct!\n",
      "This will always print\n"
     ]
    }
   ],
   "source": [
    "try: \n",
    "    a = 1/0\n",
    "    print(a)\n",
    "except:\n",
    "    print(\"This is not mathemaically correct!\")\n",
    "\n",
    "finally: \n",
    "    print(\"This will always print\")"
   ]
  },
  {
   "cell_type": "code",
   "execution_count": 221,
   "metadata": {
    "ExecuteTime": {
     "end_time": "2020-09-13T22:27:29.100991Z",
     "start_time": "2020-09-13T22:27:29.094008Z"
    }
   },
   "outputs": [
    {
     "name": "stdout",
     "output_type": "stream",
     "text": [
      "10.0\n",
      "This will always print\n"
     ]
    }
   ],
   "source": [
    "try: \n",
    "    a = 100/10\n",
    "    print(a)\n",
    "except:\n",
    "    print(\"This is not mathemaically correct!\")\n",
    "\n",
    "finally: \n",
    "    print(\"This will always print\")"
   ]
  },
  {
   "cell_type": "markdown",
   "metadata": {},
   "source": [
    "***"
   ]
  }
 ],
 "metadata": {
  "kernelspec": {
   "display_name": "Python 3",
   "language": "python",
   "name": "python3"
  },
  "language_info": {
   "codemirror_mode": {
    "name": "ipython",
    "version": 3
   },
   "file_extension": ".py",
   "mimetype": "text/x-python",
   "name": "python",
   "nbconvert_exporter": "python",
   "pygments_lexer": "ipython3",
   "version": "3.7.9"
  },
  "latex_envs": {
   "LaTeX_envs_menu_present": true,
   "autoclose": false,
   "autocomplete": true,
   "bibliofile": "biblio.bib",
   "cite_by": "apalike",
   "current_citInitial": 1,
   "eqLabelWithNumbers": true,
   "eqNumInitial": 1,
   "hotkeys": {
    "equation": "Ctrl-E",
    "itemize": "Ctrl-I"
   },
   "labels_anchors": false,
   "latex_user_defs": false,
   "report_style_numbering": false,
   "user_envs_cfg": false
  },
  "varInspector": {
   "cols": {
    "lenName": 16,
    "lenType": 16,
    "lenVar": 40
   },
   "kernels_config": {
    "python": {
     "delete_cmd_postfix": "",
     "delete_cmd_prefix": "del ",
     "library": "var_list.py",
     "varRefreshCmd": "print(var_dic_list())"
    },
    "r": {
     "delete_cmd_postfix": ") ",
     "delete_cmd_prefix": "rm(",
     "library": "var_list.r",
     "varRefreshCmd": "cat(var_dic_list()) "
    }
   },
   "types_to_exclude": [
    "module",
    "function",
    "builtin_function_or_method",
    "instance",
    "_Feature"
   ],
   "window_display": false
  }
 },
 "nbformat": 4,
 "nbformat_minor": 4
}
