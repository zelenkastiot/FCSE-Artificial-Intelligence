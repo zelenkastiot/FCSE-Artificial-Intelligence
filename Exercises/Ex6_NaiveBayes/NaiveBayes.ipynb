{
 "cells": [
  {
   "cell_type": "code",
   "execution_count": 16,
   "metadata": {
    "ExecuteTime": {
     "end_time": "2020-09-23T10:01:28.875881Z",
     "start_time": "2020-09-23T10:01:28.699336Z"
    },
    "code_folding": []
   },
   "outputs": [
    {
     "name": "stdout",
     "output_type": "stream",
     "text": [
      "Accuracy (CategoricalNB): 0.7297\n",
      "Accuracy (GaussianNB): 0.5888\n"
     ]
    }
   ],
   "source": [
    "import csv\n",
    "from sklearn.preprocessing import OrdinalEncoder\n",
    "from sklearn.tree import DecisionTreeClassifier\n",
    "from sklearn.naive_bayes import CategoricalNB, GaussianNB\n",
    "from sklearn.metrics import accuracy_score\n",
    "\n",
    "if __name__ == \"__main__\":\n",
    "    with open('car.csv') as csv_file:\n",
    "        csv_reader = csv.reader(csv_file, delimiter = ',')\n",
    "        dataset = list(csv_reader)[1:]\n",
    "    \n",
    "    #0. Load encoder\n",
    "    encoder = OrdinalEncoder()\n",
    "    encoder.fit([dataset[j][:-1] for j in range(0, len(dataset))])\n",
    "    \n",
    "    #1. Split train-test\n",
    "    train_csv = dataset[:math.ceil((0.7*len(dataset)))]\n",
    "    test_csv = dataset[math.ceil((0.7*len(dataset))):]\n",
    "    \n",
    "    #2. Load X from train, than use encoder\n",
    "    X = [train_csv[j][:-1] for j in range(0, len(train_csv))]\n",
    "    X = encoder.transform(X)\n",
    "    \n",
    "    #3. Load y from train\n",
    "    y = [train_csv[j][-1] for j in range(0, len(train_csv))]\n",
    "    \n",
    "    #4. Load classifier and fit (CategoricalNB)\n",
    "    classifier = CategoricalNB()\n",
    "    classifier.fit(X, y)\n",
    "    \n",
    "    #4.2. Load classifier and fit (GaussianNB)\n",
    "    classifier2 = GaussianNB()\n",
    "    classifier2.fit(X, y)\n",
    "    \n",
    "    #5. Load X_test from test, than use encoder\n",
    "    X_test = [test_csv[j][:-1] for j in range(0, len(test_csv))]\n",
    "    X_test = encoder.transform(X_test)\n",
    "    \n",
    "    \n",
    "    #6. Load y from test\n",
    "    y_test = [test_csv[j][-1] for j in range(0, len(test_csv))]\n",
    "    \n",
    "    \n",
    "    #7. y_predicted \n",
    "    y_predicted = [classifier.predict([x])[0] for x in X_test]\n",
    "    y_predicted2 = [classifier2.predict([x])[0] for x in X_test]\n",
    "    \n",
    "    #8. accuracy_score(y_pred, y_test) for CategoricalNB\n",
    "    print(\"Accuracy (CategoricalNB): {:.4f}\".format(accuracy_score(y_test, y_predicted, normalize=True)))\n",
    "    \n",
    "    #8.2. accuracy_score(y_pred, y_test) for GaussianNB\n",
    "    print(\"Accuracy (GaussianNB): {:.4f}\".format(accuracy_score(y_test, y_predicted2, normalize=True)))    "
   ]
  }
 ],
 "metadata": {
  "kernelspec": {
   "display_name": "Python 3",
   "language": "python",
   "name": "python3"
  },
  "language_info": {
   "codemirror_mode": {
    "name": "ipython",
    "version": 3
   },
   "file_extension": ".py",
   "mimetype": "text/x-python",
   "name": "python",
   "nbconvert_exporter": "python",
   "pygments_lexer": "ipython3",
   "version": "3.7.9"
  },
  "latex_envs": {
   "LaTeX_envs_menu_present": true,
   "autoclose": false,
   "autocomplete": true,
   "bibliofile": "biblio.bib",
   "cite_by": "apalike",
   "current_citInitial": 1,
   "eqLabelWithNumbers": true,
   "eqNumInitial": 1,
   "hotkeys": {
    "equation": "Ctrl-E",
    "itemize": "Ctrl-I"
   },
   "labels_anchors": false,
   "latex_user_defs": false,
   "report_style_numbering": false,
   "user_envs_cfg": false
  },
  "varInspector": {
   "cols": {
    "lenName": 16,
    "lenType": 16,
    "lenVar": 40
   },
   "kernels_config": {
    "python": {
     "delete_cmd_postfix": "",
     "delete_cmd_prefix": "del ",
     "library": "var_list.py",
     "varRefreshCmd": "print(var_dic_list())"
    },
    "r": {
     "delete_cmd_postfix": ") ",
     "delete_cmd_prefix": "rm(",
     "library": "var_list.r",
     "varRefreshCmd": "cat(var_dic_list()) "
    }
   },
   "types_to_exclude": [
    "module",
    "function",
    "builtin_function_or_method",
    "instance",
    "_Feature"
   ],
   "window_display": false
  }
 },
 "nbformat": 4,
 "nbformat_minor": 4
}
