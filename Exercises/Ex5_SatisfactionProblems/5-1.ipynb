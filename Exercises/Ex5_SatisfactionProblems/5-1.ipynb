{
 "cells": [
  {
   "cell_type": "code",
   "execution_count": 30,
   "metadata": {
    "ExecuteTime": {
     "end_time": "2020-09-22T12:54:26.678233Z",
     "start_time": "2020-09-22T12:54:26.661086Z"
    }
   },
   "outputs": [
    {
     "name": "stdout",
     "output_type": "stream",
     "text": [
      "{'S': 'blue', 'NSW': 'green', 'Q': 'red', 'NT': 'green', 'V': 'red', 'WA': 'red', 'T': 'blue'}\n"
     ]
    }
   ],
   "source": [
    "from constraint import * \n",
    "\n",
    "if __name__ == \"__main__\":\n",
    "    problem = Problem(BacktrackingSolver())\n",
    "#     problem = Problem(RecursiveBacktrackingSolver())\n",
    "#     problem = Problem(MinConflictsSolver()) # Only 1 solution\n",
    "    \n",
    "    problem.addVariables(variables=[\"WA\", \"NT\", \"S\", \"Q\", \"NSW\", \"V\", \"T\"], \n",
    "                         domain=['red', 'green', 'blue'])\n",
    "    \n",
    "     \n",
    "    problem.addConstraint(lambda a,b: a!=b, (\"WA\", \"NT\"))\n",
    "    problem.addConstraint(lambda a,b: a!=b, (\"WA\", \"S\"))\n",
    "    problem.addConstraint(lambda a,b: a!=b, (\"NT\", \"S\"))\n",
    "    problem.addConstraint(lambda a,b: a!=b, (\"Q\", \"NT\"))\n",
    "    problem.addConstraint(lambda a,b: a!=b, (\"Q\", \"S\"))\n",
    "    problem.addConstraint(lambda a,b: a!=b, (\"Q\", \"NSW\"))\n",
    "    problem.addConstraint(lambda a,b: a!=b, (\"NSW\", \"S\"))\n",
    "    problem.addConstraint(lambda a,b: a!=b, (\"S\", \"V\"))\n",
    "    problem.addConstraint(lambda a,b: a!=b, (\"NSW\", \"V\"))  \n",
    "    \n",
    "    # 1 solution \n",
    "    solution = problem.getSolution()\n",
    "    print(solution)\n",
    "    \n",
    "    # All solutions \n",
    "#     solutions = problem.getSolutions()\n",
    "#     print(len(solutions))\n",
    "#     print(solutions[0])\n",
    "#     print(solutions[0][\"Q\"])"
   ]
  }
 ],
 "metadata": {
  "kernelspec": {
   "display_name": "Python 3",
   "language": "python",
   "name": "python3"
  },
  "language_info": {
   "codemirror_mode": {
    "name": "ipython",
    "version": 3
   },
   "file_extension": ".py",
   "mimetype": "text/x-python",
   "name": "python",
   "nbconvert_exporter": "python",
   "pygments_lexer": "ipython3",
   "version": "3.7.9"
  },
  "latex_envs": {
   "LaTeX_envs_menu_present": true,
   "autoclose": false,
   "autocomplete": true,
   "bibliofile": "biblio.bib",
   "cite_by": "apalike",
   "current_citInitial": 1,
   "eqLabelWithNumbers": true,
   "eqNumInitial": 1,
   "hotkeys": {
    "equation": "Ctrl-E",
    "itemize": "Ctrl-I"
   },
   "labels_anchors": false,
   "latex_user_defs": false,
   "report_style_numbering": false,
   "user_envs_cfg": false
  },
  "varInspector": {
   "cols": {
    "lenName": 16,
    "lenType": 16,
    "lenVar": 40
   },
   "kernels_config": {
    "python": {
     "delete_cmd_postfix": "",
     "delete_cmd_prefix": "del ",
     "library": "var_list.py",
     "varRefreshCmd": "print(var_dic_list())"
    },
    "r": {
     "delete_cmd_postfix": ") ",
     "delete_cmd_prefix": "rm(",
     "library": "var_list.r",
     "varRefreshCmd": "cat(var_dic_list()) "
    }
   },
   "types_to_exclude": [
    "module",
    "function",
    "builtin_function_or_method",
    "instance",
    "_Feature"
   ],
   "window_display": false
  }
 },
 "nbformat": 4,
 "nbformat_minor": 4
}
