{
 "cells": [
  {
   "cell_type": "code",
   "execution_count": 13,
   "metadata": {
    "ExecuteTime": {
     "end_time": "2020-09-22T13:31:24.097223Z",
     "start_time": "2020-09-22T13:31:24.080250Z"
    }
   },
   "outputs": [
    {
     "name": "stdout",
     "output_type": "stream",
     "text": [
      "{1: (0, 0), 2: (1, 1), 3: (2, 2), 4: (3, 3), 5: (4, 4), 6: (5, 5), 7: (6, 6), 8: (7, 7)}\n"
     ]
    }
   ],
   "source": [
    "from constraint import * \n",
    "\n",
    "if __name__ == \"__main__\":\n",
    "    problem = Problem(RecursiveBacktrackingSolver())\n",
    "    \n",
    "    domain = []\n",
    "    for i in range(0, 8):\n",
    "        for j in range(0, 8):\n",
    "            domain.append((i, j))\n",
    "    \n",
    "    rooks = range(1, 9)\n",
    "    \n",
    "    problem.addVariables(variables=rooks, domain=domain)\n",
    "    \n",
    "    for rook1 in rooks: \n",
    "        for rook2 in rooks: \n",
    "            if rook1 < rook2: \n",
    "                problem.addConstraint(lambda r1, r2: r1[0]!=r2[0] and r1[1]!=r2[1], (rook1, rook2))\n",
    "     \n",
    "    solution = problem.getSolution()\n",
    "    print(solution)\n",
    "    \n",
    "    "
   ]
  }
 ],
 "metadata": {
  "kernelspec": {
   "display_name": "Python 3",
   "language": "python",
   "name": "python3"
  },
  "language_info": {
   "codemirror_mode": {
    "name": "ipython",
    "version": 3
   },
   "file_extension": ".py",
   "mimetype": "text/x-python",
   "name": "python",
   "nbconvert_exporter": "python",
   "pygments_lexer": "ipython3",
   "version": "3.7.9"
  },
  "latex_envs": {
   "LaTeX_envs_menu_present": true,
   "autoclose": false,
   "autocomplete": true,
   "bibliofile": "biblio.bib",
   "cite_by": "apalike",
   "current_citInitial": 1,
   "eqLabelWithNumbers": true,
   "eqNumInitial": 1,
   "hotkeys": {
    "equation": "Ctrl-E",
    "itemize": "Ctrl-I"
   },
   "labels_anchors": false,
   "latex_user_defs": false,
   "report_style_numbering": false,
   "user_envs_cfg": false
  },
  "varInspector": {
   "cols": {
    "lenName": 16,
    "lenType": 16,
    "lenVar": 40
   },
   "kernels_config": {
    "python": {
     "delete_cmd_postfix": "",
     "delete_cmd_prefix": "del ",
     "library": "var_list.py",
     "varRefreshCmd": "print(var_dic_list())"
    },
    "r": {
     "delete_cmd_postfix": ") ",
     "delete_cmd_prefix": "rm(",
     "library": "var_list.r",
     "varRefreshCmd": "cat(var_dic_list()) "
    }
   },
   "types_to_exclude": [
    "module",
    "function",
    "builtin_function_or_method",
    "instance",
    "_Feature"
   ],
   "window_display": false
  }
 },
 "nbformat": 4,
 "nbformat_minor": 4
}
