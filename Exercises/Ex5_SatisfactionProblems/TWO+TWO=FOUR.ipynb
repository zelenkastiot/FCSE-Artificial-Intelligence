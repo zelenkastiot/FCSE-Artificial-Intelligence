{
 "cells": [
  {
   "cell_type": "code",
   "execution_count": 9,
   "metadata": {
    "ExecuteTime": {
     "end_time": "2020-09-22T15:25:41.828434Z",
     "start_time": "2020-09-22T15:25:41.813424Z"
    }
   },
   "outputs": [
    {
     "name": "stdout",
     "output_type": "stream",
     "text": [
      "{'O': 9, 'X1': 1, 'X2': 1, 'X3': 1, 'F': 1, 'R': 8, 'T': 9, 'U': 9, 'W': 9}\n"
     ]
    }
   ],
   "source": [
    "from constraint import *\n",
    "\n",
    "if __name__ == \"__main__\":\n",
    "    '''\n",
    "        TWO\n",
    "    +   TWO\n",
    "    ________\n",
    "       FOUR\n",
    "    \n",
    "    C1: O + O = R + X1*10\n",
    "    C2: W + W + X1 = U + X2*10\n",
    "    C3: T + T + X2 = O + X3*10 \n",
    "    C4: X3 = F \n",
    "    \n",
    "    Note: Inside the problem.addConstraint(x, y): \n",
    "    \n",
    "    x - expression (boolean); eg. O+O==R+X1*10\n",
    "    y - tuple of elements in expression\n",
    "    '''\n",
    "    \n",
    "    problem = Problem()\n",
    "    \n",
    "    \n",
    "    variables = ['O', 'W', 'U', 'F', 'R', 'T', 'X1','X2', 'X3']\n",
    "    problem.addVariables(variables=variables, domain = range(0,10))\n",
    "    \n",
    "    problem.addConstraint(lambda o, r, x1: o+o==r+x1*10, ('O', 'R', 'X1'))\n",
    "    problem.addConstraint(lambda w, u, x1,x2: w+w+x1==u+x2*10, ('W', 'U', 'X1', 'X2'))    \n",
    "    problem.addConstraint(lambda t, o, x2,x3: t+t+x2==o+x3*10, ('T', 'O', 'X2', 'X3')) \n",
    "    problem.addConstraint(lambda f, x3: x3==f, ('F', 'X3'))\n",
    "    \n",
    "    solution = problem.getSolution()\n",
    "    print(solution)"
   ]
  }
 ],
 "metadata": {
  "kernelspec": {
   "display_name": "Python 3",
   "language": "python",
   "name": "python3"
  },
  "language_info": {
   "codemirror_mode": {
    "name": "ipython",
    "version": 3
   },
   "file_extension": ".py",
   "mimetype": "text/x-python",
   "name": "python",
   "nbconvert_exporter": "python",
   "pygments_lexer": "ipython3",
   "version": "3.7.9"
  },
  "latex_envs": {
   "LaTeX_envs_menu_present": true,
   "autoclose": false,
   "autocomplete": true,
   "bibliofile": "biblio.bib",
   "cite_by": "apalike",
   "current_citInitial": 1,
   "eqLabelWithNumbers": true,
   "eqNumInitial": 1,
   "hotkeys": {
    "equation": "Ctrl-E",
    "itemize": "Ctrl-I"
   },
   "labels_anchors": false,
   "latex_user_defs": false,
   "report_style_numbering": false,
   "user_envs_cfg": false
  },
  "varInspector": {
   "cols": {
    "lenName": 16,
    "lenType": 16,
    "lenVar": 40
   },
   "kernels_config": {
    "python": {
     "delete_cmd_postfix": "",
     "delete_cmd_prefix": "del ",
     "library": "var_list.py",
     "varRefreshCmd": "print(var_dic_list())"
    },
    "r": {
     "delete_cmd_postfix": ") ",
     "delete_cmd_prefix": "rm(",
     "library": "var_list.r",
     "varRefreshCmd": "cat(var_dic_list()) "
    }
   },
   "types_to_exclude": [
    "module",
    "function",
    "builtin_function_or_method",
    "instance",
    "_Feature"
   ],
   "window_display": false
  }
 },
 "nbformat": 4,
 "nbformat_minor": 4
}
