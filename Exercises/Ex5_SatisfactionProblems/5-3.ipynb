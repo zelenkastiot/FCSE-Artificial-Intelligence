{
 "cells": [
  {
   "cell_type": "markdown",
   "metadata": {},
   "source": [
    "# 6-3"
   ]
  },
  {
   "cell_type": "code",
   "execution_count": 27,
   "metadata": {
    "ExecuteTime": {
     "end_time": "2020-09-22T14:21:28.602550Z",
     "start_time": "2020-09-22T14:21:22.585837Z"
    },
    "code_folding": []
   },
   "outputs": [
    {
     "name": "stdout",
     "output_type": "stream",
     "text": [
      "{0: 16, 3: 13, 5: 11, 10: 5, 15: 2, 6: 10, 9: 8, 12: 3, 1: 1, 2: 4, 4: 6, 7: 7, 8: 9, 11: 12, 13: 14, 14: 15}\n"
     ]
    }
   ],
   "source": [
    "from constraint import * \n",
    "\n",
    "if __name__ == \"__main__\":\n",
    "    problem = Problem()\n",
    "    \n",
    "    variables = range(0, 16)\n",
    "    domain = range(1, 17)\n",
    "    \n",
    "    \n",
    "    \n",
    "    problem.addVariables(variables = variables, domain = domain)\n",
    "    \n",
    "    problem.addConstraint(AllDifferentConstraint(), variables)\n",
    "    \n",
    "    # Rows \n",
    "    for j in [[x for x in range(i, i+4)] for i in range(0, 16, 4)]: \n",
    "        problem.addConstraint(ExactSumConstraint(34), j)\n",
    "        \n",
    "    # Columns \n",
    "    for j in [[i+x for x in range(0, 13, 4)] for i in range(0,4)]: \n",
    "        problem.addConstraint(ExactSumConstraint(34), j)\n",
    "    \n",
    "    problem.addConstraint(ExactSumConstraint(34), [0, 5, 10, 15])\n",
    "    problem.addConstraint(ExactSumConstraint(34), [3, 6, 9, 12])\n",
    "    \n",
    "    solution = problem.getSolution()\n",
    "    print(solution)"
   ]
  }
 ],
 "metadata": {
  "kernelspec": {
   "display_name": "Python 3",
   "language": "python",
   "name": "python3"
  },
  "language_info": {
   "codemirror_mode": {
    "name": "ipython",
    "version": 3
   },
   "file_extension": ".py",
   "mimetype": "text/x-python",
   "name": "python",
   "nbconvert_exporter": "python",
   "pygments_lexer": "ipython3",
   "version": "3.7.9"
  },
  "latex_envs": {
   "LaTeX_envs_menu_present": true,
   "autoclose": false,
   "autocomplete": true,
   "bibliofile": "biblio.bib",
   "cite_by": "apalike",
   "current_citInitial": 1,
   "eqLabelWithNumbers": true,
   "eqNumInitial": 1,
   "hotkeys": {
    "equation": "Ctrl-E",
    "itemize": "Ctrl-I"
   },
   "labels_anchors": false,
   "latex_user_defs": false,
   "report_style_numbering": false,
   "user_envs_cfg": false
  },
  "varInspector": {
   "cols": {
    "lenName": 16,
    "lenType": 16,
    "lenVar": 40
   },
   "kernels_config": {
    "python": {
     "delete_cmd_postfix": "",
     "delete_cmd_prefix": "del ",
     "library": "var_list.py",
     "varRefreshCmd": "print(var_dic_list())"
    },
    "r": {
     "delete_cmd_postfix": ") ",
     "delete_cmd_prefix": "rm(",
     "library": "var_list.r",
     "varRefreshCmd": "cat(var_dic_list()) "
    }
   },
   "types_to_exclude": [
    "module",
    "function",
    "builtin_function_or_method",
    "instance",
    "_Feature"
   ],
   "window_display": false
  }
 },
 "nbformat": 4,
 "nbformat_minor": 4
}
