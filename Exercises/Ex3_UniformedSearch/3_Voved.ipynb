{
 "cells": [
  {
   "cell_type": "markdown",
   "metadata": {},
   "source": [
    "# 3. Неиформирано пребарување\n",
    "*** "
   ]
  },
  {
   "cell_type": "markdown",
   "metadata": {},
   "source": [
    "<u>Проблем</u> на пребарување низ простор на состојби се состои од: \n",
    "- **Простор на состојби** (<u><i>state space</i></u>): множество од сите можни состојби \n",
    "- **Почетна состојба** (<u><i>start state</i></u>): состојба од која започнува пребарувањето \n",
    "- **Проверска за постгинување на цел** (<u><i>goal state</i></u>): функција која проверува дали моменталната состојба е цел\n",
    "\n",
    "**Решение** (<u><i>Solution</i></u>) на проблемот на пребарување низ простор на состојби е секвенца од акции, наречена **план**. Планот се креира со помош на алгоритми на пребарување и истиот ја трансформира почетнатата состојба:<br> \n",
    "> **почетната состојба**&rarr;**целна состојба** "
   ]
  },
  {
   "cell_type": "markdown",
   "metadata": {},
   "source": [
    "## Формулација на проблем\n",
    "Дефинирај:\n",
    "- состојба според природата на проблемот \n",
    "- почетна и целна состојба \n",
    "- акции/оператори кои ја менуваат состојбата \n",
    "- легални состојби за проблемот \n",
    "\n",
    "## Состојба во Python\n",
    "Начин за дефинирање на состојба е како <u>торка</u> од нејзините атрибутски вредности. Пример кординати <code>(x,y)</code>\n",
    "\n",
    "## Акција / Оператор\n",
    "Акцијата влијае на состојбата што ги менува атрибутските вредности \n",
    "\n",
    "Пример кај Pacman: North, South, East, West "
   ]
  },
  {
   "cell_type": "markdown",
   "metadata": {},
   "source": [
    "***"
   ]
  },
  {
   "cell_type": "markdown",
   "metadata": {},
   "source": [
    "# Python\n",
    "## Дефинирање на <u>проблем</u>\n",
    "- Дефинираме класа за структурата на проблемот кој ќе го решаваме со пребарување\n",
    "- Класата <code><b>Problem</b></code> е <u>апстрактна</u> класа од која правиме наследување за дефинирање на основните карактеристики на секој еден проблем што сакаме да го решиме \n",
    "\n",
    "## Дефинирање на <u>јазел</u>\n",
    "- Дефинираме класа <code><b>Node</b></code> за структурата на јазел од пребарувачко дрво \n",
    "- Секој јазел содржи: \n",
    " - <code>parent</code>\n",
    " - <code>state</code>\n",
    " - <code>action</code>\n",
    " - <code>cost</code> \n",
    "- Класата <code><b>Node</b></code> не се наследува\n",
    "\n",
    "# Алгоритми \n",
    "1. BFS\n",
    "2. DFS\n",
    "3. Uniform Cost search (UCS)\n",
    "\n",
    "# Алгоритми за Неиформирано пребарување \n",
    "Секој од алгоримите за пребарување ќе има: \n",
    "- **Граф проблем** кој го содржи почениот јазел S и целниот јазел G\n",
    "- **Стратегија** која опишува начниот на изминување\n",
    "- **Податочна структура**\n",
    " - BFS: користи FIFO queue \n",
    " - DFS: користи LIFO queue (Stack)\n",
    " - UCS: користи Priority queue \n",
    "- **Дрво** се добива со изминување на сите јазли до целниот јазел\n",
    "- **План** / Решение, секвенца од јазли од S до G"
   ]
  }
 ],
 "metadata": {
  "kernelspec": {
   "display_name": "Python 3",
   "language": "python",
   "name": "python3"
  },
  "language_info": {
   "codemirror_mode": {
    "name": "ipython",
    "version": 3
   },
   "file_extension": ".py",
   "mimetype": "text/x-python",
   "name": "python",
   "nbconvert_exporter": "python",
   "pygments_lexer": "ipython3",
   "version": "3.7.9"
  },
  "latex_envs": {
   "LaTeX_envs_menu_present": true,
   "autoclose": false,
   "autocomplete": true,
   "bibliofile": "biblio.bib",
   "cite_by": "apalike",
   "current_citInitial": 1,
   "eqLabelWithNumbers": true,
   "eqNumInitial": 1,
   "hotkeys": {
    "equation": "Ctrl-E",
    "itemize": "Ctrl-I"
   },
   "labels_anchors": false,
   "latex_user_defs": false,
   "report_style_numbering": false,
   "user_envs_cfg": false
  },
  "varInspector": {
   "cols": {
    "lenName": 16,
    "lenType": 16,
    "lenVar": 40
   },
   "kernels_config": {
    "python": {
     "delete_cmd_postfix": "",
     "delete_cmd_prefix": "del ",
     "library": "var_list.py",
     "varRefreshCmd": "print(var_dic_list())"
    },
    "r": {
     "delete_cmd_postfix": ") ",
     "delete_cmd_prefix": "rm(",
     "library": "var_list.r",
     "varRefreshCmd": "cat(var_dic_list()) "
    }
   },
   "types_to_exclude": [
    "module",
    "function",
    "builtin_function_or_method",
    "instance",
    "_Feature"
   ],
   "window_display": false
  }
 },
 "nbformat": 4,
 "nbformat_minor": 4
}
