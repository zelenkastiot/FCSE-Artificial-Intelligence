{
 "cells": [
  {
   "cell_type": "markdown",
   "metadata": {},
   "source": [
    "# 3.2. Молекула\n",
    "***"
   ]
  },
  {
   "cell_type": "code",
   "execution_count": null,
   "metadata": {},
   "outputs": [],
   "source": [
    "from utils import *\n",
    "\n",
    "class Molekula(Problem):\n",
    "    def __init__(self, initial, goal=None):\n",
    "        super().__init__(initial,goal)\n",
    "        self.grid = (7,9)\n",
    "        \n",
    "\n",
    "    def successor(self, state):\n",
    "        \"\"\"За дадена состојба, врати речник од парови {акција : состојба}\n",
    "        достапни од оваа состојба. Ако има многу следбеници, употребете\n",
    "        итератор кој би ги генерирал следбениците еден по еден, наместо да\n",
    "        ги генерирате сите одеднаш.\n",
    "\n",
    "        :param state: дадена состојба\n",
    "        :return:  речник од парови {акција : состојба} достапни од оваа\n",
    "                  состојба\n",
    "        :rtype: dict\n",
    "        \"\"\"\n",
    "        successors = {}\n",
    "        return successors\n",
    "\n",
    "    def actions(self, state):\n",
    "        \"\"\"За дадена состојба state, врати листа од сите акции што може да\n",
    "        се применат над таа состојба\n",
    "\n",
    "        :param state: дадена состојба\n",
    "        :return: листа на акции\n",
    "        :rtype: list\n",
    "        \"\"\"\n",
    "        return successor(state).keys()\n",
    "\n",
    "    def result(self, state, action):\n",
    "        \"\"\"За дадена состојба state и акција action, врати ја состојбата\n",
    "        што се добива со примена на акцијата над состојбата\n",
    "\n",
    "        :param state: дадена состојба\n",
    "        :param action: дадена акција\n",
    "        :return: резултантна состојба\n",
    "        \"\"\"\n",
    "        return successor(state)[action]\n",
    "\n",
    "    def goal_test(self, state):\n",
    "        \"\"\"Врати True ако state е целна состојба. Даденава имплементација\n",
    "        на методот директно ја споредува state со self.goal, како што е\n",
    "        специфицирана во конструкторот. Имплементирајте го овој метод ако\n",
    "        проверката со една целна состојба self.goal не е доволна.\n",
    "\n",
    "        :param state: дадена состојба\n",
    "        :return: дали дадената состојба е целна состојба\n",
    "        :rtype: bool\n",
    "        \"\"\"\n",
    "        h1 = state[0]\n",
    "        h2 = state[1]\n",
    "        o = state[2]\n",
    "        \n",
    "        return (h1[1] == h2[1] == o[1]) and (h2[0] == o[0]+1 == h1[0] + 2)\n",
    "\n",
    "if __name__ == 'main':\n",
    "    obstacles_list = [[0, 1], [1, 1], [1, 3], [2, 5], [3, 1], [3, 6], [4, 2],\n",
    "                      [5, 6], [6, 1], [6, 2], [6, 3], [7, 3], [7, 6], [8, 5]]\n",
    "    \n",
    "    h1 = [0,2]\n",
    "    h2 = [4,4]\n",
    "    o = [7,3]\n",
    "    \n",
    "    molekula = Molekula((h1, h2, o, obstacles_list))"
   ]
  }
 ],
 "metadata": {
  "kernelspec": {
   "display_name": "Python 3",
   "language": "python",
   "name": "python3"
  },
  "language_info": {
   "codemirror_mode": {
    "name": "ipython",
    "version": 3
   },
   "file_extension": ".py",
   "mimetype": "text/x-python",
   "name": "python",
   "nbconvert_exporter": "python",
   "pygments_lexer": "ipython3",
   "version": "3.7.9"
  },
  "latex_envs": {
   "LaTeX_envs_menu_present": true,
   "autoclose": false,
   "autocomplete": true,
   "bibliofile": "biblio.bib",
   "cite_by": "apalike",
   "current_citInitial": 1,
   "eqLabelWithNumbers": true,
   "eqNumInitial": 1,
   "hotkeys": {
    "equation": "Ctrl-E",
    "itemize": "Ctrl-I"
   },
   "labels_anchors": false,
   "latex_user_defs": false,
   "report_style_numbering": false,
   "user_envs_cfg": false
  },
  "varInspector": {
   "cols": {
    "lenName": 16,
    "lenType": 16,
    "lenVar": 40
   },
   "kernels_config": {
    "python": {
     "delete_cmd_postfix": "",
     "delete_cmd_prefix": "del ",
     "library": "var_list.py",
     "varRefreshCmd": "print(var_dic_list())"
    },
    "r": {
     "delete_cmd_postfix": ") ",
     "delete_cmd_prefix": "rm(",
     "library": "var_list.r",
     "varRefreshCmd": "cat(var_dic_list()) "
    }
   },
   "types_to_exclude": [
    "module",
    "function",
    "builtin_function_or_method",
    "instance",
    "_Feature"
   ],
   "window_display": false
  }
 },
 "nbformat": 4,
 "nbformat_minor": 4
}
