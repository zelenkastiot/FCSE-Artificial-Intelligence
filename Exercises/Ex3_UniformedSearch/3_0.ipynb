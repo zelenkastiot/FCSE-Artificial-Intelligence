{
 "cells": [
  {
   "cell_type": "markdown",
   "metadata": {},
   "source": [
    "# Проблем: Два сада "
   ]
  },
  {
   "cell_type": "code",
   "execution_count": 15,
   "metadata": {
    "ExecuteTime": {
     "end_time": "2020-09-21T12:29:58.029551Z",
     "start_time": "2020-09-21T12:29:58.011815Z"
    },
    "code_folding": [
     40,
     49,
     58
    ]
   },
   "outputs": [
    {
     "name": "stdout",
     "output_type": "stream",
     "text": [
      "BFS\n",
      "['Preturi od J1 vo J0', 'Isprazni go sadot J1']\n",
      "[(0, 10), (2, 8), (2, 0)]\n",
      "\n",
      "DFS\n",
      "['Preturi od J1 vo J0', 'Isprazni go sadot J1']\n",
      "[(0, 10), (2, 8), (2, 0)]\n"
     ]
    }
   ],
   "source": [
    "from utils import Problem\n",
    "from uninformed_search import *\n",
    "\n",
    "\n",
    "class Container(Problem):\n",
    "    def __init__(self, capacities, initial, goal=None):\n",
    "        super().__init__(initial, goal)\n",
    "        self.capacities = capacities\n",
    "\n",
    "    def successor(self, state):\n",
    "        \"\"\"За дадена состојба, врати речник од парови {акција : состојба}\n",
    "        достапни од оваа состојба. Ако има многу следбеници, употребете\n",
    "        итератор кој би ги генерирал следбениците еден по еден, наместо да\n",
    "        ги генерирате сите одеднаш.\n",
    "        :param state: дадена состојба\n",
    "        :return:  речник од парови {акција : состојба} достапни од оваа\n",
    "                  состојба\n",
    "        :rtype: dict\n",
    "        \"\"\"\n",
    "        successors = dict()\n",
    "\n",
    "        j0, j1 = state\n",
    "        c0, c1 = self.capacities\n",
    "\n",
    "        if j0 > 0:\n",
    "            successors['Isprazni go sadot J0'] = (0, j1)\n",
    "\n",
    "        if j1 > 0:\n",
    "            successors['Isprazni go sadot J1'] = (j0, 0)\n",
    "\n",
    "        if j0 > 0 and j1 < c1:\n",
    "            delta = min(c1 - j1, j0)\n",
    "            successors['Preturi od J0 vo J1'] = (j0 - delta, j1 + delta)\n",
    "\n",
    "        if j1 > 0 and j0 < c0:\n",
    "            delta = min(c0 - j0, j1)\n",
    "            successors['Preturi od J1 vo J0'] = (j0 + delta, j1 - delta)\n",
    "\n",
    "        return successors\n",
    "\n",
    "    def actions(self, state):\n",
    "        \"\"\"За дадена состојба state, врати листа од сите акции што може да\n",
    "        се применат над таа состојба\n",
    "        :param state: дадена состојба\n",
    "        :return: листа на акции\n",
    "        :rtype: list\n",
    "        \"\"\"\n",
    "        return self.successor(state).keys()\n",
    "\n",
    "    def result(self, state, action):\n",
    "        \"\"\"За дадена состојба state и акција action, врати ја состојбата\n",
    "        што се добива со примена на акцијата над состојбата\n",
    "        :param state: дадена состојба\n",
    "        :param action: дадена акција\n",
    "        :return: резултантна состојба\n",
    "        \"\"\"\n",
    "        return self.successor(state)[action]\n",
    "\n",
    "    def goal_test(self, state):\n",
    "        \"\"\"Врати True ако state е целна состојба. Даденава имплементација\n",
    "        на методот директно ја споредува state со self.goal, како што е\n",
    "        специфицирана во конструкторот. Имплементирајте го овој метод ако\n",
    "        проверката со една целна состојба self.goal не е доволна.\n",
    "        :param state: дадена состојба\n",
    "        :return: дали дадената состојба е целна состојба\n",
    "        :rtype: bool\n",
    "        \"\"\"\n",
    "        return state == self.goal\n",
    "\n",
    "\n",
    "if __name__ == '__main__':\n",
    "    container = Container(capacities=[2, 10], initial=(0, 10), goal=(2, 0))\n",
    "    \n",
    "    print(\"BFS\")\n",
    "    result = breadth_first_graph_search(container)\n",
    "    print(result.solution())\n",
    "    print(result.solve())\n",
    "    \n",
    "    print()\n",
    "    print(\"DFS\")\n",
    "    result = depth_first_graph_search(container)\n",
    "    print(result.solution())\n",
    "    print(result.solve())"
   ]
  }
 ],
 "metadata": {
  "kernelspec": {
   "display_name": "Python 3",
   "language": "python",
   "name": "python3"
  },
  "language_info": {
   "codemirror_mode": {
    "name": "ipython",
    "version": 3
   },
   "file_extension": ".py",
   "mimetype": "text/x-python",
   "name": "python",
   "nbconvert_exporter": "python",
   "pygments_lexer": "ipython3",
   "version": "3.7.9"
  },
  "latex_envs": {
   "LaTeX_envs_menu_present": true,
   "autoclose": false,
   "autocomplete": true,
   "bibliofile": "biblio.bib",
   "cite_by": "apalike",
   "current_citInitial": 1,
   "eqLabelWithNumbers": true,
   "eqNumInitial": 1,
   "hotkeys": {
    "equation": "Ctrl-E",
    "itemize": "Ctrl-I"
   },
   "labels_anchors": false,
   "latex_user_defs": false,
   "report_style_numbering": false,
   "user_envs_cfg": false
  },
  "varInspector": {
   "cols": {
    "lenName": 16,
    "lenType": 16,
    "lenVar": 40
   },
   "kernels_config": {
    "python": {
     "delete_cmd_postfix": "",
     "delete_cmd_prefix": "del ",
     "library": "var_list.py",
     "varRefreshCmd": "print(var_dic_list())"
    },
    "r": {
     "delete_cmd_postfix": ") ",
     "delete_cmd_prefix": "rm(",
     "library": "var_list.r",
     "varRefreshCmd": "cat(var_dic_list()) "
    }
   },
   "types_to_exclude": [
    "module",
    "function",
    "builtin_function_or_method",
    "instance",
    "_Feature"
   ],
   "window_display": false
  }
 },
 "nbformat": 4,
 "nbformat_minor": 4
}
