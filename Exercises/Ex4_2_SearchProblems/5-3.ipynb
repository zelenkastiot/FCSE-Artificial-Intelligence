{
 "cells": [
  {
   "cell_type": "markdown",
   "metadata": {},
   "source": [
    "# 5-3"
   ]
  },
  {
   "cell_type": "code",
   "execution_count": 2,
   "metadata": {
    "ExecuteTime": {
     "end_time": "2020-09-22T12:17:25.165662Z",
     "start_time": "2020-09-22T12:17:12.344654Z"
    }
   },
   "outputs": [
    {
     "name": "stdout",
     "output_type": "stream",
     "text": [
      "3\n",
      "0, 0, 0, 1, 0, 0, 1, 1, 0\n",
      "['x: 0, y: 0', 'x: 0, y: 2', 'x: 1, y: 1', 'x: 2, y: 2']\n"
     ]
    }
   ],
   "source": [
    "from utils import Problem\n",
    "from uninformed_search import breadth_first_graph_search\n",
    "\n",
    "\n",
    "class Flip(Problem):\n",
    "    def __init__(self, n, initial, goal=None):\n",
    "        super().__init__(initial, goal)\n",
    "        self.n = n\n",
    "\n",
    "    def successor(self, state):\n",
    "        successor = dict()\n",
    "\n",
    "        for i in range(self.n):\n",
    "            for j in range(self.n):\n",
    "                list_state = [list(s) for s in state]\n",
    "                list_state[i][j] = 0 if list_state[i][j] == 1 else 1\n",
    "                if i > 0:\n",
    "                    list_state[i - 1][j] = 0 if list_state[i - 1][j] == 1 else 1\n",
    "                if i < self.n - 1:\n",
    "                    list_state[i + 1][j] = 0 if list_state[i + 1][j] == 1 else 1\n",
    "                if j > 0:\n",
    "                    list_state[i][j - 1] = 0 if list_state[i][j - 1] == 1 else 1\n",
    "                if j < self.n - 1:\n",
    "                    list_state[i][j + 1] = 0 if list_state[i][j + 1] == 1 else 1\n",
    "                successor[f'x: {i}, y: {j}'] = tuple([tuple(s) for s in list_state])\n",
    "\n",
    "        return successor\n",
    "\n",
    "    def goal_test(self, state):\n",
    "        return sum([item for row in state for item in row]) == self.n * self.n\n",
    "\n",
    "    def actions(self, state):\n",
    "        return self.successor(state).keys()\n",
    "\n",
    "    def result(self, state, action):\n",
    "        return self.successor(state)[action]\n",
    "\n",
    "\n",
    "if __name__ == '__main__':\n",
    "    '''\n",
    "    3\n",
    "    0, 0, 0, 1, 0, 0, 1, 1, 0\n",
    "    '''\n",
    "    n = int(input())\n",
    "    fields = list(map(int, input().split(',')))\n",
    "    initial_state = [tuple(fields[i: i + n]) for i in range(0, len(fields), n)]\n",
    "\n",
    "    flip = Flip(n, tuple(initial_state))\n",
    "\n",
    "    result = breadth_first_graph_search(flip)\n",
    "    print(result.solution())"
   ]
  }
 ],
 "metadata": {
  "kernelspec": {
   "display_name": "Python 3",
   "language": "python",
   "name": "python3"
  },
  "language_info": {
   "codemirror_mode": {
    "name": "ipython",
    "version": 3
   },
   "file_extension": ".py",
   "mimetype": "text/x-python",
   "name": "python",
   "nbconvert_exporter": "python",
   "pygments_lexer": "ipython3",
   "version": "3.7.9"
  },
  "latex_envs": {
   "LaTeX_envs_menu_present": true,
   "autoclose": false,
   "autocomplete": true,
   "bibliofile": "biblio.bib",
   "cite_by": "apalike",
   "current_citInitial": 1,
   "eqLabelWithNumbers": true,
   "eqNumInitial": 1,
   "hotkeys": {
    "equation": "Ctrl-E",
    "itemize": "Ctrl-I"
   },
   "labels_anchors": false,
   "latex_user_defs": false,
   "report_style_numbering": false,
   "user_envs_cfg": false
  },
  "varInspector": {
   "cols": {
    "lenName": 16,
    "lenType": 16,
    "lenVar": 40
   },
   "kernels_config": {
    "python": {
     "delete_cmd_postfix": "",
     "delete_cmd_prefix": "del ",
     "library": "var_list.py",
     "varRefreshCmd": "print(var_dic_list())"
    },
    "r": {
     "delete_cmd_postfix": ") ",
     "delete_cmd_prefix": "rm(",
     "library": "var_list.r",
     "varRefreshCmd": "cat(var_dic_list()) "
    }
   },
   "types_to_exclude": [
    "module",
    "function",
    "builtin_function_or_method",
    "instance",
    "_Feature"
   ],
   "window_display": false
  }
 },
 "nbformat": 4,
 "nbformat_minor": 4
}
