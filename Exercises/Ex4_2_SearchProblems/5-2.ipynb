{
 "cells": [
  {
   "cell_type": "markdown",
   "metadata": {},
   "source": [
    "# 5-2"
   ]
  },
  {
   "cell_type": "code",
   "execution_count": 1,
   "metadata": {
    "ExecuteTime": {
     "end_time": "2020-09-22T12:19:33.550116Z",
     "start_time": "2020-09-22T12:19:15.798061Z"
    }
   },
   "outputs": [
    {
     "name": "stdout",
     "output_type": "stream",
     "text": [
      "3,2,1;;\n",
      ";;3,2,1\n",
      "Number of action 7\n",
      "['MOVE TOP BLOCK FROM PILLAR 1 TO PILLAR 3', 'MOVE TOP BLOCK FROM PILLAR 1 TO PILLAR 2', 'MOVE TOP BLOCK FROM PILLAR 3 TO PILLAR 2', 'MOVE TOP BLOCK FROM PILLAR 1 TO PILLAR 3', 'MOVE TOP BLOCK FROM PILLAR 2 TO PILLAR 1', 'MOVE TOP BLOCK FROM PILLAR 2 TO PILLAR 3', 'MOVE TOP BLOCK FROM PILLAR 1 TO PILLAR 3']\n"
     ]
    }
   ],
   "source": [
    "from utils import Problem\n",
    "from uninformed_search import breadth_first_graph_search\n",
    "\n",
    "\n",
    "class Hanoi(Problem):\n",
    "    def __init__(self, initial, goal):\n",
    "        super().__init__(initial, goal)\n",
    "\n",
    "    def successor(self, state):\n",
    "        successors = {}\n",
    "        tower = list(state)\n",
    "        num_tower = len(tower)\n",
    "\n",
    "        for i in range(num_tower):\n",
    "            if len(tower[i]) == 0:\n",
    "                continue\n",
    "            top_block = tower[i][-1]\n",
    "            for j in range(num_tower):\n",
    "                if i == j:\n",
    "                    continue\n",
    "                tower_size2 = len(tower[j])\n",
    "                if tower_size2 > 0:\n",
    "                    tower_top = tower[j][-1]\n",
    "                else:\n",
    "                    tower_top = -1\n",
    "                if top_block <= tower_top or tower_size2 == 0:\n",
    "                    new_state = list(state)\n",
    "                    new_state[j] = new_state[j] + new_state[i][-1:]\n",
    "                    new_state[i] = new_state[i][:-1]\n",
    "                    new_state = tuple(new_state)\n",
    "                    successors[f'MOVE TOP BLOCK FROM PILLAR {i + 1} TO PILLAR {j + 1}'] = new_state\n",
    "        return successors\n",
    "\n",
    "    def actions(self, state):\n",
    "        return self.successor(state).keys()\n",
    "\n",
    "    def result(self, state, action):\n",
    "        return self.successor(state)[action]\n",
    "\n",
    "\n",
    "if __name__ == \"__main__\":\n",
    "    s = input()\n",
    "    initial_towers = tuple([tuple(map(int, x.split(','))) if x != '' else () for x in s.split(';')])\n",
    "    s = input()\n",
    "    goal_towers = tuple([tuple(map(int, x.split(','))) if x != '' else () for x in s.split(';')])\n",
    "    \"\"\"\n",
    "    3,2,1;;\n",
    "    ;;3,2,1\n",
    "    \"\"\"\n",
    "    hanoi = Hanoi(initial_towers, goal_towers)\n",
    "    result = breadth_first_graph_search(hanoi)\n",
    "    p = result.solution()\n",
    "    print(f'Number of action {len(p)}')\n",
    "    print(p)"
   ]
  }
 ],
 "metadata": {
  "kernelspec": {
   "display_name": "Python 3",
   "language": "python",
   "name": "python3"
  },
  "language_info": {
   "codemirror_mode": {
    "name": "ipython",
    "version": 3
   },
   "file_extension": ".py",
   "mimetype": "text/x-python",
   "name": "python",
   "nbconvert_exporter": "python",
   "pygments_lexer": "ipython3",
   "version": "3.7.9"
  },
  "latex_envs": {
   "LaTeX_envs_menu_present": true,
   "autoclose": false,
   "autocomplete": true,
   "bibliofile": "biblio.bib",
   "cite_by": "apalike",
   "current_citInitial": 1,
   "eqLabelWithNumbers": true,
   "eqNumInitial": 1,
   "hotkeys": {
    "equation": "Ctrl-E",
    "itemize": "Ctrl-I"
   },
   "labels_anchors": false,
   "latex_user_defs": false,
   "report_style_numbering": false,
   "user_envs_cfg": false
  },
  "varInspector": {
   "cols": {
    "lenName": 16,
    "lenType": 16,
    "lenVar": 40
   },
   "kernels_config": {
    "python": {
     "delete_cmd_postfix": "",
     "delete_cmd_prefix": "del ",
     "library": "var_list.py",
     "varRefreshCmd": "print(var_dic_list())"
    },
    "r": {
     "delete_cmd_postfix": ") ",
     "delete_cmd_prefix": "rm(",
     "library": "var_list.r",
     "varRefreshCmd": "cat(var_dic_list()) "
    }
   },
   "types_to_exclude": [
    "module",
    "function",
    "builtin_function_or_method",
    "instance",
    "_Feature"
   ],
   "window_display": false
  }
 },
 "nbformat": 4,
 "nbformat_minor": 4
}
