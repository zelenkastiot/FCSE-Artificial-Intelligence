{
 "cells": [
  {
   "cell_type": "code",
   "execution_count": 5,
   "metadata": {
    "ExecuteTime": {
     "end_time": "2020-09-21T20:51:04.517619Z",
     "start_time": "2020-09-21T20:51:04.502688Z"
    }
   },
   "outputs": [
    {
     "name": "stdout",
     "output_type": "stream",
     "text": [
      "['Farmer_nosi_jare', 'Farmer_nosi_farmer', 'Farmer_nosi_zelka', 'Farmer_nosi_jare', 'Farmer_nosi_volk', 'Farmer_nosi_farmer', 'Farmer_nosi_jare']\n"
     ]
    }
   ],
   "source": [
    "from utils import Problem\n",
    "from informed_search import astar_search\n",
    "\n",
    "\n",
    "def valid(state):\n",
    "    farmer, volk, jare, zelka = state\n",
    "    if volk == jare and farmer != volk:\n",
    "        return False\n",
    "    if jare == zelka and farmer != jare:\n",
    "        return False\n",
    "    return True\n",
    "\n",
    "\n",
    "class Farmer(Problem):\n",
    "    def __init__(self, initial, goal):\n",
    "        super().__init__(initial, goal)\n",
    "\n",
    "    def successor(self, state):\n",
    "        successors = {}\n",
    "        farmer, volk, jare, zelka = state\n",
    "        # Farmerot se prenesuva samiot sebesi\n",
    "        farmer_new = 'e' if farmer == 'w' else 'w'\n",
    "        state_new = farmer_new, volk, jare, zelka\n",
    "        if valid(state_new):\n",
    "            successors['Farmer_nosi_farmer'] = state_new\n",
    "        # Farmerot go prenesuva volkot\n",
    "        if farmer == volk:\n",
    "            volk_new = 'e' if farmer == 'w' else 'w'\n",
    "            state_new = farmer_new, volk_new, jare, zelka\n",
    "            if valid(state_new):\n",
    "                successors['Farmer_nosi_volk'] = state_new\n",
    "        # Farmerot go prenesuva jare\n",
    "        if farmer == jare:\n",
    "            jare_new = 'e' if farmer == 'w' else 'w'\n",
    "            state_new = farmer_new, volk, jare_new, zelka\n",
    "            if valid(state_new):\n",
    "                successors['Farmer_nosi_jare'] = state_new\n",
    "        # Farmerot ja prenesuva zelkata\n",
    "        if farmer == zelka:\n",
    "            zelka_new = 'e' if farmer == 'w' else 'w'\n",
    "            state_new = farmer_new, volk, jare, zelka_new\n",
    "            if valid(state_new):\n",
    "                successors['Farmer_nosi_zelka'] = state_new\n",
    "        return successors\n",
    "\n",
    "    def actions(self, state):\n",
    "        return self.successor(state).keys()\n",
    "\n",
    "    def result(self, state, action):\n",
    "        return self.successor(state)[action]\n",
    "\n",
    "    def h(self, node):\n",
    "        state = node.state\n",
    "        goal = self.goal\n",
    "        value = 0\n",
    "        for x, y in zip(state, goal):\n",
    "            if x != y:\n",
    "                value += 1\n",
    "\n",
    "        return value\n",
    "\n",
    "\n",
    "if __name__ == '__main__':\n",
    "    initial_state = ('e', 'e', 'e', 'e')\n",
    "    goal_state = ('w', 'w', 'w', 'w')\n",
    "\n",
    "    farmer = Farmer(initial_state, goal_state)\n",
    "    answer = astar_search(farmer)\n",
    "    print(answer.solution())"
   ]
  }
 ],
 "metadata": {
  "kernelspec": {
   "display_name": "Python 3",
   "language": "python",
   "name": "python3"
  },
  "language_info": {
   "codemirror_mode": {
    "name": "ipython",
    "version": 3
   },
   "file_extension": ".py",
   "mimetype": "text/x-python",
   "name": "python",
   "nbconvert_exporter": "python",
   "pygments_lexer": "ipython3",
   "version": "3.7.9"
  },
  "latex_envs": {
   "LaTeX_envs_menu_present": true,
   "autoclose": false,
   "autocomplete": true,
   "bibliofile": "biblio.bib",
   "cite_by": "apalike",
   "current_citInitial": 1,
   "eqLabelWithNumbers": true,
   "eqNumInitial": 1,
   "hotkeys": {
    "equation": "Ctrl-E",
    "itemize": "Ctrl-I"
   },
   "labels_anchors": false,
   "latex_user_defs": false,
   "report_style_numbering": false,
   "user_envs_cfg": false
  },
  "varInspector": {
   "cols": {
    "lenName": 16,
    "lenType": 16,
    "lenVar": 40
   },
   "kernels_config": {
    "python": {
     "delete_cmd_postfix": "",
     "delete_cmd_prefix": "del ",
     "library": "var_list.py",
     "varRefreshCmd": "print(var_dic_list())"
    },
    "r": {
     "delete_cmd_postfix": ") ",
     "delete_cmd_prefix": "rm(",
     "library": "var_list.r",
     "varRefreshCmd": "cat(var_dic_list()) "
    }
   },
   "types_to_exclude": [
    "module",
    "function",
    "builtin_function_or_method",
    "instance",
    "_Feature"
   ],
   "window_display": false
  }
 },
 "nbformat": 4,
 "nbformat_minor": 4
}
