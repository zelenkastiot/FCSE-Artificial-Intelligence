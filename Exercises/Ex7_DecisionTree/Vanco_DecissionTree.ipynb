{
 "cells": [
  {
   "cell_type": "markdown",
   "metadata": {},
   "source": [
    "- <code>cars.csv</code>\n",
    "- X% from reader\n",
    "- criterion from reader"
   ]
  },
  {
   "cell_type": "code",
   "execution_count": 38,
   "metadata": {
    "ExecuteTime": {
     "end_time": "2020-09-23T10:02:51.446876Z",
     "start_time": "2020-09-23T10:02:48.400895Z"
    }
   },
   "outputs": [
    {
     "name": "stdout",
     "output_type": "stream",
     "text": [
      "70\n",
      "gini\n",
      "Accuracy:  0.68\n"
     ]
    }
   ],
   "source": [
    "import csv\n",
    "from sklearn.preprocessing import OrdinalEncoder\n",
    "from sklearn.tree import DecisionTreeClassifier\n",
    "from sklearn.metrics import accuracy_score\n",
    "\n",
    "if __name__ == \"__main__\":\n",
    "    with open('car.csv') as csv_file:\n",
    "        csv_reader = csv.reader(csv_file, delimiter = ',')\n",
    "        dataset = list(csv_reader)[1:]\n",
    "        \n",
    "    #Prvo encoder\n",
    "    encoder = OrdinalEncoder()\n",
    "    \n",
    "    encoder.fit([dataset[j][:-1] for j in range(0,len(dataset))])\n",
    "    \n",
    "    #split train i test\n",
    "    #so input()\n",
    "    n = float(input())\n",
    "    n = n/100\n",
    "    train_set = dataset[:int(n*len(dataset))]\n",
    "    test_set = dataset[int(n*len(dataset)):]\n",
    "    \n",
    "    #X i Y\n",
    "    \n",
    "    train_x = [train_set[j][:-1] for j in range(0,len(train_set))]\n",
    "    train_x = encoder.transform(train_x)\n",
    "    \n",
    "    train_y = [train_set[j][-1] for j in range(0,len(train_set))]\n",
    "    \n",
    "    #Classifier\n",
    "    crit = input()\n",
    "    clf = DecisionTreeClassifier(criterion=crit, random_state=0)\n",
    "    clf.fit(train_x, train_y)\n",
    "    \n",
    "    #X2 i Y2\n",
    "    test_x = [test_set[j][:-1] for j in range(0,len(test_set))]\n",
    "    test_x = encoder.transform(test_x)\n",
    "    test_y = [test_set[j][-1] for j in range(0,len(test_set))]\n",
    "    \n",
    "    y_pred = [clf.predict([x])[0] for x in test_x]\n",
    "    \n",
    "    print(f'Accuracy: {accuracy_score(test_y, y_pred, normalize=True): .2f}')"
   ]
  }
 ],
 "metadata": {
  "kernelspec": {
   "display_name": "Python 3",
   "language": "python",
   "name": "python3"
  },
  "language_info": {
   "codemirror_mode": {
    "name": "ipython",
    "version": 3
   },
   "file_extension": ".py",
   "mimetype": "text/x-python",
   "name": "python",
   "nbconvert_exporter": "python",
   "pygments_lexer": "ipython3",
   "version": "3.7.9"
  },
  "latex_envs": {
   "LaTeX_envs_menu_present": true,
   "autoclose": false,
   "autocomplete": true,
   "bibliofile": "biblio.bib",
   "cite_by": "apalike",
   "current_citInitial": 1,
   "eqLabelWithNumbers": true,
   "eqNumInitial": 1,
   "hotkeys": {
    "equation": "Ctrl-E",
    "itemize": "Ctrl-I"
   },
   "labels_anchors": false,
   "latex_user_defs": false,
   "report_style_numbering": false,
   "user_envs_cfg": false
  },
  "varInspector": {
   "cols": {
    "lenName": 16,
    "lenType": 16,
    "lenVar": 40
   },
   "kernels_config": {
    "python": {
     "delete_cmd_postfix": "",
     "delete_cmd_prefix": "del ",
     "library": "var_list.py",
     "varRefreshCmd": "print(var_dic_list())"
    },
    "r": {
     "delete_cmd_postfix": ") ",
     "delete_cmd_prefix": "rm(",
     "library": "var_list.r",
     "varRefreshCmd": "cat(var_dic_list()) "
    }
   },
   "types_to_exclude": [
    "module",
    "function",
    "builtin_function_or_method",
    "instance",
    "_Feature"
   ],
   "window_display": false
  }
 },
 "nbformat": 4,
 "nbformat_minor": 4
}
